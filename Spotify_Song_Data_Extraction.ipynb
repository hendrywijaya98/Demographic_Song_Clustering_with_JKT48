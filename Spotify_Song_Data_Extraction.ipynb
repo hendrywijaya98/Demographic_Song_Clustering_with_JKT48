{
  "cells": [
    {
      "cell_type": "code",
      "execution_count": null,
      "metadata": {
        "id": "aL1gLMw8BVPC"
      },
      "outputs": [],
      "source": [
        "import spotipy\n",
        "from spotipy.oauth2 import SpotifyClientCredentials\n",
        "\n",
        "import pandas as pd"
      ]
    },
    {
      "cell_type": "code",
      "execution_count": null,
      "metadata": {
        "id": "CzJGy9WwBrvx"
      },
      "outputs": [],
      "source": [
        "# spotify object to access API\n",
        "client_credential_manager = SpotifyClientCredentials(client_id='client id',\n",
        "                                    client_secret='client secret')\n",
        "sp = spotipy.Spotify(client_credentials_manager=client_credential_manager)"
      ]
    },
    {
      "cell_type": "markdown",
      "metadata": {
        "id": "5AVZajI0A8Sp"
      },
      "source": [
        "## Demographic Spotify Song by Country"
      ]
    },
    {
      "cell_type": "markdown",
      "metadata": {
        "id": "WxLR539pBBRP"
      },
      "source": [
        "### Indonesian Popular Track Song"
      ]
    },
    {
      "cell_type": "code",
      "execution_count": null,
      "metadata": {
        "colab": {
          "base_uri": "https://localhost:8080/"
        },
        "id": "SFJefetKB1ZG",
        "outputId": "c1b64133-af68-4ddc-ed31-a42497195ea2"
      },
      "outputs": [
        {
          "name": "stdout",
          "output_type": "stream",
          "text": [
            "number of elements in the track_id list : 1000\n"
          ]
        }
      ],
      "source": [
        "# buat list kosong untuk menampung hasil penarikan lagu dari track\n",
        "artist_name1 = []\n",
        "track_name1 = []\n",
        "popularity1 = []\n",
        "track_id1 = []\n",
        "\n",
        "# for in buat fetch data\n",
        "for i in range(0, 1000, 50):\n",
        "    # maksimum offset cuma sampe 1000\n",
        "    track_results1 = sp.search(q='year:2022', type='track',market='ID', limit=50, offset=i)\n",
        "    for i,t in enumerate(track_results1['tracks']['items']):\n",
        "        artist_name1.append(t['artists'][0]['name'])\n",
        "        track_name1.append(t['name'])\n",
        "        track_id1.append(t['id'])\n",
        "        popularity1.append(t['popularity'])\n",
        "\n",
        "# checking the result\n",
        "print(f'number of elements in the track_id list : {len(track_id1)}')"
      ]
    },
    {
      "cell_type": "code",
      "execution_count": null,
      "metadata": {
        "colab": {
          "base_uri": "https://localhost:8080/",
          "height": 206
        },
        "id": "7GUXCItJCbaO",
        "outputId": "b4ddc1dc-dab7-40e9-b721-0412394645da"
      },
      "outputs": [
        {
          "data": {
            "text/html": [
              "\n",
              "  <div id=\"df-62d72611-7965-4a93-a6e2-66c2235909cb\">\n",
              "    <div class=\"colab-df-container\">\n",
              "      <div>\n",
              "<style scoped>\n",
              "    .dataframe tbody tr th:only-of-type {\n",
              "        vertical-align: middle;\n",
              "    }\n",
              "\n",
              "    .dataframe tbody tr th {\n",
              "        vertical-align: top;\n",
              "    }\n",
              "\n",
              "    .dataframe thead th {\n",
              "        text-align: right;\n",
              "    }\n",
              "</style>\n",
              "<table border=\"1\" class=\"dataframe\">\n",
              "  <thead>\n",
              "    <tr style=\"text-align: right;\">\n",
              "      <th></th>\n",
              "      <th>artist name</th>\n",
              "      <th>track name</th>\n",
              "      <th>track id</th>\n",
              "      <th>popularity</th>\n",
              "    </tr>\n",
              "  </thead>\n",
              "  <tbody>\n",
              "    <tr>\n",
              "      <th>0</th>\n",
              "      <td>Keisya Levronka</td>\n",
              "      <td>Tak Ingin Usai</td>\n",
              "      <td>1b0aDgrG775i4sPQgJGmkU</td>\n",
              "      <td>84</td>\n",
              "    </tr>\n",
              "    <tr>\n",
              "      <th>1</th>\n",
              "      <td>Ish Kevin</td>\n",
              "      <td>My Year (2022)</td>\n",
              "      <td>4eHkG6yWQ4pD0zqVkV0R5a</td>\n",
              "      <td>22</td>\n",
              "    </tr>\n",
              "    <tr>\n",
              "      <th>2</th>\n",
              "      <td>Joji</td>\n",
              "      <td>Glimpse of Us</td>\n",
              "      <td>6xGruZOHLs39ZbVccQTuPZ</td>\n",
              "      <td>99</td>\n",
              "    </tr>\n",
              "    <tr>\n",
              "      <th>3</th>\n",
              "      <td>Lana Del Rey</td>\n",
              "      <td>Summertime Sadness (Lana Del Rey Vs. Cedric Ge...</td>\n",
              "      <td>1kA8kyl733T0Qmy8rOIYeM</td>\n",
              "      <td>3</td>\n",
              "    </tr>\n",
              "    <tr>\n",
              "      <th>4</th>\n",
              "      <td>Tulus</td>\n",
              "      <td>Hati-Hati di Jalan</td>\n",
              "      <td>2hHeGD57S0BcopfVcmehdl</td>\n",
              "      <td>82</td>\n",
              "    </tr>\n",
              "  </tbody>\n",
              "</table>\n",
              "</div>\n",
              "      <button class=\"colab-df-convert\" onclick=\"convertToInteractive('df-62d72611-7965-4a93-a6e2-66c2235909cb')\"\n",
              "              title=\"Convert this dataframe to an interactive table.\"\n",
              "              style=\"display:none;\">\n",
              "        \n",
              "  <svg xmlns=\"http://www.w3.org/2000/svg\" height=\"24px\"viewBox=\"0 0 24 24\"\n",
              "       width=\"24px\">\n",
              "    <path d=\"M0 0h24v24H0V0z\" fill=\"none\"/>\n",
              "    <path d=\"M18.56 5.44l.94 2.06.94-2.06 2.06-.94-2.06-.94-.94-2.06-.94 2.06-2.06.94zm-11 1L8.5 8.5l.94-2.06 2.06-.94-2.06-.94L8.5 2.5l-.94 2.06-2.06.94zm10 10l.94 2.06.94-2.06 2.06-.94-2.06-.94-.94-2.06-.94 2.06-2.06.94z\"/><path d=\"M17.41 7.96l-1.37-1.37c-.4-.4-.92-.59-1.43-.59-.52 0-1.04.2-1.43.59L10.3 9.45l-7.72 7.72c-.78.78-.78 2.05 0 2.83L4 21.41c.39.39.9.59 1.41.59.51 0 1.02-.2 1.41-.59l7.78-7.78 2.81-2.81c.8-.78.8-2.07 0-2.86zM5.41 20L4 18.59l7.72-7.72 1.47 1.35L5.41 20z\"/>\n",
              "  </svg>\n",
              "      </button>\n",
              "      \n",
              "  <style>\n",
              "    .colab-df-container {\n",
              "      display:flex;\n",
              "      flex-wrap:wrap;\n",
              "      gap: 12px;\n",
              "    }\n",
              "\n",
              "    .colab-df-convert {\n",
              "      background-color: #E8F0FE;\n",
              "      border: none;\n",
              "      border-radius: 50%;\n",
              "      cursor: pointer;\n",
              "      display: none;\n",
              "      fill: #1967D2;\n",
              "      height: 32px;\n",
              "      padding: 0 0 0 0;\n",
              "      width: 32px;\n",
              "    }\n",
              "\n",
              "    .colab-df-convert:hover {\n",
              "      background-color: #E2EBFA;\n",
              "      box-shadow: 0px 1px 2px rgba(60, 64, 67, 0.3), 0px 1px 3px 1px rgba(60, 64, 67, 0.15);\n",
              "      fill: #174EA6;\n",
              "    }\n",
              "\n",
              "    [theme=dark] .colab-df-convert {\n",
              "      background-color: #3B4455;\n",
              "      fill: #D2E3FC;\n",
              "    }\n",
              "\n",
              "    [theme=dark] .colab-df-convert:hover {\n",
              "      background-color: #434B5C;\n",
              "      box-shadow: 0px 1px 3px 1px rgba(0, 0, 0, 0.15);\n",
              "      filter: drop-shadow(0px 1px 2px rgba(0, 0, 0, 0.3));\n",
              "      fill: #FFFFFF;\n",
              "    }\n",
              "  </style>\n",
              "\n",
              "      <script>\n",
              "        const buttonEl =\n",
              "          document.querySelector('#df-62d72611-7965-4a93-a6e2-66c2235909cb button.colab-df-convert');\n",
              "        buttonEl.style.display =\n",
              "          google.colab.kernel.accessAllowed ? 'block' : 'none';\n",
              "\n",
              "        async function convertToInteractive(key) {\n",
              "          const element = document.querySelector('#df-62d72611-7965-4a93-a6e2-66c2235909cb');\n",
              "          const dataTable =\n",
              "            await google.colab.kernel.invokeFunction('convertToInteractive',\n",
              "                                                     [key], {});\n",
              "          if (!dataTable) return;\n",
              "\n",
              "          const docLinkHtml = 'Like what you see? Visit the ' +\n",
              "            '<a target=\"_blank\" href=https://colab.research.google.com/notebooks/data_table.ipynb>data table notebook</a>'\n",
              "            + ' to learn more about interactive tables.';\n",
              "          element.innerHTML = '';\n",
              "          dataTable['output_type'] = 'display_data';\n",
              "          await google.colab.output.renderOutput(dataTable, element);\n",
              "          const docLink = document.createElement('div');\n",
              "          docLink.innerHTML = docLinkHtml;\n",
              "          element.appendChild(docLink);\n",
              "        }\n",
              "      </script>\n",
              "    </div>\n",
              "  </div>\n",
              "  "
            ],
            "text/plain": [
              "       artist name                                         track name  \\\n",
              "0  Keisya Levronka                                     Tak Ingin Usai   \n",
              "1        Ish Kevin                                     My Year (2022)   \n",
              "2             Joji                                      Glimpse of Us   \n",
              "3     Lana Del Rey  Summertime Sadness (Lana Del Rey Vs. Cedric Ge...   \n",
              "4            Tulus                                 Hati-Hati di Jalan   \n",
              "\n",
              "                 track id  popularity  \n",
              "0  1b0aDgrG775i4sPQgJGmkU          84  \n",
              "1  4eHkG6yWQ4pD0zqVkV0R5a          22  \n",
              "2  6xGruZOHLs39ZbVccQTuPZ          99  \n",
              "3  1kA8kyl733T0Qmy8rOIYeM           3  \n",
              "4  2hHeGD57S0BcopfVcmehdl          82  "
            ]
          },
          "execution_count": 7,
          "metadata": {},
          "output_type": "execute_result"
        }
      ],
      "source": [
        "# tampung semua data hasil tarikan ke dataframe\n",
        "indo_track = pd.DataFrame({'artist name' : artist_name1, 'track name' : track_name1, \n",
        "                          'track id' : track_id1, 'popularity' : popularity1})\n",
        "indo_track.head()"
      ]
    },
    {
      "cell_type": "code",
      "execution_count": null,
      "metadata": {
        "colab": {
          "base_uri": "https://localhost:8080/"
        },
        "id": "dPvo4p0wEH-n",
        "outputId": "f3720e5c-af90-4013-837d-39e3f083a015"
      },
      "outputs": [
        {
          "data": {
            "text/plain": [
              "(1000, 4)"
            ]
          },
          "execution_count": 8,
          "metadata": {},
          "output_type": "execute_result"
        }
      ],
      "source": [
        "# liat jumlah baris dan kolom dari dataframe track\n",
        "indo_track.shape"
      ]
    },
    {
      "cell_type": "code",
      "execution_count": null,
      "metadata": {
        "colab": {
          "base_uri": "https://localhost:8080/"
        },
        "id": "_raYqFJyEO3F",
        "outputId": "3d00e6d2-aea7-429f-8664-55893ea16262"
      },
      "outputs": [
        {
          "name": "stdout",
          "output_type": "stream",
          "text": [
            "<class 'pandas.core.frame.DataFrame'>\n",
            "RangeIndex: 1000 entries, 0 to 999\n",
            "Data columns (total 4 columns):\n",
            " #   Column       Non-Null Count  Dtype \n",
            "---  ------       --------------  ----- \n",
            " 0   artist name  1000 non-null   object\n",
            " 1   track name   1000 non-null   object\n",
            " 2   track id     1000 non-null   object\n",
            " 3   popularity   1000 non-null   int64 \n",
            "dtypes: int64(1), object(3)\n",
            "memory usage: 31.4+ KB\n"
          ]
        }
      ],
      "source": [
        "# liat informasi dataset track\n",
        "indo_track.info()"
      ]
    },
    {
      "cell_type": "code",
      "execution_count": null,
      "metadata": {
        "colab": {
          "base_uri": "https://localhost:8080/"
        },
        "id": "PdHLmmWCEeXJ",
        "outputId": "eda310a8-2ed0-4843-e337-2832e0d8f74e"
      },
      "outputs": [
        {
          "data": {
            "text/plain": [
              "94"
            ]
          },
          "execution_count": 10,
          "metadata": {},
          "output_type": "execute_result"
        }
      ],
      "source": [
        "# groupby berdasarkan nama artist dan nama track untuk memeriksa duplicate\n",
        "grouped_indo = indo_track.groupby(['artist name', 'track name'], as_index=True).size()\n",
        "grouped_indo[grouped_indo > 1].count()"
      ]
    },
    {
      "cell_type": "code",
      "execution_count": null,
      "metadata": {
        "id": "YjR04nxtEmpc"
      },
      "outputs": [],
      "source": [
        "# menghapus duplicate pada nama artist dan nama tracknya\n",
        "indo_track.drop_duplicates(subset=['artist name', 'track name'], inplace=True)"
      ]
    },
    {
      "cell_type": "code",
      "execution_count": null,
      "metadata": {
        "colab": {
          "base_uri": "https://localhost:8080/"
        },
        "id": "wESirDBeE0I-",
        "outputId": "2d319f55-f467-475c-f8bd-5bb21168428f"
      },
      "outputs": [
        {
          "data": {
            "text/plain": [
              "0"
            ]
          },
          "execution_count": 12,
          "metadata": {},
          "output_type": "execute_result"
        }
      ],
      "source": [
        "# groupby berdasarkan nama artist dan nama track buat memeriksa ulang duplicate\n",
        "group_id_after_dropping = indo_track.groupby(['artist name', 'track name'], as_index=True).size()\n",
        "group_id_after_dropping[group_id_after_dropping > 1].count()"
      ]
    },
    {
      "cell_type": "code",
      "execution_count": null,
      "metadata": {
        "colab": {
          "base_uri": "https://localhost:8080/"
        },
        "id": "n3bceYqqE7VE",
        "outputId": "3f51496b-20fb-4bcc-c768-e73ce08ce0e0"
      },
      "outputs": [
        {
          "data": {
            "text/plain": [
              "artist name    0\n",
              "track name     0\n",
              "track id       0\n",
              "popularity     0\n",
              "dtype: int64"
            ]
          },
          "execution_count": 13,
          "metadata": {},
          "output_type": "execute_result"
        }
      ],
      "source": [
        "# check duplicate ulang per kolom berdasasrkan nama artist dan nama track\n",
        "indo_track[indo_track.duplicated(subset=['artist name', 'track name'], keep=False)].count()"
      ]
    },
    {
      "cell_type": "code",
      "execution_count": null,
      "metadata": {
        "colab": {
          "base_uri": "https://localhost:8080/"
        },
        "id": "rmoUiDQiFCCC",
        "outputId": "a11704fc-4c29-42e8-d5be-6a7e0e9598de"
      },
      "outputs": [
        {
          "data": {
            "text/plain": [
              "(754, 4)"
            ]
          },
          "execution_count": 14,
          "metadata": {},
          "output_type": "execute_result"
        }
      ],
      "source": [
        "# liat jumlah baris dan kolom setelah penghapusan duplicate\n",
        "indo_track.shape"
      ]
    },
    {
      "cell_type": "markdown",
      "metadata": {
        "id": "Lk2bpXqPFHf0"
      },
      "source": [
        "Ekstrack Audio Feature nya"
      ]
    },
    {
      "cell_type": "code",
      "execution_count": null,
      "metadata": {
        "colab": {
          "base_uri": "https://localhost:8080/"
        },
        "id": "pup1k95IFP3F",
        "outputId": "d5ffe383-616b-4eab-f18a-99da5d29002e"
      },
      "outputs": [
        {
          "name": "stdout",
          "output_type": "stream",
          "text": [
            "Jumlah track yang bukan Audio Features yang ada : 2\n",
            "jumlah elemen yang ada di dalam list track_id : 752\n"
          ]
        }
      ],
      "source": [
        "# list kosong, 100 batchsize dan counter buat nampung none result\n",
        "row_id = []\n",
        "batch_size = 100\n",
        "# none result berarti yang tidak ada audio features\n",
        "none_counter = 0\n",
        "\n",
        "for i in range(0, len(indo_track['track id']), batch_size):\n",
        "    batch = indo_track['track id'][i:i+batch_size]\n",
        "    feature_results = sp.audio_features(batch)\n",
        "    for i, t in enumerate(feature_results):\n",
        "        # kalau track yang ditarik bukan audio feature\n",
        "        if t == None:\n",
        "            none_counter = none_counter + 1\n",
        "        # kalau track yang ditarik adalah audio feature\n",
        "        else:\n",
        "            row_id.append(t)\n",
        "\n",
        "# liat jumlah track yang bukan fitur audio\n",
        "print(f'Jumlah track yang bukan Audio Features yang ada : {none_counter}')\n",
        "# liat hasil dari jumlah elemen pada track \n",
        "print(f'jumlah elemen yang ada di dalam list track_id : {len(row_id)}')"
      ]
    },
    {
      "cell_type": "code",
      "execution_count": null,
      "metadata": {
        "colab": {
          "base_uri": "https://localhost:8080/",
          "height": 357
        },
        "id": "4beV6TSIFc1b",
        "outputId": "5bb4c5ca-3599-458a-9546-2eae85b14f45"
      },
      "outputs": [
        {
          "data": {
            "text/html": [
              "\n",
              "  <div id=\"df-7f9119c0-3e4f-4a40-8ba4-0b2e02a156f7\">\n",
              "    <div class=\"colab-df-container\">\n",
              "      <div>\n",
              "<style scoped>\n",
              "    .dataframe tbody tr th:only-of-type {\n",
              "        vertical-align: middle;\n",
              "    }\n",
              "\n",
              "    .dataframe tbody tr th {\n",
              "        vertical-align: top;\n",
              "    }\n",
              "\n",
              "    .dataframe thead th {\n",
              "        text-align: right;\n",
              "    }\n",
              "</style>\n",
              "<table border=\"1\" class=\"dataframe\">\n",
              "  <thead>\n",
              "    <tr style=\"text-align: right;\">\n",
              "      <th></th>\n",
              "      <th>danceability</th>\n",
              "      <th>energy</th>\n",
              "      <th>key</th>\n",
              "      <th>loudness</th>\n",
              "      <th>mode</th>\n",
              "      <th>speechiness</th>\n",
              "      <th>acousticness</th>\n",
              "      <th>instrumentalness</th>\n",
              "      <th>liveness</th>\n",
              "      <th>valence</th>\n",
              "      <th>tempo</th>\n",
              "      <th>type</th>\n",
              "      <th>id</th>\n",
              "      <th>uri</th>\n",
              "      <th>track_href</th>\n",
              "      <th>analysis_url</th>\n",
              "      <th>duration_ms</th>\n",
              "      <th>time_signature</th>\n",
              "    </tr>\n",
              "  </thead>\n",
              "  <tbody>\n",
              "    <tr>\n",
              "      <th>0</th>\n",
              "      <td>0.490</td>\n",
              "      <td>0.398</td>\n",
              "      <td>0</td>\n",
              "      <td>-7.712</td>\n",
              "      <td>1</td>\n",
              "      <td>0.0266</td>\n",
              "      <td>0.8150</td>\n",
              "      <td>0.000187</td>\n",
              "      <td>0.114</td>\n",
              "      <td>0.136</td>\n",
              "      <td>129.772</td>\n",
              "      <td>audio_features</td>\n",
              "      <td>1b0aDgrG775i4sPQgJGmkU</td>\n",
              "      <td>spotify:track:1b0aDgrG775i4sPQgJGmkU</td>\n",
              "      <td>https://api.spotify.com/v1/tracks/1b0aDgrG775i...</td>\n",
              "      <td>https://api.spotify.com/v1/audio-analysis/1b0a...</td>\n",
              "      <td>278500</td>\n",
              "      <td>3</td>\n",
              "    </tr>\n",
              "    <tr>\n",
              "      <th>1</th>\n",
              "      <td>0.521</td>\n",
              "      <td>0.683</td>\n",
              "      <td>5</td>\n",
              "      <td>-6.240</td>\n",
              "      <td>0</td>\n",
              "      <td>0.5010</td>\n",
              "      <td>0.1590</td>\n",
              "      <td>0.000000</td>\n",
              "      <td>0.187</td>\n",
              "      <td>0.737</td>\n",
              "      <td>139.439</td>\n",
              "      <td>audio_features</td>\n",
              "      <td>4eHkG6yWQ4pD0zqVkV0R5a</td>\n",
              "      <td>spotify:track:4eHkG6yWQ4pD0zqVkV0R5a</td>\n",
              "      <td>https://api.spotify.com/v1/tracks/4eHkG6yWQ4pD...</td>\n",
              "      <td>https://api.spotify.com/v1/audio-analysis/4eHk...</td>\n",
              "      <td>161808</td>\n",
              "      <td>3</td>\n",
              "    </tr>\n",
              "    <tr>\n",
              "      <th>2</th>\n",
              "      <td>0.440</td>\n",
              "      <td>0.317</td>\n",
              "      <td>8</td>\n",
              "      <td>-9.258</td>\n",
              "      <td>1</td>\n",
              "      <td>0.0531</td>\n",
              "      <td>0.8910</td>\n",
              "      <td>0.000005</td>\n",
              "      <td>0.141</td>\n",
              "      <td>0.268</td>\n",
              "      <td>169.914</td>\n",
              "      <td>audio_features</td>\n",
              "      <td>6xGruZOHLs39ZbVccQTuPZ</td>\n",
              "      <td>spotify:track:6xGruZOHLs39ZbVccQTuPZ</td>\n",
              "      <td>https://api.spotify.com/v1/tracks/6xGruZOHLs39...</td>\n",
              "      <td>https://api.spotify.com/v1/audio-analysis/6xGr...</td>\n",
              "      <td>233456</td>\n",
              "      <td>3</td>\n",
              "    </tr>\n",
              "    <tr>\n",
              "      <th>3</th>\n",
              "      <td>0.572</td>\n",
              "      <td>0.810</td>\n",
              "      <td>1</td>\n",
              "      <td>-5.791</td>\n",
              "      <td>0</td>\n",
              "      <td>0.0557</td>\n",
              "      <td>0.0147</td>\n",
              "      <td>0.000007</td>\n",
              "      <td>0.130</td>\n",
              "      <td>0.106</td>\n",
              "      <td>126.045</td>\n",
              "      <td>audio_features</td>\n",
              "      <td>1kA8kyl733T0Qmy8rOIYeM</td>\n",
              "      <td>spotify:track:1kA8kyl733T0Qmy8rOIYeM</td>\n",
              "      <td>https://api.spotify.com/v1/tracks/1kA8kyl733T0...</td>\n",
              "      <td>https://api.spotify.com/v1/audio-analysis/1kA8...</td>\n",
              "      <td>214912</td>\n",
              "      <td>4</td>\n",
              "    </tr>\n",
              "    <tr>\n",
              "      <th>4</th>\n",
              "      <td>0.643</td>\n",
              "      <td>0.436</td>\n",
              "      <td>6</td>\n",
              "      <td>-11.322</td>\n",
              "      <td>1</td>\n",
              "      <td>0.0357</td>\n",
              "      <td>0.7020</td>\n",
              "      <td>0.088900</td>\n",
              "      <td>0.115</td>\n",
              "      <td>0.755</td>\n",
              "      <td>71.969</td>\n",
              "      <td>audio_features</td>\n",
              "      <td>2hHeGD57S0BcopfVcmehdl</td>\n",
              "      <td>spotify:track:2hHeGD57S0BcopfVcmehdl</td>\n",
              "      <td>https://api.spotify.com/v1/tracks/2hHeGD57S0Bc...</td>\n",
              "      <td>https://api.spotify.com/v1/audio-analysis/2hHe...</td>\n",
              "      <td>242000</td>\n",
              "      <td>4</td>\n",
              "    </tr>\n",
              "  </tbody>\n",
              "</table>\n",
              "</div>\n",
              "      <button class=\"colab-df-convert\" onclick=\"convertToInteractive('df-7f9119c0-3e4f-4a40-8ba4-0b2e02a156f7')\"\n",
              "              title=\"Convert this dataframe to an interactive table.\"\n",
              "              style=\"display:none;\">\n",
              "        \n",
              "  <svg xmlns=\"http://www.w3.org/2000/svg\" height=\"24px\"viewBox=\"0 0 24 24\"\n",
              "       width=\"24px\">\n",
              "    <path d=\"M0 0h24v24H0V0z\" fill=\"none\"/>\n",
              "    <path d=\"M18.56 5.44l.94 2.06.94-2.06 2.06-.94-2.06-.94-.94-2.06-.94 2.06-2.06.94zm-11 1L8.5 8.5l.94-2.06 2.06-.94-2.06-.94L8.5 2.5l-.94 2.06-2.06.94zm10 10l.94 2.06.94-2.06 2.06-.94-2.06-.94-.94-2.06-.94 2.06-2.06.94z\"/><path d=\"M17.41 7.96l-1.37-1.37c-.4-.4-.92-.59-1.43-.59-.52 0-1.04.2-1.43.59L10.3 9.45l-7.72 7.72c-.78.78-.78 2.05 0 2.83L4 21.41c.39.39.9.59 1.41.59.51 0 1.02-.2 1.41-.59l7.78-7.78 2.81-2.81c.8-.78.8-2.07 0-2.86zM5.41 20L4 18.59l7.72-7.72 1.47 1.35L5.41 20z\"/>\n",
              "  </svg>\n",
              "      </button>\n",
              "      \n",
              "  <style>\n",
              "    .colab-df-container {\n",
              "      display:flex;\n",
              "      flex-wrap:wrap;\n",
              "      gap: 12px;\n",
              "    }\n",
              "\n",
              "    .colab-df-convert {\n",
              "      background-color: #E8F0FE;\n",
              "      border: none;\n",
              "      border-radius: 50%;\n",
              "      cursor: pointer;\n",
              "      display: none;\n",
              "      fill: #1967D2;\n",
              "      height: 32px;\n",
              "      padding: 0 0 0 0;\n",
              "      width: 32px;\n",
              "    }\n",
              "\n",
              "    .colab-df-convert:hover {\n",
              "      background-color: #E2EBFA;\n",
              "      box-shadow: 0px 1px 2px rgba(60, 64, 67, 0.3), 0px 1px 3px 1px rgba(60, 64, 67, 0.15);\n",
              "      fill: #174EA6;\n",
              "    }\n",
              "\n",
              "    [theme=dark] .colab-df-convert {\n",
              "      background-color: #3B4455;\n",
              "      fill: #D2E3FC;\n",
              "    }\n",
              "\n",
              "    [theme=dark] .colab-df-convert:hover {\n",
              "      background-color: #434B5C;\n",
              "      box-shadow: 0px 1px 3px 1px rgba(0, 0, 0, 0.15);\n",
              "      filter: drop-shadow(0px 1px 2px rgba(0, 0, 0, 0.3));\n",
              "      fill: #FFFFFF;\n",
              "    }\n",
              "  </style>\n",
              "\n",
              "      <script>\n",
              "        const buttonEl =\n",
              "          document.querySelector('#df-7f9119c0-3e4f-4a40-8ba4-0b2e02a156f7 button.colab-df-convert');\n",
              "        buttonEl.style.display =\n",
              "          google.colab.kernel.accessAllowed ? 'block' : 'none';\n",
              "\n",
              "        async function convertToInteractive(key) {\n",
              "          const element = document.querySelector('#df-7f9119c0-3e4f-4a40-8ba4-0b2e02a156f7');\n",
              "          const dataTable =\n",
              "            await google.colab.kernel.invokeFunction('convertToInteractive',\n",
              "                                                     [key], {});\n",
              "          if (!dataTable) return;\n",
              "\n",
              "          const docLinkHtml = 'Like what you see? Visit the ' +\n",
              "            '<a target=\"_blank\" href=https://colab.research.google.com/notebooks/data_table.ipynb>data table notebook</a>'\n",
              "            + ' to learn more about interactive tables.';\n",
              "          element.innerHTML = '';\n",
              "          dataTable['output_type'] = 'display_data';\n",
              "          await google.colab.output.renderOutput(dataTable, element);\n",
              "          const docLink = document.createElement('div');\n",
              "          docLink.innerHTML = docLinkHtml;\n",
              "          element.appendChild(docLink);\n",
              "        }\n",
              "      </script>\n",
              "    </div>\n",
              "  </div>\n",
              "  "
            ],
            "text/plain": [
              "   danceability  energy  key  loudness  mode  speechiness  acousticness  \\\n",
              "0         0.490   0.398    0    -7.712     1       0.0266        0.8150   \n",
              "1         0.521   0.683    5    -6.240     0       0.5010        0.1590   \n",
              "2         0.440   0.317    8    -9.258     1       0.0531        0.8910   \n",
              "3         0.572   0.810    1    -5.791     0       0.0557        0.0147   \n",
              "4         0.643   0.436    6   -11.322     1       0.0357        0.7020   \n",
              "\n",
              "   instrumentalness  liveness  valence    tempo            type  \\\n",
              "0          0.000187     0.114    0.136  129.772  audio_features   \n",
              "1          0.000000     0.187    0.737  139.439  audio_features   \n",
              "2          0.000005     0.141    0.268  169.914  audio_features   \n",
              "3          0.000007     0.130    0.106  126.045  audio_features   \n",
              "4          0.088900     0.115    0.755   71.969  audio_features   \n",
              "\n",
              "                       id                                   uri  \\\n",
              "0  1b0aDgrG775i4sPQgJGmkU  spotify:track:1b0aDgrG775i4sPQgJGmkU   \n",
              "1  4eHkG6yWQ4pD0zqVkV0R5a  spotify:track:4eHkG6yWQ4pD0zqVkV0R5a   \n",
              "2  6xGruZOHLs39ZbVccQTuPZ  spotify:track:6xGruZOHLs39ZbVccQTuPZ   \n",
              "3  1kA8kyl733T0Qmy8rOIYeM  spotify:track:1kA8kyl733T0Qmy8rOIYeM   \n",
              "4  2hHeGD57S0BcopfVcmehdl  spotify:track:2hHeGD57S0BcopfVcmehdl   \n",
              "\n",
              "                                          track_href  \\\n",
              "0  https://api.spotify.com/v1/tracks/1b0aDgrG775i...   \n",
              "1  https://api.spotify.com/v1/tracks/4eHkG6yWQ4pD...   \n",
              "2  https://api.spotify.com/v1/tracks/6xGruZOHLs39...   \n",
              "3  https://api.spotify.com/v1/tracks/1kA8kyl733T0...   \n",
              "4  https://api.spotify.com/v1/tracks/2hHeGD57S0Bc...   \n",
              "\n",
              "                                        analysis_url  duration_ms  \\\n",
              "0  https://api.spotify.com/v1/audio-analysis/1b0a...       278500   \n",
              "1  https://api.spotify.com/v1/audio-analysis/4eHk...       161808   \n",
              "2  https://api.spotify.com/v1/audio-analysis/6xGr...       233456   \n",
              "3  https://api.spotify.com/v1/audio-analysis/1kA8...       214912   \n",
              "4  https://api.spotify.com/v1/audio-analysis/2hHe...       242000   \n",
              "\n",
              "   time_signature  \n",
              "0               3  \n",
              "1               3  \n",
              "2               3  \n",
              "3               4  \n",
              "4               4  "
            ]
          },
          "execution_count": 16,
          "metadata": {},
          "output_type": "execute_result"
        }
      ],
      "source": [
        "# masukan semua elemen dalam list track ke dalam dataframe\n",
        "indo_aufeat = pd.DataFrame.from_dict(row_id, orient='columns')\n",
        "indo_aufeat.head()"
      ]
    },
    {
      "cell_type": "code",
      "execution_count": null,
      "metadata": {
        "colab": {
          "base_uri": "https://localhost:8080/"
        },
        "id": "TQTGMeGUFvGt",
        "outputId": "50d5ef6c-156a-4cce-ad72-33223095c6c1"
      },
      "outputs": [
        {
          "data": {
            "text/plain": [
              "(752, 18)"
            ]
          },
          "execution_count": 17,
          "metadata": {},
          "output_type": "execute_result"
        }
      ],
      "source": [
        "# liat ukuram jumlah baris dan kolom dari dataframe audio features\n",
        "indo_aufeat.shape"
      ]
    },
    {
      "cell_type": "code",
      "execution_count": null,
      "metadata": {
        "colab": {
          "base_uri": "https://localhost:8080/"
        },
        "id": "K2ZquuDwGxGa",
        "outputId": "1442436b-8dd0-48b6-fc93-7ac124ef055e"
      },
      "outputs": [
        {
          "name": "stdout",
          "output_type": "stream",
          "text": [
            "<class 'pandas.core.frame.DataFrame'>\n",
            "RangeIndex: 752 entries, 0 to 751\n",
            "Data columns (total 18 columns):\n",
            " #   Column            Non-Null Count  Dtype  \n",
            "---  ------            --------------  -----  \n",
            " 0   danceability      752 non-null    float64\n",
            " 1   energy            752 non-null    float64\n",
            " 2   key               752 non-null    int64  \n",
            " 3   loudness          752 non-null    float64\n",
            " 4   mode              752 non-null    int64  \n",
            " 5   speechiness       752 non-null    float64\n",
            " 6   acousticness      752 non-null    float64\n",
            " 7   instrumentalness  752 non-null    float64\n",
            " 8   liveness          752 non-null    float64\n",
            " 9   valence           752 non-null    float64\n",
            " 10  tempo             752 non-null    float64\n",
            " 11  type              752 non-null    object \n",
            " 12  id                752 non-null    object \n",
            " 13  uri               752 non-null    object \n",
            " 14  track_href        752 non-null    object \n",
            " 15  analysis_url      752 non-null    object \n",
            " 16  duration_ms       752 non-null    int64  \n",
            " 17  time_signature    752 non-null    int64  \n",
            "dtypes: float64(9), int64(4), object(5)\n",
            "memory usage: 105.9+ KB\n"
          ]
        }
      ],
      "source": [
        "# liat info dari dataframe audio feature\n",
        "indo_aufeat.info()"
      ]
    },
    {
      "cell_type": "code",
      "execution_count": null,
      "metadata": {
        "colab": {
          "base_uri": "https://localhost:8080/"
        },
        "id": "RN5mpoPYG1wb",
        "outputId": "40218437-79ac-489c-b6da-24039c6c9fc1"
      },
      "outputs": [
        {
          "data": {
            "text/plain": [
              "(752, 14)"
            ]
          },
          "execution_count": 19,
          "metadata": {},
          "output_type": "execute_result"
        }
      ],
      "source": [
        "# menghapus kolom yang tidak digunakan\n",
        "columns_to_drop = ['analysis_url', 'track_href', 'type', 'uri']\n",
        "\n",
        "indo_aufeat.drop(columns_to_drop, axis=1, inplace=True)\n",
        "# mengganti kolom id jadi id track\n",
        "indo_aufeat.rename(columns={'id': 'track id'}, inplace=True)\n",
        "indo_aufeat.shape"
      ]
    },
    {
      "cell_type": "code",
      "execution_count": null,
      "metadata": {
        "colab": {
          "base_uri": "https://localhost:8080/",
          "height": 426
        },
        "id": "Er7F5Uf_HPgp",
        "outputId": "814a7f67-3447-4394-bfe9-671750cbac67"
      },
      "outputs": [
        {
          "data": {
            "text/html": [
              "\n",
              "  <div id=\"df-e1cf64aa-4191-456e-990d-8a0168f96a80\">\n",
              "    <div class=\"colab-df-container\">\n",
              "      <div>\n",
              "<style scoped>\n",
              "    .dataframe tbody tr th:only-of-type {\n",
              "        vertical-align: middle;\n",
              "    }\n",
              "\n",
              "    .dataframe tbody tr th {\n",
              "        vertical-align: top;\n",
              "    }\n",
              "\n",
              "    .dataframe thead th {\n",
              "        text-align: right;\n",
              "    }\n",
              "</style>\n",
              "<table border=\"1\" class=\"dataframe\">\n",
              "  <thead>\n",
              "    <tr style=\"text-align: right;\">\n",
              "      <th></th>\n",
              "      <th>artist name</th>\n",
              "      <th>track name</th>\n",
              "      <th>track id</th>\n",
              "      <th>popularity</th>\n",
              "      <th>danceability</th>\n",
              "      <th>energy</th>\n",
              "      <th>key</th>\n",
              "      <th>loudness</th>\n",
              "      <th>mode</th>\n",
              "      <th>speechiness</th>\n",
              "      <th>acousticness</th>\n",
              "      <th>instrumentalness</th>\n",
              "      <th>liveness</th>\n",
              "      <th>valence</th>\n",
              "      <th>tempo</th>\n",
              "      <th>duration_ms</th>\n",
              "      <th>time_signature</th>\n",
              "    </tr>\n",
              "  </thead>\n",
              "  <tbody>\n",
              "    <tr>\n",
              "      <th>0</th>\n",
              "      <td>Keisya Levronka</td>\n",
              "      <td>Tak Ingin Usai</td>\n",
              "      <td>1b0aDgrG775i4sPQgJGmkU</td>\n",
              "      <td>84</td>\n",
              "      <td>0.490</td>\n",
              "      <td>0.398</td>\n",
              "      <td>0</td>\n",
              "      <td>-7.712</td>\n",
              "      <td>1</td>\n",
              "      <td>0.0266</td>\n",
              "      <td>0.8150</td>\n",
              "      <td>0.000187</td>\n",
              "      <td>0.114</td>\n",
              "      <td>0.136</td>\n",
              "      <td>129.772</td>\n",
              "      <td>278500</td>\n",
              "      <td>3</td>\n",
              "    </tr>\n",
              "    <tr>\n",
              "      <th>1</th>\n",
              "      <td>Ish Kevin</td>\n",
              "      <td>My Year (2022)</td>\n",
              "      <td>4eHkG6yWQ4pD0zqVkV0R5a</td>\n",
              "      <td>22</td>\n",
              "      <td>0.521</td>\n",
              "      <td>0.683</td>\n",
              "      <td>5</td>\n",
              "      <td>-6.240</td>\n",
              "      <td>0</td>\n",
              "      <td>0.5010</td>\n",
              "      <td>0.1590</td>\n",
              "      <td>0.000000</td>\n",
              "      <td>0.187</td>\n",
              "      <td>0.737</td>\n",
              "      <td>139.439</td>\n",
              "      <td>161808</td>\n",
              "      <td>3</td>\n",
              "    </tr>\n",
              "    <tr>\n",
              "      <th>2</th>\n",
              "      <td>Joji</td>\n",
              "      <td>Glimpse of Us</td>\n",
              "      <td>6xGruZOHLs39ZbVccQTuPZ</td>\n",
              "      <td>99</td>\n",
              "      <td>0.440</td>\n",
              "      <td>0.317</td>\n",
              "      <td>8</td>\n",
              "      <td>-9.258</td>\n",
              "      <td>1</td>\n",
              "      <td>0.0531</td>\n",
              "      <td>0.8910</td>\n",
              "      <td>0.000005</td>\n",
              "      <td>0.141</td>\n",
              "      <td>0.268</td>\n",
              "      <td>169.914</td>\n",
              "      <td>233456</td>\n",
              "      <td>3</td>\n",
              "    </tr>\n",
              "    <tr>\n",
              "      <th>3</th>\n",
              "      <td>Lana Del Rey</td>\n",
              "      <td>Summertime Sadness (Lana Del Rey Vs. Cedric Ge...</td>\n",
              "      <td>1kA8kyl733T0Qmy8rOIYeM</td>\n",
              "      <td>3</td>\n",
              "      <td>0.572</td>\n",
              "      <td>0.810</td>\n",
              "      <td>1</td>\n",
              "      <td>-5.791</td>\n",
              "      <td>0</td>\n",
              "      <td>0.0557</td>\n",
              "      <td>0.0147</td>\n",
              "      <td>0.000007</td>\n",
              "      <td>0.130</td>\n",
              "      <td>0.106</td>\n",
              "      <td>126.045</td>\n",
              "      <td>214912</td>\n",
              "      <td>4</td>\n",
              "    </tr>\n",
              "    <tr>\n",
              "      <th>4</th>\n",
              "      <td>Tulus</td>\n",
              "      <td>Hati-Hati di Jalan</td>\n",
              "      <td>2hHeGD57S0BcopfVcmehdl</td>\n",
              "      <td>82</td>\n",
              "      <td>0.643</td>\n",
              "      <td>0.436</td>\n",
              "      <td>6</td>\n",
              "      <td>-11.322</td>\n",
              "      <td>1</td>\n",
              "      <td>0.0357</td>\n",
              "      <td>0.7020</td>\n",
              "      <td>0.088900</td>\n",
              "      <td>0.115</td>\n",
              "      <td>0.755</td>\n",
              "      <td>71.969</td>\n",
              "      <td>242000</td>\n",
              "      <td>4</td>\n",
              "    </tr>\n",
              "  </tbody>\n",
              "</table>\n",
              "</div>\n",
              "      <button class=\"colab-df-convert\" onclick=\"convertToInteractive('df-e1cf64aa-4191-456e-990d-8a0168f96a80')\"\n",
              "              title=\"Convert this dataframe to an interactive table.\"\n",
              "              style=\"display:none;\">\n",
              "        \n",
              "  <svg xmlns=\"http://www.w3.org/2000/svg\" height=\"24px\"viewBox=\"0 0 24 24\"\n",
              "       width=\"24px\">\n",
              "    <path d=\"M0 0h24v24H0V0z\" fill=\"none\"/>\n",
              "    <path d=\"M18.56 5.44l.94 2.06.94-2.06 2.06-.94-2.06-.94-.94-2.06-.94 2.06-2.06.94zm-11 1L8.5 8.5l.94-2.06 2.06-.94-2.06-.94L8.5 2.5l-.94 2.06-2.06.94zm10 10l.94 2.06.94-2.06 2.06-.94-2.06-.94-.94-2.06-.94 2.06-2.06.94z\"/><path d=\"M17.41 7.96l-1.37-1.37c-.4-.4-.92-.59-1.43-.59-.52 0-1.04.2-1.43.59L10.3 9.45l-7.72 7.72c-.78.78-.78 2.05 0 2.83L4 21.41c.39.39.9.59 1.41.59.51 0 1.02-.2 1.41-.59l7.78-7.78 2.81-2.81c.8-.78.8-2.07 0-2.86zM5.41 20L4 18.59l7.72-7.72 1.47 1.35L5.41 20z\"/>\n",
              "  </svg>\n",
              "      </button>\n",
              "      \n",
              "  <style>\n",
              "    .colab-df-container {\n",
              "      display:flex;\n",
              "      flex-wrap:wrap;\n",
              "      gap: 12px;\n",
              "    }\n",
              "\n",
              "    .colab-df-convert {\n",
              "      background-color: #E8F0FE;\n",
              "      border: none;\n",
              "      border-radius: 50%;\n",
              "      cursor: pointer;\n",
              "      display: none;\n",
              "      fill: #1967D2;\n",
              "      height: 32px;\n",
              "      padding: 0 0 0 0;\n",
              "      width: 32px;\n",
              "    }\n",
              "\n",
              "    .colab-df-convert:hover {\n",
              "      background-color: #E2EBFA;\n",
              "      box-shadow: 0px 1px 2px rgba(60, 64, 67, 0.3), 0px 1px 3px 1px rgba(60, 64, 67, 0.15);\n",
              "      fill: #174EA6;\n",
              "    }\n",
              "\n",
              "    [theme=dark] .colab-df-convert {\n",
              "      background-color: #3B4455;\n",
              "      fill: #D2E3FC;\n",
              "    }\n",
              "\n",
              "    [theme=dark] .colab-df-convert:hover {\n",
              "      background-color: #434B5C;\n",
              "      box-shadow: 0px 1px 3px 1px rgba(0, 0, 0, 0.15);\n",
              "      filter: drop-shadow(0px 1px 2px rgba(0, 0, 0, 0.3));\n",
              "      fill: #FFFFFF;\n",
              "    }\n",
              "  </style>\n",
              "\n",
              "      <script>\n",
              "        const buttonEl =\n",
              "          document.querySelector('#df-e1cf64aa-4191-456e-990d-8a0168f96a80 button.colab-df-convert');\n",
              "        buttonEl.style.display =\n",
              "          google.colab.kernel.accessAllowed ? 'block' : 'none';\n",
              "\n",
              "        async function convertToInteractive(key) {\n",
              "          const element = document.querySelector('#df-e1cf64aa-4191-456e-990d-8a0168f96a80');\n",
              "          const dataTable =\n",
              "            await google.colab.kernel.invokeFunction('convertToInteractive',\n",
              "                                                     [key], {});\n",
              "          if (!dataTable) return;\n",
              "\n",
              "          const docLinkHtml = 'Like what you see? Visit the ' +\n",
              "            '<a target=\"_blank\" href=https://colab.research.google.com/notebooks/data_table.ipynb>data table notebook</a>'\n",
              "            + ' to learn more about interactive tables.';\n",
              "          element.innerHTML = '';\n",
              "          dataTable['output_type'] = 'display_data';\n",
              "          await google.colab.output.renderOutput(dataTable, element);\n",
              "          const docLink = document.createElement('div');\n",
              "          docLink.innerHTML = docLinkHtml;\n",
              "          element.appendChild(docLink);\n",
              "        }\n",
              "      </script>\n",
              "    </div>\n",
              "  </div>\n",
              "  "
            ],
            "text/plain": [
              "       artist name                                         track name  \\\n",
              "0  Keisya Levronka                                     Tak Ingin Usai   \n",
              "1        Ish Kevin                                     My Year (2022)   \n",
              "2             Joji                                      Glimpse of Us   \n",
              "3     Lana Del Rey  Summertime Sadness (Lana Del Rey Vs. Cedric Ge...   \n",
              "4            Tulus                                 Hati-Hati di Jalan   \n",
              "\n",
              "                 track id  popularity  danceability  energy  key  loudness  \\\n",
              "0  1b0aDgrG775i4sPQgJGmkU          84         0.490   0.398    0    -7.712   \n",
              "1  4eHkG6yWQ4pD0zqVkV0R5a          22         0.521   0.683    5    -6.240   \n",
              "2  6xGruZOHLs39ZbVccQTuPZ          99         0.440   0.317    8    -9.258   \n",
              "3  1kA8kyl733T0Qmy8rOIYeM           3         0.572   0.810    1    -5.791   \n",
              "4  2hHeGD57S0BcopfVcmehdl          82         0.643   0.436    6   -11.322   \n",
              "\n",
              "   mode  speechiness  acousticness  instrumentalness  liveness  valence  \\\n",
              "0     1       0.0266        0.8150          0.000187     0.114    0.136   \n",
              "1     0       0.5010        0.1590          0.000000     0.187    0.737   \n",
              "2     1       0.0531        0.8910          0.000005     0.141    0.268   \n",
              "3     0       0.0557        0.0147          0.000007     0.130    0.106   \n",
              "4     1       0.0357        0.7020          0.088900     0.115    0.755   \n",
              "\n",
              "     tempo  duration_ms  time_signature  \n",
              "0  129.772       278500               3  \n",
              "1  139.439       161808               3  \n",
              "2  169.914       233456               3  \n",
              "3  126.045       214912               4  \n",
              "4   71.969       242000               4  "
            ]
          },
          "execution_count": 20,
          "metadata": {},
          "output_type": "execute_result"
        }
      ],
      "source": [
        "# merge dataframe, antara df track dan fitur audio\n",
        "# metode 'inner' memastikan kalau cuma keep track id yang sekarang di kedua dataset\n",
        "indo_song_df = pd.merge(indo_track, indo_aufeat, on='track id', how='inner')\n",
        "indo_song_df.head()"
      ]
    },
    {
      "cell_type": "code",
      "execution_count": null,
      "metadata": {
        "colab": {
          "base_uri": "https://localhost:8080/"
        },
        "id": "y8AmZQrgITzJ",
        "outputId": "352f4908-96d1-431d-9402-1e5bd26679aa"
      },
      "outputs": [
        {
          "data": {
            "text/plain": [
              "(752, 14)"
            ]
          },
          "execution_count": 21,
          "metadata": {},
          "output_type": "execute_result"
        }
      ],
      "source": [
        "# liat ukuran jumlah baris dan kolom dataframe audio features\n",
        "indo_aufeat.shape"
      ]
    },
    {
      "cell_type": "code",
      "execution_count": null,
      "metadata": {
        "colab": {
          "base_uri": "https://localhost:8080/"
        },
        "id": "O1JZk6D5IVPk",
        "outputId": "cba2015b-6150-4da1-9042-7804e7195285"
      },
      "outputs": [
        {
          "name": "stdout",
          "output_type": "stream",
          "text": [
            "<class 'pandas.core.frame.DataFrame'>\n",
            "Int64Index: 752 entries, 0 to 751\n",
            "Data columns (total 17 columns):\n",
            " #   Column            Non-Null Count  Dtype  \n",
            "---  ------            --------------  -----  \n",
            " 0   artist name       752 non-null    object \n",
            " 1   track name        752 non-null    object \n",
            " 2   track id          752 non-null    object \n",
            " 3   popularity        752 non-null    int64  \n",
            " 4   danceability      752 non-null    float64\n",
            " 5   energy            752 non-null    float64\n",
            " 6   key               752 non-null    int64  \n",
            " 7   loudness          752 non-null    float64\n",
            " 8   mode              752 non-null    int64  \n",
            " 9   speechiness       752 non-null    float64\n",
            " 10  acousticness      752 non-null    float64\n",
            " 11  instrumentalness  752 non-null    float64\n",
            " 12  liveness          752 non-null    float64\n",
            " 13  valence           752 non-null    float64\n",
            " 14  tempo             752 non-null    float64\n",
            " 15  duration_ms       752 non-null    int64  \n",
            " 16  time_signature    752 non-null    int64  \n",
            "dtypes: float64(9), int64(5), object(3)\n",
            "memory usage: 105.8+ KB\n"
          ]
        }
      ],
      "source": [
        "# liat info dataframe gabungan \n",
        "indo_song_df.info()"
      ]
    },
    {
      "cell_type": "code",
      "execution_count": null,
      "metadata": {
        "colab": {
          "base_uri": "https://localhost:8080/"
        },
        "id": "aE-PwR4NIWnk",
        "outputId": "2ca0e958-ed7e-4a37-d740-979b7a1701d9"
      },
      "outputs": [
        {
          "data": {
            "text/plain": [
              "artist name         0\n",
              "track name          0\n",
              "track id            0\n",
              "popularity          0\n",
              "danceability        0\n",
              "energy              0\n",
              "key                 0\n",
              "loudness            0\n",
              "mode                0\n",
              "speechiness         0\n",
              "acousticness        0\n",
              "instrumentalness    0\n",
              "liveness            0\n",
              "valence             0\n",
              "tempo               0\n",
              "duration_ms         0\n",
              "time_signature      0\n",
              "dtype: int64"
            ]
          },
          "execution_count": 23,
          "metadata": {},
          "output_type": "execute_result"
        }
      ],
      "source": [
        "# periksa jumlah duplicate pada kolom artist name dan track name\n",
        "indo_song_df[indo_song_df.duplicated(subset=['artist name', 'track name'], keep=False)].count()"
      ]
    },
    {
      "cell_type": "markdown",
      "metadata": {
        "id": "JOmQwm_YBDao"
      },
      "source": [
        "### Korean Popular Track Song"
      ]
    },
    {
      "cell_type": "code",
      "execution_count": null,
      "metadata": {
        "colab": {
          "base_uri": "https://localhost:8080/"
        },
        "id": "8zIypzLKCkCR",
        "outputId": "b5a3d210-778d-4312-97bd-6e2cb3e930a1"
      },
      "outputs": [
        {
          "name": "stdout",
          "output_type": "stream",
          "text": [
            "number of elements in the track_id list : 1000\n"
          ]
        }
      ],
      "source": [
        "# buat list kosong untuk menampung hasil penarikan lagu dari track\n",
        "artist_name2 = []\n",
        "track_name2 = []\n",
        "popularity2 = []\n",
        "track_id2 = []\n",
        "\n",
        "# for in buat fetch data\n",
        "for i in range(0, 1000, 50):\n",
        "    # maksimum offset cuma sampe 1000\n",
        "    track_results2 = sp.search(q='year:2022', type='track',market='KR', limit=50, offset=i)\n",
        "    for i,t in enumerate(track_results2['tracks']['items']):\n",
        "        artist_name2.append(t['artists'][0]['name'])\n",
        "        track_name2.append(t['name'])\n",
        "        track_id2.append(t['id'])\n",
        "        popularity2.append(t['popularity'])\n",
        "\n",
        "# checking the result\n",
        "print(f'number of elements in the track_id list : {len(track_id2)}')"
      ]
    },
    {
      "cell_type": "code",
      "execution_count": null,
      "metadata": {
        "colab": {
          "base_uri": "https://localhost:8080/",
          "height": 206
        },
        "id": "USLgPlerC2jG",
        "outputId": "b82c684b-19db-4ae8-d7d5-35d2b6b62ba1"
      },
      "outputs": [
        {
          "data": {
            "text/html": [
              "\n",
              "  <div id=\"df-9741547e-e2de-4c2d-bfa7-827b6d38e663\">\n",
              "    <div class=\"colab-df-container\">\n",
              "      <div>\n",
              "<style scoped>\n",
              "    .dataframe tbody tr th:only-of-type {\n",
              "        vertical-align: middle;\n",
              "    }\n",
              "\n",
              "    .dataframe tbody tr th {\n",
              "        vertical-align: top;\n",
              "    }\n",
              "\n",
              "    .dataframe thead th {\n",
              "        text-align: right;\n",
              "    }\n",
              "</style>\n",
              "<table border=\"1\" class=\"dataframe\">\n",
              "  <thead>\n",
              "    <tr style=\"text-align: right;\">\n",
              "      <th></th>\n",
              "      <th>artist name</th>\n",
              "      <th>track name</th>\n",
              "      <th>track id</th>\n",
              "      <th>popularity</th>\n",
              "    </tr>\n",
              "  </thead>\n",
              "  <tbody>\n",
              "    <tr>\n",
              "      <th>0</th>\n",
              "      <td>Jimin</td>\n",
              "      <td>With you</td>\n",
              "      <td>2gzhQaCTeNgxpeB2TPllyY</td>\n",
              "      <td>86</td>\n",
              "    </tr>\n",
              "    <tr>\n",
              "      <th>1</th>\n",
              "      <td>Ish Kevin</td>\n",
              "      <td>My Year (2022)</td>\n",
              "      <td>4eHkG6yWQ4pD0zqVkV0R5a</td>\n",
              "      <td>22</td>\n",
              "    </tr>\n",
              "    <tr>\n",
              "      <th>2</th>\n",
              "      <td>Charlie Puth</td>\n",
              "      <td>Left and Right (Feat. Jung Kook of BTS)</td>\n",
              "      <td>0mBP9X2gPCuapvpZ7TGDk3</td>\n",
              "      <td>94</td>\n",
              "    </tr>\n",
              "    <tr>\n",
              "      <th>3</th>\n",
              "      <td>Lana Del Rey</td>\n",
              "      <td>Summertime Sadness (Lana Del Rey Vs. Cedric Ge...</td>\n",
              "      <td>1kA8kyl733T0Qmy8rOIYeM</td>\n",
              "      <td>3</td>\n",
              "    </tr>\n",
              "    <tr>\n",
              "      <th>4</th>\n",
              "      <td>BTS</td>\n",
              "      <td>Yet To Come</td>\n",
              "      <td>10SRMwb9EuVS1K9rYsBfHQ</td>\n",
              "      <td>93</td>\n",
              "    </tr>\n",
              "  </tbody>\n",
              "</table>\n",
              "</div>\n",
              "      <button class=\"colab-df-convert\" onclick=\"convertToInteractive('df-9741547e-e2de-4c2d-bfa7-827b6d38e663')\"\n",
              "              title=\"Convert this dataframe to an interactive table.\"\n",
              "              style=\"display:none;\">\n",
              "        \n",
              "  <svg xmlns=\"http://www.w3.org/2000/svg\" height=\"24px\"viewBox=\"0 0 24 24\"\n",
              "       width=\"24px\">\n",
              "    <path d=\"M0 0h24v24H0V0z\" fill=\"none\"/>\n",
              "    <path d=\"M18.56 5.44l.94 2.06.94-2.06 2.06-.94-2.06-.94-.94-2.06-.94 2.06-2.06.94zm-11 1L8.5 8.5l.94-2.06 2.06-.94-2.06-.94L8.5 2.5l-.94 2.06-2.06.94zm10 10l.94 2.06.94-2.06 2.06-.94-2.06-.94-.94-2.06-.94 2.06-2.06.94z\"/><path d=\"M17.41 7.96l-1.37-1.37c-.4-.4-.92-.59-1.43-.59-.52 0-1.04.2-1.43.59L10.3 9.45l-7.72 7.72c-.78.78-.78 2.05 0 2.83L4 21.41c.39.39.9.59 1.41.59.51 0 1.02-.2 1.41-.59l7.78-7.78 2.81-2.81c.8-.78.8-2.07 0-2.86zM5.41 20L4 18.59l7.72-7.72 1.47 1.35L5.41 20z\"/>\n",
              "  </svg>\n",
              "      </button>\n",
              "      \n",
              "  <style>\n",
              "    .colab-df-container {\n",
              "      display:flex;\n",
              "      flex-wrap:wrap;\n",
              "      gap: 12px;\n",
              "    }\n",
              "\n",
              "    .colab-df-convert {\n",
              "      background-color: #E8F0FE;\n",
              "      border: none;\n",
              "      border-radius: 50%;\n",
              "      cursor: pointer;\n",
              "      display: none;\n",
              "      fill: #1967D2;\n",
              "      height: 32px;\n",
              "      padding: 0 0 0 0;\n",
              "      width: 32px;\n",
              "    }\n",
              "\n",
              "    .colab-df-convert:hover {\n",
              "      background-color: #E2EBFA;\n",
              "      box-shadow: 0px 1px 2px rgba(60, 64, 67, 0.3), 0px 1px 3px 1px rgba(60, 64, 67, 0.15);\n",
              "      fill: #174EA6;\n",
              "    }\n",
              "\n",
              "    [theme=dark] .colab-df-convert {\n",
              "      background-color: #3B4455;\n",
              "      fill: #D2E3FC;\n",
              "    }\n",
              "\n",
              "    [theme=dark] .colab-df-convert:hover {\n",
              "      background-color: #434B5C;\n",
              "      box-shadow: 0px 1px 3px 1px rgba(0, 0, 0, 0.15);\n",
              "      filter: drop-shadow(0px 1px 2px rgba(0, 0, 0, 0.3));\n",
              "      fill: #FFFFFF;\n",
              "    }\n",
              "  </style>\n",
              "\n",
              "      <script>\n",
              "        const buttonEl =\n",
              "          document.querySelector('#df-9741547e-e2de-4c2d-bfa7-827b6d38e663 button.colab-df-convert');\n",
              "        buttonEl.style.display =\n",
              "          google.colab.kernel.accessAllowed ? 'block' : 'none';\n",
              "\n",
              "        async function convertToInteractive(key) {\n",
              "          const element = document.querySelector('#df-9741547e-e2de-4c2d-bfa7-827b6d38e663');\n",
              "          const dataTable =\n",
              "            await google.colab.kernel.invokeFunction('convertToInteractive',\n",
              "                                                     [key], {});\n",
              "          if (!dataTable) return;\n",
              "\n",
              "          const docLinkHtml = 'Like what you see? Visit the ' +\n",
              "            '<a target=\"_blank\" href=https://colab.research.google.com/notebooks/data_table.ipynb>data table notebook</a>'\n",
              "            + ' to learn more about interactive tables.';\n",
              "          element.innerHTML = '';\n",
              "          dataTable['output_type'] = 'display_data';\n",
              "          await google.colab.output.renderOutput(dataTable, element);\n",
              "          const docLink = document.createElement('div');\n",
              "          docLink.innerHTML = docLinkHtml;\n",
              "          element.appendChild(docLink);\n",
              "        }\n",
              "      </script>\n",
              "    </div>\n",
              "  </div>\n",
              "  "
            ],
            "text/plain": [
              "    artist name                                         track name  \\\n",
              "0         Jimin                                           With you   \n",
              "1     Ish Kevin                                     My Year (2022)   \n",
              "2  Charlie Puth            Left and Right (Feat. Jung Kook of BTS)   \n",
              "3  Lana Del Rey  Summertime Sadness (Lana Del Rey Vs. Cedric Ge...   \n",
              "4           BTS                                        Yet To Come   \n",
              "\n",
              "                 track id  popularity  \n",
              "0  2gzhQaCTeNgxpeB2TPllyY          86  \n",
              "1  4eHkG6yWQ4pD0zqVkV0R5a          22  \n",
              "2  0mBP9X2gPCuapvpZ7TGDk3          94  \n",
              "3  1kA8kyl733T0Qmy8rOIYeM           3  \n",
              "4  10SRMwb9EuVS1K9rYsBfHQ          93  "
            ]
          },
          "execution_count": 28,
          "metadata": {},
          "output_type": "execute_result"
        }
      ],
      "source": [
        "# tampung semua data hasil tarikan ke dataframe\n",
        "korean_track = pd.DataFrame({'artist name' : artist_name2, 'track name' : track_name2, \n",
        "                          'track id' : track_id2, 'popularity' : popularity2})\n",
        "korean_track.head()"
      ]
    },
    {
      "cell_type": "code",
      "execution_count": null,
      "metadata": {
        "colab": {
          "base_uri": "https://localhost:8080/"
        },
        "id": "Vn5CFJMTMDXw",
        "outputId": "f76f5fd5-a28b-468e-8d25-9a9d5b4a32c4"
      },
      "outputs": [
        {
          "data": {
            "text/plain": [
              "(1000, 4)"
            ]
          },
          "execution_count": 29,
          "metadata": {},
          "output_type": "execute_result"
        }
      ],
      "source": [
        "# liat jumlah baris dan kolom dari dataframe track\n",
        "korean_track.shape"
      ]
    },
    {
      "cell_type": "code",
      "execution_count": null,
      "metadata": {
        "colab": {
          "base_uri": "https://localhost:8080/"
        },
        "id": "q2GKIT1VMFds",
        "outputId": "c5ec8743-2dbd-42bd-d0b6-1baf9a402cfd"
      },
      "outputs": [
        {
          "name": "stdout",
          "output_type": "stream",
          "text": [
            "<class 'pandas.core.frame.DataFrame'>\n",
            "RangeIndex: 1000 entries, 0 to 999\n",
            "Data columns (total 4 columns):\n",
            " #   Column       Non-Null Count  Dtype \n",
            "---  ------       --------------  ----- \n",
            " 0   artist name  1000 non-null   object\n",
            " 1   track name   1000 non-null   object\n",
            " 2   track id     1000 non-null   object\n",
            " 3   popularity   1000 non-null   int64 \n",
            "dtypes: int64(1), object(3)\n",
            "memory usage: 31.4+ KB\n"
          ]
        }
      ],
      "source": [
        "# liat informasi dataset track\n",
        "korean_track.info()"
      ]
    },
    {
      "cell_type": "code",
      "execution_count": null,
      "metadata": {
        "colab": {
          "base_uri": "https://localhost:8080/"
        },
        "id": "WxsMioZOMHW5",
        "outputId": "698c408c-979a-4f5d-aff5-37b36e14c14d"
      },
      "outputs": [
        {
          "data": {
            "text/plain": [
              "88"
            ]
          },
          "execution_count": 31,
          "metadata": {},
          "output_type": "execute_result"
        }
      ],
      "source": [
        "# groupby berdasarkan nama artist dan nama track untuk memeriksa duplicate\n",
        "grouped_korean = korean_track.groupby(['artist name', 'track name'], as_index=True).size()\n",
        "grouped_korean[grouped_korean > 1].count()"
      ]
    },
    {
      "cell_type": "code",
      "execution_count": null,
      "metadata": {
        "id": "_NSz82neMIdc"
      },
      "outputs": [],
      "source": [
        "# menghapus duplicate pada nama artist dan nama tracknya\n",
        "korean_track.drop_duplicates(subset=['artist name', 'track name'], inplace=True)"
      ]
    },
    {
      "cell_type": "code",
      "execution_count": null,
      "metadata": {
        "colab": {
          "base_uri": "https://localhost:8080/"
        },
        "id": "unkJWEP8MKG8",
        "outputId": "7f6bf1a7-6e6c-4b56-d619-1946aa7ec4eb"
      },
      "outputs": [
        {
          "data": {
            "text/plain": [
              "0"
            ]
          },
          "execution_count": 33,
          "metadata": {},
          "output_type": "execute_result"
        }
      ],
      "source": [
        "# groupby berdasarkan nama artist dan nama track buat memeriksa ulang duplicate\n",
        "group_kr_after_dropping = korean_track.groupby(['artist name', 'track name'], as_index=True).size()\n",
        "group_kr_after_dropping[group_kr_after_dropping > 1].count()"
      ]
    },
    {
      "cell_type": "code",
      "execution_count": null,
      "metadata": {
        "colab": {
          "base_uri": "https://localhost:8080/"
        },
        "id": "Qo-O8QHDMLHw",
        "outputId": "217c63f1-a085-41b5-a382-eeafbaa07576"
      },
      "outputs": [
        {
          "data": {
            "text/plain": [
              "artist name    0\n",
              "track name     0\n",
              "track id       0\n",
              "popularity     0\n",
              "dtype: int64"
            ]
          },
          "execution_count": 34,
          "metadata": {},
          "output_type": "execute_result"
        }
      ],
      "source": [
        "# check duplicate ulang per kolom berdasasrkan nama artist dan nama track\n",
        "korean_track[korean_track.duplicated(subset=['artist name', 'track name'], keep=False)].count()"
      ]
    },
    {
      "cell_type": "code",
      "execution_count": null,
      "metadata": {
        "colab": {
          "base_uri": "https://localhost:8080/"
        },
        "id": "3WpkZQ3OMMGU",
        "outputId": "7bb38c53-f3b8-4e82-b3ae-018f694ed337"
      },
      "outputs": [
        {
          "data": {
            "text/plain": [
              "(789, 4)"
            ]
          },
          "execution_count": 35,
          "metadata": {},
          "output_type": "execute_result"
        }
      ],
      "source": [
        "# liat jumlah baris dan kolom setelah penghapusan duplicate\n",
        "korean_track.shape"
      ]
    },
    {
      "cell_type": "markdown",
      "metadata": {
        "id": "gkgR0E44MQDk"
      },
      "source": [
        "Ekstrack Audio Feature nya"
      ]
    },
    {
      "cell_type": "code",
      "execution_count": null,
      "metadata": {
        "colab": {
          "base_uri": "https://localhost:8080/"
        },
        "id": "w8zhZ0XcMN4w",
        "outputId": "ca811ec2-cc89-417f-caa2-ea557b68472c"
      },
      "outputs": [
        {
          "name": "stdout",
          "output_type": "stream",
          "text": [
            "Jumlah track yang bukan Audio Features yang ada : 1\n",
            "jumlah elemen yang ada di dalam list track_id : 788\n"
          ]
        }
      ],
      "source": [
        "# list kosong, 100 batchsize dan counter buat nampung none result\n",
        "row_kr = []\n",
        "batch_size = 100\n",
        "# none result berarti yang tidak ada audio features\n",
        "none_counter = 0\n",
        "\n",
        "for i in range(0, len(korean_track['track id']), batch_size):\n",
        "    batch = korean_track['track id'][i:i+batch_size]\n",
        "    feature_results = sp.audio_features(batch)\n",
        "    for i, t in enumerate(feature_results):\n",
        "        # kalau track yang ditarik bukan audio feature\n",
        "        if t == None:\n",
        "            none_counter = none_counter + 1\n",
        "        # kalau track yang ditarik adalah audio feature\n",
        "        else:\n",
        "            row_kr.append(t)\n",
        "\n",
        "# liat jumlah track yang bukan fitur audio\n",
        "print(f'Jumlah track yang bukan Audio Features yang ada : {none_counter}')\n",
        "# liat hasil dari jumlah elemen pada track \n",
        "print(f'jumlah elemen yang ada di dalam list track_id : {len(row_kr)}')"
      ]
    },
    {
      "cell_type": "code",
      "execution_count": null,
      "metadata": {
        "colab": {
          "base_uri": "https://localhost:8080/",
          "height": 357
        },
        "id": "ZVTyMzdsMQy3",
        "outputId": "90f60839-d06f-4c02-b0a9-763fb89c8800"
      },
      "outputs": [
        {
          "data": {
            "text/html": [
              "\n",
              "  <div id=\"df-c4eeac17-450a-4f73-990a-b3acd99891dd\">\n",
              "    <div class=\"colab-df-container\">\n",
              "      <div>\n",
              "<style scoped>\n",
              "    .dataframe tbody tr th:only-of-type {\n",
              "        vertical-align: middle;\n",
              "    }\n",
              "\n",
              "    .dataframe tbody tr th {\n",
              "        vertical-align: top;\n",
              "    }\n",
              "\n",
              "    .dataframe thead th {\n",
              "        text-align: right;\n",
              "    }\n",
              "</style>\n",
              "<table border=\"1\" class=\"dataframe\">\n",
              "  <thead>\n",
              "    <tr style=\"text-align: right;\">\n",
              "      <th></th>\n",
              "      <th>danceability</th>\n",
              "      <th>energy</th>\n",
              "      <th>key</th>\n",
              "      <th>loudness</th>\n",
              "      <th>mode</th>\n",
              "      <th>speechiness</th>\n",
              "      <th>acousticness</th>\n",
              "      <th>instrumentalness</th>\n",
              "      <th>liveness</th>\n",
              "      <th>valence</th>\n",
              "      <th>tempo</th>\n",
              "      <th>type</th>\n",
              "      <th>id</th>\n",
              "      <th>uri</th>\n",
              "      <th>track_href</th>\n",
              "      <th>analysis_url</th>\n",
              "      <th>duration_ms</th>\n",
              "      <th>time_signature</th>\n",
              "    </tr>\n",
              "  </thead>\n",
              "  <tbody>\n",
              "    <tr>\n",
              "      <th>0</th>\n",
              "      <td>0.532</td>\n",
              "      <td>0.426</td>\n",
              "      <td>3</td>\n",
              "      <td>-6.117</td>\n",
              "      <td>1</td>\n",
              "      <td>0.0288</td>\n",
              "      <td>0.6390</td>\n",
              "      <td>0.000000</td>\n",
              "      <td>0.1340</td>\n",
              "      <td>0.137</td>\n",
              "      <td>149.898</td>\n",
              "      <td>audio_features</td>\n",
              "      <td>2gzhQaCTeNgxpeB2TPllyY</td>\n",
              "      <td>spotify:track:2gzhQaCTeNgxpeB2TPllyY</td>\n",
              "      <td>https://api.spotify.com/v1/tracks/2gzhQaCTeNgx...</td>\n",
              "      <td>https://api.spotify.com/v1/audio-analysis/2gzh...</td>\n",
              "      <td>201905</td>\n",
              "      <td>3</td>\n",
              "    </tr>\n",
              "    <tr>\n",
              "      <th>1</th>\n",
              "      <td>0.521</td>\n",
              "      <td>0.683</td>\n",
              "      <td>5</td>\n",
              "      <td>-6.240</td>\n",
              "      <td>0</td>\n",
              "      <td>0.5010</td>\n",
              "      <td>0.1590</td>\n",
              "      <td>0.000000</td>\n",
              "      <td>0.1870</td>\n",
              "      <td>0.737</td>\n",
              "      <td>139.439</td>\n",
              "      <td>audio_features</td>\n",
              "      <td>4eHkG6yWQ4pD0zqVkV0R5a</td>\n",
              "      <td>spotify:track:4eHkG6yWQ4pD0zqVkV0R5a</td>\n",
              "      <td>https://api.spotify.com/v1/tracks/4eHkG6yWQ4pD...</td>\n",
              "      <td>https://api.spotify.com/v1/audio-analysis/4eHk...</td>\n",
              "      <td>161808</td>\n",
              "      <td>3</td>\n",
              "    </tr>\n",
              "    <tr>\n",
              "      <th>2</th>\n",
              "      <td>0.881</td>\n",
              "      <td>0.592</td>\n",
              "      <td>2</td>\n",
              "      <td>-4.898</td>\n",
              "      <td>1</td>\n",
              "      <td>0.0324</td>\n",
              "      <td>0.6190</td>\n",
              "      <td>0.000013</td>\n",
              "      <td>0.0901</td>\n",
              "      <td>0.719</td>\n",
              "      <td>101.058</td>\n",
              "      <td>audio_features</td>\n",
              "      <td>0mBP9X2gPCuapvpZ7TGDk3</td>\n",
              "      <td>spotify:track:0mBP9X2gPCuapvpZ7TGDk3</td>\n",
              "      <td>https://api.spotify.com/v1/tracks/0mBP9X2gPCua...</td>\n",
              "      <td>https://api.spotify.com/v1/audio-analysis/0mBP...</td>\n",
              "      <td>154487</td>\n",
              "      <td>4</td>\n",
              "    </tr>\n",
              "    <tr>\n",
              "      <th>3</th>\n",
              "      <td>0.572</td>\n",
              "      <td>0.810</td>\n",
              "      <td>1</td>\n",
              "      <td>-5.791</td>\n",
              "      <td>0</td>\n",
              "      <td>0.0557</td>\n",
              "      <td>0.0147</td>\n",
              "      <td>0.000007</td>\n",
              "      <td>0.1300</td>\n",
              "      <td>0.106</td>\n",
              "      <td>126.045</td>\n",
              "      <td>audio_features</td>\n",
              "      <td>1kA8kyl733T0Qmy8rOIYeM</td>\n",
              "      <td>spotify:track:1kA8kyl733T0Qmy8rOIYeM</td>\n",
              "      <td>https://api.spotify.com/v1/tracks/1kA8kyl733T0...</td>\n",
              "      <td>https://api.spotify.com/v1/audio-analysis/1kA8...</td>\n",
              "      <td>214912</td>\n",
              "      <td>4</td>\n",
              "    </tr>\n",
              "    <tr>\n",
              "      <th>4</th>\n",
              "      <td>0.559</td>\n",
              "      <td>0.885</td>\n",
              "      <td>1</td>\n",
              "      <td>-4.515</td>\n",
              "      <td>1</td>\n",
              "      <td>0.1890</td>\n",
              "      <td>0.0432</td>\n",
              "      <td>0.000000</td>\n",
              "      <td>0.3330</td>\n",
              "      <td>0.683</td>\n",
              "      <td>172.029</td>\n",
              "      <td>audio_features</td>\n",
              "      <td>10SRMwb9EuVS1K9rYsBfHQ</td>\n",
              "      <td>spotify:track:10SRMwb9EuVS1K9rYsBfHQ</td>\n",
              "      <td>https://api.spotify.com/v1/tracks/10SRMwb9EuVS...</td>\n",
              "      <td>https://api.spotify.com/v1/audio-analysis/10SR...</td>\n",
              "      <td>193594</td>\n",
              "      <td>4</td>\n",
              "    </tr>\n",
              "  </tbody>\n",
              "</table>\n",
              "</div>\n",
              "      <button class=\"colab-df-convert\" onclick=\"convertToInteractive('df-c4eeac17-450a-4f73-990a-b3acd99891dd')\"\n",
              "              title=\"Convert this dataframe to an interactive table.\"\n",
              "              style=\"display:none;\">\n",
              "        \n",
              "  <svg xmlns=\"http://www.w3.org/2000/svg\" height=\"24px\"viewBox=\"0 0 24 24\"\n",
              "       width=\"24px\">\n",
              "    <path d=\"M0 0h24v24H0V0z\" fill=\"none\"/>\n",
              "    <path d=\"M18.56 5.44l.94 2.06.94-2.06 2.06-.94-2.06-.94-.94-2.06-.94 2.06-2.06.94zm-11 1L8.5 8.5l.94-2.06 2.06-.94-2.06-.94L8.5 2.5l-.94 2.06-2.06.94zm10 10l.94 2.06.94-2.06 2.06-.94-2.06-.94-.94-2.06-.94 2.06-2.06.94z\"/><path d=\"M17.41 7.96l-1.37-1.37c-.4-.4-.92-.59-1.43-.59-.52 0-1.04.2-1.43.59L10.3 9.45l-7.72 7.72c-.78.78-.78 2.05 0 2.83L4 21.41c.39.39.9.59 1.41.59.51 0 1.02-.2 1.41-.59l7.78-7.78 2.81-2.81c.8-.78.8-2.07 0-2.86zM5.41 20L4 18.59l7.72-7.72 1.47 1.35L5.41 20z\"/>\n",
              "  </svg>\n",
              "      </button>\n",
              "      \n",
              "  <style>\n",
              "    .colab-df-container {\n",
              "      display:flex;\n",
              "      flex-wrap:wrap;\n",
              "      gap: 12px;\n",
              "    }\n",
              "\n",
              "    .colab-df-convert {\n",
              "      background-color: #E8F0FE;\n",
              "      border: none;\n",
              "      border-radius: 50%;\n",
              "      cursor: pointer;\n",
              "      display: none;\n",
              "      fill: #1967D2;\n",
              "      height: 32px;\n",
              "      padding: 0 0 0 0;\n",
              "      width: 32px;\n",
              "    }\n",
              "\n",
              "    .colab-df-convert:hover {\n",
              "      background-color: #E2EBFA;\n",
              "      box-shadow: 0px 1px 2px rgba(60, 64, 67, 0.3), 0px 1px 3px 1px rgba(60, 64, 67, 0.15);\n",
              "      fill: #174EA6;\n",
              "    }\n",
              "\n",
              "    [theme=dark] .colab-df-convert {\n",
              "      background-color: #3B4455;\n",
              "      fill: #D2E3FC;\n",
              "    }\n",
              "\n",
              "    [theme=dark] .colab-df-convert:hover {\n",
              "      background-color: #434B5C;\n",
              "      box-shadow: 0px 1px 3px 1px rgba(0, 0, 0, 0.15);\n",
              "      filter: drop-shadow(0px 1px 2px rgba(0, 0, 0, 0.3));\n",
              "      fill: #FFFFFF;\n",
              "    }\n",
              "  </style>\n",
              "\n",
              "      <script>\n",
              "        const buttonEl =\n",
              "          document.querySelector('#df-c4eeac17-450a-4f73-990a-b3acd99891dd button.colab-df-convert');\n",
              "        buttonEl.style.display =\n",
              "          google.colab.kernel.accessAllowed ? 'block' : 'none';\n",
              "\n",
              "        async function convertToInteractive(key) {\n",
              "          const element = document.querySelector('#df-c4eeac17-450a-4f73-990a-b3acd99891dd');\n",
              "          const dataTable =\n",
              "            await google.colab.kernel.invokeFunction('convertToInteractive',\n",
              "                                                     [key], {});\n",
              "          if (!dataTable) return;\n",
              "\n",
              "          const docLinkHtml = 'Like what you see? Visit the ' +\n",
              "            '<a target=\"_blank\" href=https://colab.research.google.com/notebooks/data_table.ipynb>data table notebook</a>'\n",
              "            + ' to learn more about interactive tables.';\n",
              "          element.innerHTML = '';\n",
              "          dataTable['output_type'] = 'display_data';\n",
              "          await google.colab.output.renderOutput(dataTable, element);\n",
              "          const docLink = document.createElement('div');\n",
              "          docLink.innerHTML = docLinkHtml;\n",
              "          element.appendChild(docLink);\n",
              "        }\n",
              "      </script>\n",
              "    </div>\n",
              "  </div>\n",
              "  "
            ],
            "text/plain": [
              "   danceability  energy  key  loudness  mode  speechiness  acousticness  \\\n",
              "0         0.532   0.426    3    -6.117     1       0.0288        0.6390   \n",
              "1         0.521   0.683    5    -6.240     0       0.5010        0.1590   \n",
              "2         0.881   0.592    2    -4.898     1       0.0324        0.6190   \n",
              "3         0.572   0.810    1    -5.791     0       0.0557        0.0147   \n",
              "4         0.559   0.885    1    -4.515     1       0.1890        0.0432   \n",
              "\n",
              "   instrumentalness  liveness  valence    tempo            type  \\\n",
              "0          0.000000    0.1340    0.137  149.898  audio_features   \n",
              "1          0.000000    0.1870    0.737  139.439  audio_features   \n",
              "2          0.000013    0.0901    0.719  101.058  audio_features   \n",
              "3          0.000007    0.1300    0.106  126.045  audio_features   \n",
              "4          0.000000    0.3330    0.683  172.029  audio_features   \n",
              "\n",
              "                       id                                   uri  \\\n",
              "0  2gzhQaCTeNgxpeB2TPllyY  spotify:track:2gzhQaCTeNgxpeB2TPllyY   \n",
              "1  4eHkG6yWQ4pD0zqVkV0R5a  spotify:track:4eHkG6yWQ4pD0zqVkV0R5a   \n",
              "2  0mBP9X2gPCuapvpZ7TGDk3  spotify:track:0mBP9X2gPCuapvpZ7TGDk3   \n",
              "3  1kA8kyl733T0Qmy8rOIYeM  spotify:track:1kA8kyl733T0Qmy8rOIYeM   \n",
              "4  10SRMwb9EuVS1K9rYsBfHQ  spotify:track:10SRMwb9EuVS1K9rYsBfHQ   \n",
              "\n",
              "                                          track_href  \\\n",
              "0  https://api.spotify.com/v1/tracks/2gzhQaCTeNgx...   \n",
              "1  https://api.spotify.com/v1/tracks/4eHkG6yWQ4pD...   \n",
              "2  https://api.spotify.com/v1/tracks/0mBP9X2gPCua...   \n",
              "3  https://api.spotify.com/v1/tracks/1kA8kyl733T0...   \n",
              "4  https://api.spotify.com/v1/tracks/10SRMwb9EuVS...   \n",
              "\n",
              "                                        analysis_url  duration_ms  \\\n",
              "0  https://api.spotify.com/v1/audio-analysis/2gzh...       201905   \n",
              "1  https://api.spotify.com/v1/audio-analysis/4eHk...       161808   \n",
              "2  https://api.spotify.com/v1/audio-analysis/0mBP...       154487   \n",
              "3  https://api.spotify.com/v1/audio-analysis/1kA8...       214912   \n",
              "4  https://api.spotify.com/v1/audio-analysis/10SR...       193594   \n",
              "\n",
              "   time_signature  \n",
              "0               3  \n",
              "1               3  \n",
              "2               4  \n",
              "3               4  \n",
              "4               4  "
            ]
          },
          "execution_count": 37,
          "metadata": {},
          "output_type": "execute_result"
        }
      ],
      "source": [
        "# masukan semua elemen dalam list track ke dalam dataframe\n",
        "korean_aufeat = pd.DataFrame.from_dict(row_kr, orient='columns')\n",
        "korean_aufeat.head()"
      ]
    },
    {
      "cell_type": "code",
      "execution_count": null,
      "metadata": {
        "colab": {
          "base_uri": "https://localhost:8080/"
        },
        "id": "OB2DUysMMUX5",
        "outputId": "e72026bc-1e98-4007-8fc8-b0460ff44724"
      },
      "outputs": [
        {
          "data": {
            "text/plain": [
              "(788, 18)"
            ]
          },
          "execution_count": 38,
          "metadata": {},
          "output_type": "execute_result"
        }
      ],
      "source": [
        "# liat ukuram jumlah baris dan kolom dari dataframe audio features\n",
        "korean_aufeat.shape"
      ]
    },
    {
      "cell_type": "code",
      "execution_count": null,
      "metadata": {
        "colab": {
          "base_uri": "https://localhost:8080/"
        },
        "id": "_8R7ADl3MVHS",
        "outputId": "865f7895-14f1-4fbe-83d2-64c123314ebc"
      },
      "outputs": [
        {
          "name": "stdout",
          "output_type": "stream",
          "text": [
            "<class 'pandas.core.frame.DataFrame'>\n",
            "RangeIndex: 788 entries, 0 to 787\n",
            "Data columns (total 18 columns):\n",
            " #   Column            Non-Null Count  Dtype  \n",
            "---  ------            --------------  -----  \n",
            " 0   danceability      788 non-null    float64\n",
            " 1   energy            788 non-null    float64\n",
            " 2   key               788 non-null    int64  \n",
            " 3   loudness          788 non-null    float64\n",
            " 4   mode              788 non-null    int64  \n",
            " 5   speechiness       788 non-null    float64\n",
            " 6   acousticness      788 non-null    float64\n",
            " 7   instrumentalness  788 non-null    float64\n",
            " 8   liveness          788 non-null    float64\n",
            " 9   valence           788 non-null    float64\n",
            " 10  tempo             788 non-null    float64\n",
            " 11  type              788 non-null    object \n",
            " 12  id                788 non-null    object \n",
            " 13  uri               788 non-null    object \n",
            " 14  track_href        788 non-null    object \n",
            " 15  analysis_url      788 non-null    object \n",
            " 16  duration_ms       788 non-null    int64  \n",
            " 17  time_signature    788 non-null    int64  \n",
            "dtypes: float64(9), int64(4), object(5)\n",
            "memory usage: 110.9+ KB\n"
          ]
        }
      ],
      "source": [
        "# liat info dari dataframe audio feature\n",
        "korean_aufeat.info()"
      ]
    },
    {
      "cell_type": "code",
      "execution_count": null,
      "metadata": {
        "colab": {
          "base_uri": "https://localhost:8080/"
        },
        "id": "xJbq7LDWMWe-",
        "outputId": "9405871a-9ab5-4f27-ab51-430d0e19a949"
      },
      "outputs": [
        {
          "data": {
            "text/plain": [
              "(788, 14)"
            ]
          },
          "execution_count": 40,
          "metadata": {},
          "output_type": "execute_result"
        }
      ],
      "source": [
        "# menghapus kolom yang tidak digunakan\n",
        "columns_to_drop = ['analysis_url', 'track_href', 'type', 'uri']\n",
        "\n",
        "korean_aufeat.drop(columns_to_drop, axis=1, inplace=True)\n",
        "# mengganti kolom id jadi id track\n",
        "korean_aufeat.rename(columns={'id': 'track id'}, inplace=True)\n",
        "korean_aufeat.shape"
      ]
    },
    {
      "cell_type": "code",
      "execution_count": null,
      "metadata": {
        "colab": {
          "base_uri": "https://localhost:8080/",
          "height": 444
        },
        "id": "fStoX5w-MXPt",
        "outputId": "497d1fc5-46f8-4939-b24a-b8457992cd41"
      },
      "outputs": [
        {
          "data": {
            "text/html": [
              "\n",
              "  <div id=\"df-7143a33a-d729-4cac-a87b-e8f2adfc2ff8\">\n",
              "    <div class=\"colab-df-container\">\n",
              "      <div>\n",
              "<style scoped>\n",
              "    .dataframe tbody tr th:only-of-type {\n",
              "        vertical-align: middle;\n",
              "    }\n",
              "\n",
              "    .dataframe tbody tr th {\n",
              "        vertical-align: top;\n",
              "    }\n",
              "\n",
              "    .dataframe thead th {\n",
              "        text-align: right;\n",
              "    }\n",
              "</style>\n",
              "<table border=\"1\" class=\"dataframe\">\n",
              "  <thead>\n",
              "    <tr style=\"text-align: right;\">\n",
              "      <th></th>\n",
              "      <th>artist name</th>\n",
              "      <th>track name</th>\n",
              "      <th>track id</th>\n",
              "      <th>popularity</th>\n",
              "      <th>danceability</th>\n",
              "      <th>energy</th>\n",
              "      <th>key</th>\n",
              "      <th>loudness</th>\n",
              "      <th>mode</th>\n",
              "      <th>speechiness</th>\n",
              "      <th>acousticness</th>\n",
              "      <th>instrumentalness</th>\n",
              "      <th>liveness</th>\n",
              "      <th>valence</th>\n",
              "      <th>tempo</th>\n",
              "      <th>duration_ms</th>\n",
              "      <th>time_signature</th>\n",
              "    </tr>\n",
              "  </thead>\n",
              "  <tbody>\n",
              "    <tr>\n",
              "      <th>0</th>\n",
              "      <td>Jimin</td>\n",
              "      <td>With you</td>\n",
              "      <td>2gzhQaCTeNgxpeB2TPllyY</td>\n",
              "      <td>86</td>\n",
              "      <td>0.532</td>\n",
              "      <td>0.426</td>\n",
              "      <td>3</td>\n",
              "      <td>-6.117</td>\n",
              "      <td>1</td>\n",
              "      <td>0.0288</td>\n",
              "      <td>0.6390</td>\n",
              "      <td>0.000000</td>\n",
              "      <td>0.1340</td>\n",
              "      <td>0.137</td>\n",
              "      <td>149.898</td>\n",
              "      <td>201905</td>\n",
              "      <td>3</td>\n",
              "    </tr>\n",
              "    <tr>\n",
              "      <th>1</th>\n",
              "      <td>Ish Kevin</td>\n",
              "      <td>My Year (2022)</td>\n",
              "      <td>4eHkG6yWQ4pD0zqVkV0R5a</td>\n",
              "      <td>22</td>\n",
              "      <td>0.521</td>\n",
              "      <td>0.683</td>\n",
              "      <td>5</td>\n",
              "      <td>-6.240</td>\n",
              "      <td>0</td>\n",
              "      <td>0.5010</td>\n",
              "      <td>0.1590</td>\n",
              "      <td>0.000000</td>\n",
              "      <td>0.1870</td>\n",
              "      <td>0.737</td>\n",
              "      <td>139.439</td>\n",
              "      <td>161808</td>\n",
              "      <td>3</td>\n",
              "    </tr>\n",
              "    <tr>\n",
              "      <th>2</th>\n",
              "      <td>Charlie Puth</td>\n",
              "      <td>Left and Right (Feat. Jung Kook of BTS)</td>\n",
              "      <td>0mBP9X2gPCuapvpZ7TGDk3</td>\n",
              "      <td>94</td>\n",
              "      <td>0.881</td>\n",
              "      <td>0.592</td>\n",
              "      <td>2</td>\n",
              "      <td>-4.898</td>\n",
              "      <td>1</td>\n",
              "      <td>0.0324</td>\n",
              "      <td>0.6190</td>\n",
              "      <td>0.000013</td>\n",
              "      <td>0.0901</td>\n",
              "      <td>0.719</td>\n",
              "      <td>101.058</td>\n",
              "      <td>154487</td>\n",
              "      <td>4</td>\n",
              "    </tr>\n",
              "    <tr>\n",
              "      <th>3</th>\n",
              "      <td>Lana Del Rey</td>\n",
              "      <td>Summertime Sadness (Lana Del Rey Vs. Cedric Ge...</td>\n",
              "      <td>1kA8kyl733T0Qmy8rOIYeM</td>\n",
              "      <td>3</td>\n",
              "      <td>0.572</td>\n",
              "      <td>0.810</td>\n",
              "      <td>1</td>\n",
              "      <td>-5.791</td>\n",
              "      <td>0</td>\n",
              "      <td>0.0557</td>\n",
              "      <td>0.0147</td>\n",
              "      <td>0.000007</td>\n",
              "      <td>0.1300</td>\n",
              "      <td>0.106</td>\n",
              "      <td>126.045</td>\n",
              "      <td>214912</td>\n",
              "      <td>4</td>\n",
              "    </tr>\n",
              "    <tr>\n",
              "      <th>4</th>\n",
              "      <td>BTS</td>\n",
              "      <td>Yet To Come</td>\n",
              "      <td>10SRMwb9EuVS1K9rYsBfHQ</td>\n",
              "      <td>93</td>\n",
              "      <td>0.559</td>\n",
              "      <td>0.885</td>\n",
              "      <td>1</td>\n",
              "      <td>-4.515</td>\n",
              "      <td>1</td>\n",
              "      <td>0.1890</td>\n",
              "      <td>0.0432</td>\n",
              "      <td>0.000000</td>\n",
              "      <td>0.3330</td>\n",
              "      <td>0.683</td>\n",
              "      <td>172.029</td>\n",
              "      <td>193594</td>\n",
              "      <td>4</td>\n",
              "    </tr>\n",
              "  </tbody>\n",
              "</table>\n",
              "</div>\n",
              "      <button class=\"colab-df-convert\" onclick=\"convertToInteractive('df-7143a33a-d729-4cac-a87b-e8f2adfc2ff8')\"\n",
              "              title=\"Convert this dataframe to an interactive table.\"\n",
              "              style=\"display:none;\">\n",
              "        \n",
              "  <svg xmlns=\"http://www.w3.org/2000/svg\" height=\"24px\"viewBox=\"0 0 24 24\"\n",
              "       width=\"24px\">\n",
              "    <path d=\"M0 0h24v24H0V0z\" fill=\"none\"/>\n",
              "    <path d=\"M18.56 5.44l.94 2.06.94-2.06 2.06-.94-2.06-.94-.94-2.06-.94 2.06-2.06.94zm-11 1L8.5 8.5l.94-2.06 2.06-.94-2.06-.94L8.5 2.5l-.94 2.06-2.06.94zm10 10l.94 2.06.94-2.06 2.06-.94-2.06-.94-.94-2.06-.94 2.06-2.06.94z\"/><path d=\"M17.41 7.96l-1.37-1.37c-.4-.4-.92-.59-1.43-.59-.52 0-1.04.2-1.43.59L10.3 9.45l-7.72 7.72c-.78.78-.78 2.05 0 2.83L4 21.41c.39.39.9.59 1.41.59.51 0 1.02-.2 1.41-.59l7.78-7.78 2.81-2.81c.8-.78.8-2.07 0-2.86zM5.41 20L4 18.59l7.72-7.72 1.47 1.35L5.41 20z\"/>\n",
              "  </svg>\n",
              "      </button>\n",
              "      \n",
              "  <style>\n",
              "    .colab-df-container {\n",
              "      display:flex;\n",
              "      flex-wrap:wrap;\n",
              "      gap: 12px;\n",
              "    }\n",
              "\n",
              "    .colab-df-convert {\n",
              "      background-color: #E8F0FE;\n",
              "      border: none;\n",
              "      border-radius: 50%;\n",
              "      cursor: pointer;\n",
              "      display: none;\n",
              "      fill: #1967D2;\n",
              "      height: 32px;\n",
              "      padding: 0 0 0 0;\n",
              "      width: 32px;\n",
              "    }\n",
              "\n",
              "    .colab-df-convert:hover {\n",
              "      background-color: #E2EBFA;\n",
              "      box-shadow: 0px 1px 2px rgba(60, 64, 67, 0.3), 0px 1px 3px 1px rgba(60, 64, 67, 0.15);\n",
              "      fill: #174EA6;\n",
              "    }\n",
              "\n",
              "    [theme=dark] .colab-df-convert {\n",
              "      background-color: #3B4455;\n",
              "      fill: #D2E3FC;\n",
              "    }\n",
              "\n",
              "    [theme=dark] .colab-df-convert:hover {\n",
              "      background-color: #434B5C;\n",
              "      box-shadow: 0px 1px 3px 1px rgba(0, 0, 0, 0.15);\n",
              "      filter: drop-shadow(0px 1px 2px rgba(0, 0, 0, 0.3));\n",
              "      fill: #FFFFFF;\n",
              "    }\n",
              "  </style>\n",
              "\n",
              "      <script>\n",
              "        const buttonEl =\n",
              "          document.querySelector('#df-7143a33a-d729-4cac-a87b-e8f2adfc2ff8 button.colab-df-convert');\n",
              "        buttonEl.style.display =\n",
              "          google.colab.kernel.accessAllowed ? 'block' : 'none';\n",
              "\n",
              "        async function convertToInteractive(key) {\n",
              "          const element = document.querySelector('#df-7143a33a-d729-4cac-a87b-e8f2adfc2ff8');\n",
              "          const dataTable =\n",
              "            await google.colab.kernel.invokeFunction('convertToInteractive',\n",
              "                                                     [key], {});\n",
              "          if (!dataTable) return;\n",
              "\n",
              "          const docLinkHtml = 'Like what you see? Visit the ' +\n",
              "            '<a target=\"_blank\" href=https://colab.research.google.com/notebooks/data_table.ipynb>data table notebook</a>'\n",
              "            + ' to learn more about interactive tables.';\n",
              "          element.innerHTML = '';\n",
              "          dataTable['output_type'] = 'display_data';\n",
              "          await google.colab.output.renderOutput(dataTable, element);\n",
              "          const docLink = document.createElement('div');\n",
              "          docLink.innerHTML = docLinkHtml;\n",
              "          element.appendChild(docLink);\n",
              "        }\n",
              "      </script>\n",
              "    </div>\n",
              "  </div>\n",
              "  "
            ],
            "text/plain": [
              "    artist name                                         track name  \\\n",
              "0         Jimin                                           With you   \n",
              "1     Ish Kevin                                     My Year (2022)   \n",
              "2  Charlie Puth            Left and Right (Feat. Jung Kook of BTS)   \n",
              "3  Lana Del Rey  Summertime Sadness (Lana Del Rey Vs. Cedric Ge...   \n",
              "4           BTS                                        Yet To Come   \n",
              "\n",
              "                 track id  popularity  danceability  energy  key  loudness  \\\n",
              "0  2gzhQaCTeNgxpeB2TPllyY          86         0.532   0.426    3    -6.117   \n",
              "1  4eHkG6yWQ4pD0zqVkV0R5a          22         0.521   0.683    5    -6.240   \n",
              "2  0mBP9X2gPCuapvpZ7TGDk3          94         0.881   0.592    2    -4.898   \n",
              "3  1kA8kyl733T0Qmy8rOIYeM           3         0.572   0.810    1    -5.791   \n",
              "4  10SRMwb9EuVS1K9rYsBfHQ          93         0.559   0.885    1    -4.515   \n",
              "\n",
              "   mode  speechiness  acousticness  instrumentalness  liveness  valence  \\\n",
              "0     1       0.0288        0.6390          0.000000    0.1340    0.137   \n",
              "1     0       0.5010        0.1590          0.000000    0.1870    0.737   \n",
              "2     1       0.0324        0.6190          0.000013    0.0901    0.719   \n",
              "3     0       0.0557        0.0147          0.000007    0.1300    0.106   \n",
              "4     1       0.1890        0.0432          0.000000    0.3330    0.683   \n",
              "\n",
              "     tempo  duration_ms  time_signature  \n",
              "0  149.898       201905               3  \n",
              "1  139.439       161808               3  \n",
              "2  101.058       154487               4  \n",
              "3  126.045       214912               4  \n",
              "4  172.029       193594               4  "
            ]
          },
          "execution_count": 41,
          "metadata": {},
          "output_type": "execute_result"
        }
      ],
      "source": [
        "# merge dataframe, antara df track dan fitur audio\n",
        "# metode 'inner' memastikan kalau cuma keep track id yang sekarang di kedua dataset\n",
        "korean_song_df = pd.merge(korean_track, korean_aufeat, on='track id', how='inner')\n",
        "korean_song_df.head()"
      ]
    },
    {
      "cell_type": "code",
      "execution_count": null,
      "metadata": {
        "colab": {
          "base_uri": "https://localhost:8080/"
        },
        "id": "K49RggR0McGu",
        "outputId": "d5a1b992-1503-4274-c4d6-c40047e28b1c"
      },
      "outputs": [
        {
          "data": {
            "text/plain": [
              "(788, 14)"
            ]
          },
          "execution_count": 42,
          "metadata": {},
          "output_type": "execute_result"
        }
      ],
      "source": [
        "# liat ukuran jumlah baris dan kolom dataframe audio features\n",
        "korean_aufeat.shape"
      ]
    },
    {
      "cell_type": "code",
      "execution_count": null,
      "metadata": {
        "colab": {
          "base_uri": "https://localhost:8080/"
        },
        "id": "qSRPJkwmMdCq",
        "outputId": "616268da-67c2-4c4b-a41a-f438e3b81a09"
      },
      "outputs": [
        {
          "name": "stdout",
          "output_type": "stream",
          "text": [
            "<class 'pandas.core.frame.DataFrame'>\n",
            "Int64Index: 788 entries, 0 to 787\n",
            "Data columns (total 17 columns):\n",
            " #   Column            Non-Null Count  Dtype  \n",
            "---  ------            --------------  -----  \n",
            " 0   artist name       788 non-null    object \n",
            " 1   track name        788 non-null    object \n",
            " 2   track id          788 non-null    object \n",
            " 3   popularity        788 non-null    int64  \n",
            " 4   danceability      788 non-null    float64\n",
            " 5   energy            788 non-null    float64\n",
            " 6   key               788 non-null    int64  \n",
            " 7   loudness          788 non-null    float64\n",
            " 8   mode              788 non-null    int64  \n",
            " 9   speechiness       788 non-null    float64\n",
            " 10  acousticness      788 non-null    float64\n",
            " 11  instrumentalness  788 non-null    float64\n",
            " 12  liveness          788 non-null    float64\n",
            " 13  valence           788 non-null    float64\n",
            " 14  tempo             788 non-null    float64\n",
            " 15  duration_ms       788 non-null    int64  \n",
            " 16  time_signature    788 non-null    int64  \n",
            "dtypes: float64(9), int64(5), object(3)\n",
            "memory usage: 110.8+ KB\n"
          ]
        }
      ],
      "source": [
        "# liat info dataframe gabungan \n",
        "korean_song_df.info()"
      ]
    },
    {
      "cell_type": "code",
      "execution_count": null,
      "metadata": {
        "colab": {
          "base_uri": "https://localhost:8080/"
        },
        "id": "4udrYKzmMeTI",
        "outputId": "f4e988c7-79eb-4a45-aae5-727216f5a39e"
      },
      "outputs": [
        {
          "data": {
            "text/plain": [
              "artist name         0\n",
              "track name          0\n",
              "track id            0\n",
              "popularity          0\n",
              "danceability        0\n",
              "energy              0\n",
              "key                 0\n",
              "loudness            0\n",
              "mode                0\n",
              "speechiness         0\n",
              "acousticness        0\n",
              "instrumentalness    0\n",
              "liveness            0\n",
              "valence             0\n",
              "tempo               0\n",
              "duration_ms         0\n",
              "time_signature      0\n",
              "dtype: int64"
            ]
          },
          "execution_count": 44,
          "metadata": {},
          "output_type": "execute_result"
        }
      ],
      "source": [
        "# periksa jumlah duplicate pada kolom artist name dan track name\n",
        "korean_song_df[korean_song_df.duplicated(subset=['artist name', 'track name'], keep=False)].count()"
      ]
    },
    {
      "cell_type": "markdown",
      "metadata": {
        "id": "w1Si1LHhBJt-"
      },
      "source": [
        "### Japan Popular Track Song"
      ]
    },
    {
      "cell_type": "code",
      "execution_count": null,
      "metadata": {
        "colab": {
          "base_uri": "https://localhost:8080/"
        },
        "id": "iK-bVYcsC_AH",
        "outputId": "cfb8cce1-e162-4db9-85e8-fe2a77fbee83"
      },
      "outputs": [
        {
          "name": "stdout",
          "output_type": "stream",
          "text": [
            "number of elements in the track_id list : 1000\n"
          ]
        }
      ],
      "source": [
        "# buat list kosong untuk menampung hasil penarikan lagu dari track\n",
        "artist_name3 = []\n",
        "track_name3 = []\n",
        "popularity3 = []\n",
        "track_id3 = []\n",
        "\n",
        "# for in buat fetch data\n",
        "for i in range(0, 1000, 50):\n",
        "    # maksimum offset cuma sampe 1000\n",
        "    track_results3 = sp.search(q='year:2022', type='track',market='JP', limit=50, offset=i)\n",
        "    for i,t in enumerate(track_results3['tracks']['items']):\n",
        "        artist_name3.append(t['artists'][0]['name'])\n",
        "        track_name3.append(t['name'])\n",
        "        track_id3.append(t['id'])\n",
        "        popularity3.append(t['popularity'])\n",
        "\n",
        "# checking the result\n",
        "print(f'number of elements in the track_id list : {len(track_id3)}')"
      ]
    },
    {
      "cell_type": "code",
      "execution_count": null,
      "metadata": {
        "colab": {
          "base_uri": "https://localhost:8080/",
          "height": 206
        },
        "id": "Jx3QbrvXDgls",
        "outputId": "7d2466de-d618-49db-8441-d0b1c5b8678a"
      },
      "outputs": [
        {
          "data": {
            "text/html": [
              "\n",
              "  <div id=\"df-e85271bb-5df2-4a91-944a-1edfefd0b489\">\n",
              "    <div class=\"colab-df-container\">\n",
              "      <div>\n",
              "<style scoped>\n",
              "    .dataframe tbody tr th:only-of-type {\n",
              "        vertical-align: middle;\n",
              "    }\n",
              "\n",
              "    .dataframe tbody tr th {\n",
              "        vertical-align: top;\n",
              "    }\n",
              "\n",
              "    .dataframe thead th {\n",
              "        text-align: right;\n",
              "    }\n",
              "</style>\n",
              "<table border=\"1\" class=\"dataframe\">\n",
              "  <thead>\n",
              "    <tr style=\"text-align: right;\">\n",
              "      <th></th>\n",
              "      <th>artist name</th>\n",
              "      <th>track name</th>\n",
              "      <th>track id</th>\n",
              "      <th>popularity</th>\n",
              "    </tr>\n",
              "  </thead>\n",
              "  <tbody>\n",
              "    <tr>\n",
              "      <th>0</th>\n",
              "      <td>Official HIGE DANdism</td>\n",
              "      <td>ミックスナッツ</td>\n",
              "      <td>60ReNXcPcsVFd7nUuQw5HZ</td>\n",
              "      <td>77</td>\n",
              "    </tr>\n",
              "    <tr>\n",
              "      <th>1</th>\n",
              "      <td>Ish Kevin</td>\n",
              "      <td>My Year (2022)</td>\n",
              "      <td>16TeLUubmneRAhwmRAMbjM</td>\n",
              "      <td>21</td>\n",
              "    </tr>\n",
              "    <tr>\n",
              "      <th>2</th>\n",
              "      <td>Kenshi Yonezu</td>\n",
              "      <td>POP SONG</td>\n",
              "      <td>2wPSiRWMFFeL1FC4MJ3Qxf</td>\n",
              "      <td>50</td>\n",
              "    </tr>\n",
              "    <tr>\n",
              "      <th>3</th>\n",
              "      <td>THE YELLOW MONKEY</td>\n",
              "      <td>JAM - 2022 Remaster</td>\n",
              "      <td>4uQkimBWBbDdDZdPo6GJsZ</td>\n",
              "      <td>46</td>\n",
              "    </tr>\n",
              "    <tr>\n",
              "      <th>4</th>\n",
              "      <td>SEKAI NO OWARI</td>\n",
              "      <td>Habit</td>\n",
              "      <td>2uMNMcjjUz8oNIxjIu20qE</td>\n",
              "      <td>78</td>\n",
              "    </tr>\n",
              "  </tbody>\n",
              "</table>\n",
              "</div>\n",
              "      <button class=\"colab-df-convert\" onclick=\"convertToInteractive('df-e85271bb-5df2-4a91-944a-1edfefd0b489')\"\n",
              "              title=\"Convert this dataframe to an interactive table.\"\n",
              "              style=\"display:none;\">\n",
              "        \n",
              "  <svg xmlns=\"http://www.w3.org/2000/svg\" height=\"24px\"viewBox=\"0 0 24 24\"\n",
              "       width=\"24px\">\n",
              "    <path d=\"M0 0h24v24H0V0z\" fill=\"none\"/>\n",
              "    <path d=\"M18.56 5.44l.94 2.06.94-2.06 2.06-.94-2.06-.94-.94-2.06-.94 2.06-2.06.94zm-11 1L8.5 8.5l.94-2.06 2.06-.94-2.06-.94L8.5 2.5l-.94 2.06-2.06.94zm10 10l.94 2.06.94-2.06 2.06-.94-2.06-.94-.94-2.06-.94 2.06-2.06.94z\"/><path d=\"M17.41 7.96l-1.37-1.37c-.4-.4-.92-.59-1.43-.59-.52 0-1.04.2-1.43.59L10.3 9.45l-7.72 7.72c-.78.78-.78 2.05 0 2.83L4 21.41c.39.39.9.59 1.41.59.51 0 1.02-.2 1.41-.59l7.78-7.78 2.81-2.81c.8-.78.8-2.07 0-2.86zM5.41 20L4 18.59l7.72-7.72 1.47 1.35L5.41 20z\"/>\n",
              "  </svg>\n",
              "      </button>\n",
              "      \n",
              "  <style>\n",
              "    .colab-df-container {\n",
              "      display:flex;\n",
              "      flex-wrap:wrap;\n",
              "      gap: 12px;\n",
              "    }\n",
              "\n",
              "    .colab-df-convert {\n",
              "      background-color: #E8F0FE;\n",
              "      border: none;\n",
              "      border-radius: 50%;\n",
              "      cursor: pointer;\n",
              "      display: none;\n",
              "      fill: #1967D2;\n",
              "      height: 32px;\n",
              "      padding: 0 0 0 0;\n",
              "      width: 32px;\n",
              "    }\n",
              "\n",
              "    .colab-df-convert:hover {\n",
              "      background-color: #E2EBFA;\n",
              "      box-shadow: 0px 1px 2px rgba(60, 64, 67, 0.3), 0px 1px 3px 1px rgba(60, 64, 67, 0.15);\n",
              "      fill: #174EA6;\n",
              "    }\n",
              "\n",
              "    [theme=dark] .colab-df-convert {\n",
              "      background-color: #3B4455;\n",
              "      fill: #D2E3FC;\n",
              "    }\n",
              "\n",
              "    [theme=dark] .colab-df-convert:hover {\n",
              "      background-color: #434B5C;\n",
              "      box-shadow: 0px 1px 3px 1px rgba(0, 0, 0, 0.15);\n",
              "      filter: drop-shadow(0px 1px 2px rgba(0, 0, 0, 0.3));\n",
              "      fill: #FFFFFF;\n",
              "    }\n",
              "  </style>\n",
              "\n",
              "      <script>\n",
              "        const buttonEl =\n",
              "          document.querySelector('#df-e85271bb-5df2-4a91-944a-1edfefd0b489 button.colab-df-convert');\n",
              "        buttonEl.style.display =\n",
              "          google.colab.kernel.accessAllowed ? 'block' : 'none';\n",
              "\n",
              "        async function convertToInteractive(key) {\n",
              "          const element = document.querySelector('#df-e85271bb-5df2-4a91-944a-1edfefd0b489');\n",
              "          const dataTable =\n",
              "            await google.colab.kernel.invokeFunction('convertToInteractive',\n",
              "                                                     [key], {});\n",
              "          if (!dataTable) return;\n",
              "\n",
              "          const docLinkHtml = 'Like what you see? Visit the ' +\n",
              "            '<a target=\"_blank\" href=https://colab.research.google.com/notebooks/data_table.ipynb>data table notebook</a>'\n",
              "            + ' to learn more about interactive tables.';\n",
              "          element.innerHTML = '';\n",
              "          dataTable['output_type'] = 'display_data';\n",
              "          await google.colab.output.renderOutput(dataTable, element);\n",
              "          const docLink = document.createElement('div');\n",
              "          docLink.innerHTML = docLinkHtml;\n",
              "          element.appendChild(docLink);\n",
              "        }\n",
              "      </script>\n",
              "    </div>\n",
              "  </div>\n",
              "  "
            ],
            "text/plain": [
              "             artist name           track name                track id  \\\n",
              "0  Official HIGE DANdism              ミックスナッツ  60ReNXcPcsVFd7nUuQw5HZ   \n",
              "1              Ish Kevin       My Year (2022)  16TeLUubmneRAhwmRAMbjM   \n",
              "2          Kenshi Yonezu             POP SONG  2wPSiRWMFFeL1FC4MJ3Qxf   \n",
              "3      THE YELLOW MONKEY  JAM - 2022 Remaster  4uQkimBWBbDdDZdPo6GJsZ   \n",
              "4         SEKAI NO OWARI                Habit  2uMNMcjjUz8oNIxjIu20qE   \n",
              "\n",
              "   popularity  \n",
              "0          77  \n",
              "1          21  \n",
              "2          50  \n",
              "3          46  \n",
              "4          78  "
            ]
          },
          "execution_count": 47,
          "metadata": {},
          "output_type": "execute_result"
        }
      ],
      "source": [
        "# tampung semua data hasil tarikan ke dataframe\n",
        "japan_track = pd.DataFrame({'artist name' : artist_name3, 'track name' : track_name3, \n",
        "                          'track id' : track_id3, 'popularity' : popularity3})\n",
        "japan_track.head()"
      ]
    },
    {
      "cell_type": "code",
      "execution_count": null,
      "metadata": {
        "colab": {
          "base_uri": "https://localhost:8080/"
        },
        "id": "bGhzDrTuMkTC",
        "outputId": "d800fdaf-7b95-44b7-a894-7f3190808a27"
      },
      "outputs": [
        {
          "data": {
            "text/plain": [
              "(1000, 4)"
            ]
          },
          "execution_count": 48,
          "metadata": {},
          "output_type": "execute_result"
        }
      ],
      "source": [
        "# liat jumlah baris dan kolom dari dataframe track\n",
        "japan_track.shape"
      ]
    },
    {
      "cell_type": "code",
      "execution_count": null,
      "metadata": {
        "colab": {
          "base_uri": "https://localhost:8080/"
        },
        "id": "xLsaeMJxMlC2",
        "outputId": "fb3f1e87-3ebf-47d5-f93c-730e282bec6a"
      },
      "outputs": [
        {
          "name": "stdout",
          "output_type": "stream",
          "text": [
            "<class 'pandas.core.frame.DataFrame'>\n",
            "RangeIndex: 1000 entries, 0 to 999\n",
            "Data columns (total 4 columns):\n",
            " #   Column       Non-Null Count  Dtype \n",
            "---  ------       --------------  ----- \n",
            " 0   artist name  1000 non-null   object\n",
            " 1   track name   1000 non-null   object\n",
            " 2   track id     1000 non-null   object\n",
            " 3   popularity   1000 non-null   int64 \n",
            "dtypes: int64(1), object(3)\n",
            "memory usage: 31.4+ KB\n"
          ]
        }
      ],
      "source": [
        "# liat informasi dataset track\n",
        "japan_track.info()"
      ]
    },
    {
      "cell_type": "code",
      "execution_count": null,
      "metadata": {
        "colab": {
          "base_uri": "https://localhost:8080/"
        },
        "id": "6F3Z1VPFMmI5",
        "outputId": "cfa43805-ee21-4223-d9e1-dd5180b1630f"
      },
      "outputs": [
        {
          "data": {
            "text/plain": [
              "75"
            ]
          },
          "execution_count": 50,
          "metadata": {},
          "output_type": "execute_result"
        }
      ],
      "source": [
        "# groupby berdasarkan nama artist dan nama track untuk memeriksa duplicate\n",
        "grouped_japan = japan_track.groupby(['artist name', 'track name'], as_index=True).size()\n",
        "grouped_japan[grouped_japan > 1].count()"
      ]
    },
    {
      "cell_type": "code",
      "execution_count": null,
      "metadata": {
        "id": "FJrgXmrKMnEI"
      },
      "outputs": [],
      "source": [
        "# menghapus duplicate pada nama artist dan nama tracknya\n",
        "japan_track.drop_duplicates(subset=['artist name', 'track name'], inplace=True)"
      ]
    },
    {
      "cell_type": "code",
      "execution_count": null,
      "metadata": {
        "colab": {
          "base_uri": "https://localhost:8080/"
        },
        "id": "tnFsJ_3RMoh8",
        "outputId": "1af20aa1-238b-4097-9a80-e2056371fa14"
      },
      "outputs": [
        {
          "data": {
            "text/plain": [
              "0"
            ]
          },
          "execution_count": 52,
          "metadata": {},
          "output_type": "execute_result"
        }
      ],
      "source": [
        "# groupby berdasarkan nama artist dan nama track buat memeriksa ulang duplicate\n",
        "group_jp_after_dropping = japan_track.groupby(['artist name', 'track name'], as_index=True).size()\n",
        "group_jp_after_dropping[group_jp_after_dropping > 1].count()"
      ]
    },
    {
      "cell_type": "code",
      "execution_count": null,
      "metadata": {
        "colab": {
          "base_uri": "https://localhost:8080/"
        },
        "id": "J1mZ3kZSMps0",
        "outputId": "b077f49d-e58a-420c-fcb7-6e4de402a322"
      },
      "outputs": [
        {
          "data": {
            "text/plain": [
              "artist name    0\n",
              "track name     0\n",
              "track id       0\n",
              "popularity     0\n",
              "dtype: int64"
            ]
          },
          "execution_count": 53,
          "metadata": {},
          "output_type": "execute_result"
        }
      ],
      "source": [
        "# check duplicate ulang per kolom berdasasrkan nama artist dan nama track\n",
        "japan_track[japan_track.duplicated(subset=['artist name', 'track name'], keep=False)].count()"
      ]
    },
    {
      "cell_type": "code",
      "execution_count": null,
      "metadata": {
        "colab": {
          "base_uri": "https://localhost:8080/"
        },
        "id": "_QJmVNlsMqku",
        "outputId": "1f726338-b652-4be9-db79-2ff59a394519"
      },
      "outputs": [
        {
          "data": {
            "text/plain": [
              "(834, 4)"
            ]
          },
          "execution_count": 54,
          "metadata": {},
          "output_type": "execute_result"
        }
      ],
      "source": [
        "# liat jumlah baris dan kolom setelah penghapusan duplicate\n",
        "japan_track.shape"
      ]
    },
    {
      "cell_type": "code",
      "execution_count": null,
      "metadata": {
        "colab": {
          "base_uri": "https://localhost:8080/"
        },
        "id": "bB0USRtMMr74",
        "outputId": "c7375b63-d5aa-4e32-f8c3-55fe08113e26"
      },
      "outputs": [
        {
          "name": "stdout",
          "output_type": "stream",
          "text": [
            "Jumlah track yang bukan Audio Features yang ada : 1\n",
            "jumlah elemen yang ada di dalam list track_id : 833\n"
          ]
        }
      ],
      "source": [
        "# list kosong, 100 batchsize dan counter buat nampung none result\n",
        "row_jp = []\n",
        "batch_size = 100\n",
        "# none result berarti yang tidak ada audio features\n",
        "none_counter = 0\n",
        "\n",
        "for i in range(0, len(japan_track['track id']), batch_size):\n",
        "    batch = japan_track['track id'][i:i+batch_size]\n",
        "    feature_results = sp.audio_features(batch)\n",
        "    for i, t in enumerate(feature_results):\n",
        "        # kalau track yang ditarik bukan audio feature\n",
        "        if t == None:\n",
        "            none_counter = none_counter + 1\n",
        "        # kalau track yang ditarik adalah audio feature\n",
        "        else:\n",
        "            row_jp.append(t)\n",
        "\n",
        "# liat jumlah track yang bukan fitur audio\n",
        "print(f'Jumlah track yang bukan Audio Features yang ada : {none_counter}')\n",
        "# liat hasil dari jumlah elemen pada track \n",
        "print(f'jumlah elemen yang ada di dalam list track_id : {len(row_jp)}')"
      ]
    },
    {
      "cell_type": "code",
      "execution_count": null,
      "metadata": {
        "colab": {
          "base_uri": "https://localhost:8080/",
          "height": 357
        },
        "id": "a75V3i_vMs4W",
        "outputId": "84972724-55f8-43c8-eb1f-128fe6dc2267"
      },
      "outputs": [
        {
          "data": {
            "text/html": [
              "\n",
              "  <div id=\"df-2a1426fe-a342-4e42-b158-529d65900ec9\">\n",
              "    <div class=\"colab-df-container\">\n",
              "      <div>\n",
              "<style scoped>\n",
              "    .dataframe tbody tr th:only-of-type {\n",
              "        vertical-align: middle;\n",
              "    }\n",
              "\n",
              "    .dataframe tbody tr th {\n",
              "        vertical-align: top;\n",
              "    }\n",
              "\n",
              "    .dataframe thead th {\n",
              "        text-align: right;\n",
              "    }\n",
              "</style>\n",
              "<table border=\"1\" class=\"dataframe\">\n",
              "  <thead>\n",
              "    <tr style=\"text-align: right;\">\n",
              "      <th></th>\n",
              "      <th>danceability</th>\n",
              "      <th>energy</th>\n",
              "      <th>key</th>\n",
              "      <th>loudness</th>\n",
              "      <th>mode</th>\n",
              "      <th>speechiness</th>\n",
              "      <th>acousticness</th>\n",
              "      <th>instrumentalness</th>\n",
              "      <th>liveness</th>\n",
              "      <th>valence</th>\n",
              "      <th>tempo</th>\n",
              "      <th>type</th>\n",
              "      <th>id</th>\n",
              "      <th>uri</th>\n",
              "      <th>track_href</th>\n",
              "      <th>analysis_url</th>\n",
              "      <th>duration_ms</th>\n",
              "      <th>time_signature</th>\n",
              "    </tr>\n",
              "  </thead>\n",
              "  <tbody>\n",
              "    <tr>\n",
              "      <th>0</th>\n",
              "      <td>0.542</td>\n",
              "      <td>0.918</td>\n",
              "      <td>6</td>\n",
              "      <td>-5.074</td>\n",
              "      <td>1</td>\n",
              "      <td>0.0937</td>\n",
              "      <td>0.01010</td>\n",
              "      <td>0.000000</td>\n",
              "      <td>0.259</td>\n",
              "      <td>0.784</td>\n",
              "      <td>150.094</td>\n",
              "      <td>audio_features</td>\n",
              "      <td>60ReNXcPcsVFd7nUuQw5HZ</td>\n",
              "      <td>spotify:track:60ReNXcPcsVFd7nUuQw5HZ</td>\n",
              "      <td>https://api.spotify.com/v1/tracks/60ReNXcPcsVF...</td>\n",
              "      <td>https://api.spotify.com/v1/audio-analysis/60Re...</td>\n",
              "      <td>213438</td>\n",
              "      <td>4</td>\n",
              "    </tr>\n",
              "    <tr>\n",
              "      <th>1</th>\n",
              "      <td>0.521</td>\n",
              "      <td>0.683</td>\n",
              "      <td>5</td>\n",
              "      <td>-6.240</td>\n",
              "      <td>0</td>\n",
              "      <td>0.5010</td>\n",
              "      <td>0.15900</td>\n",
              "      <td>0.000000</td>\n",
              "      <td>0.187</td>\n",
              "      <td>0.737</td>\n",
              "      <td>139.439</td>\n",
              "      <td>audio_features</td>\n",
              "      <td>16TeLUubmneRAhwmRAMbjM</td>\n",
              "      <td>spotify:track:16TeLUubmneRAhwmRAMbjM</td>\n",
              "      <td>https://api.spotify.com/v1/tracks/16TeLUubmneR...</td>\n",
              "      <td>https://api.spotify.com/v1/audio-analysis/16Te...</td>\n",
              "      <td>161808</td>\n",
              "      <td>3</td>\n",
              "    </tr>\n",
              "    <tr>\n",
              "      <th>2</th>\n",
              "      <td>0.762</td>\n",
              "      <td>0.792</td>\n",
              "      <td>11</td>\n",
              "      <td>-6.443</td>\n",
              "      <td>0</td>\n",
              "      <td>0.1340</td>\n",
              "      <td>0.22000</td>\n",
              "      <td>0.000017</td>\n",
              "      <td>0.939</td>\n",
              "      <td>0.806</td>\n",
              "      <td>109.968</td>\n",
              "      <td>audio_features</td>\n",
              "      <td>2wPSiRWMFFeL1FC4MJ3Qxf</td>\n",
              "      <td>spotify:track:2wPSiRWMFFeL1FC4MJ3Qxf</td>\n",
              "      <td>https://api.spotify.com/v1/tracks/2wPSiRWMFFeL...</td>\n",
              "      <td>https://api.spotify.com/v1/audio-analysis/2wPS...</td>\n",
              "      <td>199187</td>\n",
              "      <td>4</td>\n",
              "    </tr>\n",
              "    <tr>\n",
              "      <th>3</th>\n",
              "      <td>0.282</td>\n",
              "      <td>0.862</td>\n",
              "      <td>0</td>\n",
              "      <td>-3.578</td>\n",
              "      <td>1</td>\n",
              "      <td>0.0484</td>\n",
              "      <td>0.00392</td>\n",
              "      <td>0.000000</td>\n",
              "      <td>0.107</td>\n",
              "      <td>0.366</td>\n",
              "      <td>113.808</td>\n",
              "      <td>audio_features</td>\n",
              "      <td>4uQkimBWBbDdDZdPo6GJsZ</td>\n",
              "      <td>spotify:track:4uQkimBWBbDdDZdPo6GJsZ</td>\n",
              "      <td>https://api.spotify.com/v1/tracks/4uQkimBWBbDd...</td>\n",
              "      <td>https://api.spotify.com/v1/audio-analysis/4uQk...</td>\n",
              "      <td>319987</td>\n",
              "      <td>3</td>\n",
              "    </tr>\n",
              "    <tr>\n",
              "      <th>4</th>\n",
              "      <td>0.749</td>\n",
              "      <td>0.850</td>\n",
              "      <td>10</td>\n",
              "      <td>-5.390</td>\n",
              "      <td>0</td>\n",
              "      <td>0.1260</td>\n",
              "      <td>0.20300</td>\n",
              "      <td>0.000000</td>\n",
              "      <td>0.180</td>\n",
              "      <td>0.912</td>\n",
              "      <td>117.968</td>\n",
              "      <td>audio_features</td>\n",
              "      <td>2uMNMcjjUz8oNIxjIu20qE</td>\n",
              "      <td>spotify:track:2uMNMcjjUz8oNIxjIu20qE</td>\n",
              "      <td>https://api.spotify.com/v1/tracks/2uMNMcjjUz8o...</td>\n",
              "      <td>https://api.spotify.com/v1/audio-analysis/2uMN...</td>\n",
              "      <td>253154</td>\n",
              "      <td>4</td>\n",
              "    </tr>\n",
              "  </tbody>\n",
              "</table>\n",
              "</div>\n",
              "      <button class=\"colab-df-convert\" onclick=\"convertToInteractive('df-2a1426fe-a342-4e42-b158-529d65900ec9')\"\n",
              "              title=\"Convert this dataframe to an interactive table.\"\n",
              "              style=\"display:none;\">\n",
              "        \n",
              "  <svg xmlns=\"http://www.w3.org/2000/svg\" height=\"24px\"viewBox=\"0 0 24 24\"\n",
              "       width=\"24px\">\n",
              "    <path d=\"M0 0h24v24H0V0z\" fill=\"none\"/>\n",
              "    <path d=\"M18.56 5.44l.94 2.06.94-2.06 2.06-.94-2.06-.94-.94-2.06-.94 2.06-2.06.94zm-11 1L8.5 8.5l.94-2.06 2.06-.94-2.06-.94L8.5 2.5l-.94 2.06-2.06.94zm10 10l.94 2.06.94-2.06 2.06-.94-2.06-.94-.94-2.06-.94 2.06-2.06.94z\"/><path d=\"M17.41 7.96l-1.37-1.37c-.4-.4-.92-.59-1.43-.59-.52 0-1.04.2-1.43.59L10.3 9.45l-7.72 7.72c-.78.78-.78 2.05 0 2.83L4 21.41c.39.39.9.59 1.41.59.51 0 1.02-.2 1.41-.59l7.78-7.78 2.81-2.81c.8-.78.8-2.07 0-2.86zM5.41 20L4 18.59l7.72-7.72 1.47 1.35L5.41 20z\"/>\n",
              "  </svg>\n",
              "      </button>\n",
              "      \n",
              "  <style>\n",
              "    .colab-df-container {\n",
              "      display:flex;\n",
              "      flex-wrap:wrap;\n",
              "      gap: 12px;\n",
              "    }\n",
              "\n",
              "    .colab-df-convert {\n",
              "      background-color: #E8F0FE;\n",
              "      border: none;\n",
              "      border-radius: 50%;\n",
              "      cursor: pointer;\n",
              "      display: none;\n",
              "      fill: #1967D2;\n",
              "      height: 32px;\n",
              "      padding: 0 0 0 0;\n",
              "      width: 32px;\n",
              "    }\n",
              "\n",
              "    .colab-df-convert:hover {\n",
              "      background-color: #E2EBFA;\n",
              "      box-shadow: 0px 1px 2px rgba(60, 64, 67, 0.3), 0px 1px 3px 1px rgba(60, 64, 67, 0.15);\n",
              "      fill: #174EA6;\n",
              "    }\n",
              "\n",
              "    [theme=dark] .colab-df-convert {\n",
              "      background-color: #3B4455;\n",
              "      fill: #D2E3FC;\n",
              "    }\n",
              "\n",
              "    [theme=dark] .colab-df-convert:hover {\n",
              "      background-color: #434B5C;\n",
              "      box-shadow: 0px 1px 3px 1px rgba(0, 0, 0, 0.15);\n",
              "      filter: drop-shadow(0px 1px 2px rgba(0, 0, 0, 0.3));\n",
              "      fill: #FFFFFF;\n",
              "    }\n",
              "  </style>\n",
              "\n",
              "      <script>\n",
              "        const buttonEl =\n",
              "          document.querySelector('#df-2a1426fe-a342-4e42-b158-529d65900ec9 button.colab-df-convert');\n",
              "        buttonEl.style.display =\n",
              "          google.colab.kernel.accessAllowed ? 'block' : 'none';\n",
              "\n",
              "        async function convertToInteractive(key) {\n",
              "          const element = document.querySelector('#df-2a1426fe-a342-4e42-b158-529d65900ec9');\n",
              "          const dataTable =\n",
              "            await google.colab.kernel.invokeFunction('convertToInteractive',\n",
              "                                                     [key], {});\n",
              "          if (!dataTable) return;\n",
              "\n",
              "          const docLinkHtml = 'Like what you see? Visit the ' +\n",
              "            '<a target=\"_blank\" href=https://colab.research.google.com/notebooks/data_table.ipynb>data table notebook</a>'\n",
              "            + ' to learn more about interactive tables.';\n",
              "          element.innerHTML = '';\n",
              "          dataTable['output_type'] = 'display_data';\n",
              "          await google.colab.output.renderOutput(dataTable, element);\n",
              "          const docLink = document.createElement('div');\n",
              "          docLink.innerHTML = docLinkHtml;\n",
              "          element.appendChild(docLink);\n",
              "        }\n",
              "      </script>\n",
              "    </div>\n",
              "  </div>\n",
              "  "
            ],
            "text/plain": [
              "   danceability  energy  key  loudness  mode  speechiness  acousticness  \\\n",
              "0         0.542   0.918    6    -5.074     1       0.0937       0.01010   \n",
              "1         0.521   0.683    5    -6.240     0       0.5010       0.15900   \n",
              "2         0.762   0.792   11    -6.443     0       0.1340       0.22000   \n",
              "3         0.282   0.862    0    -3.578     1       0.0484       0.00392   \n",
              "4         0.749   0.850   10    -5.390     0       0.1260       0.20300   \n",
              "\n",
              "   instrumentalness  liveness  valence    tempo            type  \\\n",
              "0          0.000000     0.259    0.784  150.094  audio_features   \n",
              "1          0.000000     0.187    0.737  139.439  audio_features   \n",
              "2          0.000017     0.939    0.806  109.968  audio_features   \n",
              "3          0.000000     0.107    0.366  113.808  audio_features   \n",
              "4          0.000000     0.180    0.912  117.968  audio_features   \n",
              "\n",
              "                       id                                   uri  \\\n",
              "0  60ReNXcPcsVFd7nUuQw5HZ  spotify:track:60ReNXcPcsVFd7nUuQw5HZ   \n",
              "1  16TeLUubmneRAhwmRAMbjM  spotify:track:16TeLUubmneRAhwmRAMbjM   \n",
              "2  2wPSiRWMFFeL1FC4MJ3Qxf  spotify:track:2wPSiRWMFFeL1FC4MJ3Qxf   \n",
              "3  4uQkimBWBbDdDZdPo6GJsZ  spotify:track:4uQkimBWBbDdDZdPo6GJsZ   \n",
              "4  2uMNMcjjUz8oNIxjIu20qE  spotify:track:2uMNMcjjUz8oNIxjIu20qE   \n",
              "\n",
              "                                          track_href  \\\n",
              "0  https://api.spotify.com/v1/tracks/60ReNXcPcsVF...   \n",
              "1  https://api.spotify.com/v1/tracks/16TeLUubmneR...   \n",
              "2  https://api.spotify.com/v1/tracks/2wPSiRWMFFeL...   \n",
              "3  https://api.spotify.com/v1/tracks/4uQkimBWBbDd...   \n",
              "4  https://api.spotify.com/v1/tracks/2uMNMcjjUz8o...   \n",
              "\n",
              "                                        analysis_url  duration_ms  \\\n",
              "0  https://api.spotify.com/v1/audio-analysis/60Re...       213438   \n",
              "1  https://api.spotify.com/v1/audio-analysis/16Te...       161808   \n",
              "2  https://api.spotify.com/v1/audio-analysis/2wPS...       199187   \n",
              "3  https://api.spotify.com/v1/audio-analysis/4uQk...       319987   \n",
              "4  https://api.spotify.com/v1/audio-analysis/2uMN...       253154   \n",
              "\n",
              "   time_signature  \n",
              "0               4  \n",
              "1               3  \n",
              "2               4  \n",
              "3               3  \n",
              "4               4  "
            ]
          },
          "execution_count": 56,
          "metadata": {},
          "output_type": "execute_result"
        }
      ],
      "source": [
        "# masukan semua elemen dalam list track ke dalam dataframe\n",
        "japan_aufeat = pd.DataFrame.from_dict(row_jp, orient='columns')\n",
        "japan_aufeat.head()"
      ]
    },
    {
      "cell_type": "code",
      "execution_count": null,
      "metadata": {
        "colab": {
          "base_uri": "https://localhost:8080/"
        },
        "id": "_N7FzUy2Mtwj",
        "outputId": "8df07774-2450-4835-d7fc-1e40fdc0adc1"
      },
      "outputs": [
        {
          "data": {
            "text/plain": [
              "(833, 18)"
            ]
          },
          "execution_count": 57,
          "metadata": {},
          "output_type": "execute_result"
        }
      ],
      "source": [
        "# liat ukuram jumlah baris dan kolom dari dataframe audio features\n",
        "japan_aufeat.shape"
      ]
    },
    {
      "cell_type": "code",
      "execution_count": null,
      "metadata": {
        "colab": {
          "base_uri": "https://localhost:8080/"
        },
        "id": "i_3yzcH3Mul9",
        "outputId": "e3e68727-d3a4-49c6-cc42-84fec76c2033"
      },
      "outputs": [
        {
          "name": "stdout",
          "output_type": "stream",
          "text": [
            "<class 'pandas.core.frame.DataFrame'>\n",
            "RangeIndex: 833 entries, 0 to 832\n",
            "Data columns (total 18 columns):\n",
            " #   Column            Non-Null Count  Dtype  \n",
            "---  ------            --------------  -----  \n",
            " 0   danceability      833 non-null    float64\n",
            " 1   energy            833 non-null    float64\n",
            " 2   key               833 non-null    int64  \n",
            " 3   loudness          833 non-null    float64\n",
            " 4   mode              833 non-null    int64  \n",
            " 5   speechiness       833 non-null    float64\n",
            " 6   acousticness      833 non-null    float64\n",
            " 7   instrumentalness  833 non-null    float64\n",
            " 8   liveness          833 non-null    float64\n",
            " 9   valence           833 non-null    float64\n",
            " 10  tempo             833 non-null    float64\n",
            " 11  type              833 non-null    object \n",
            " 12  id                833 non-null    object \n",
            " 13  uri               833 non-null    object \n",
            " 14  track_href        833 non-null    object \n",
            " 15  analysis_url      833 non-null    object \n",
            " 16  duration_ms       833 non-null    int64  \n",
            " 17  time_signature    833 non-null    int64  \n",
            "dtypes: float64(9), int64(4), object(5)\n",
            "memory usage: 117.3+ KB\n"
          ]
        }
      ],
      "source": [
        "# liat info dari dataframe audio feature\n",
        "japan_aufeat.info()"
      ]
    },
    {
      "cell_type": "code",
      "execution_count": null,
      "metadata": {
        "colab": {
          "base_uri": "https://localhost:8080/"
        },
        "id": "sG8ctEjzMvfm",
        "outputId": "b2b349dc-7483-4a72-c8f5-654aa00bbe3d"
      },
      "outputs": [
        {
          "data": {
            "text/plain": [
              "(833, 14)"
            ]
          },
          "execution_count": 59,
          "metadata": {},
          "output_type": "execute_result"
        }
      ],
      "source": [
        "# menghapus kolom yang tidak digunakan\n",
        "columns_to_drop = ['analysis_url', 'track_href', 'type', 'uri']\n",
        "\n",
        "japan_aufeat.drop(columns_to_drop, axis=1, inplace=True)\n",
        "# mengganti kolom id jadi id track\n",
        "japan_aufeat.rename(columns={'id': 'track id'}, inplace=True)\n",
        "japan_aufeat.shape"
      ]
    },
    {
      "cell_type": "code",
      "execution_count": null,
      "metadata": {
        "colab": {
          "base_uri": "https://localhost:8080/",
          "height": 426
        },
        "id": "-OCKj2DrMwf_",
        "outputId": "dff2afbc-450c-494e-88ff-7820471f4f3d"
      },
      "outputs": [
        {
          "data": {
            "text/html": [
              "\n",
              "  <div id=\"df-6b392420-4fae-4d16-95d7-362a4f4653ad\">\n",
              "    <div class=\"colab-df-container\">\n",
              "      <div>\n",
              "<style scoped>\n",
              "    .dataframe tbody tr th:only-of-type {\n",
              "        vertical-align: middle;\n",
              "    }\n",
              "\n",
              "    .dataframe tbody tr th {\n",
              "        vertical-align: top;\n",
              "    }\n",
              "\n",
              "    .dataframe thead th {\n",
              "        text-align: right;\n",
              "    }\n",
              "</style>\n",
              "<table border=\"1\" class=\"dataframe\">\n",
              "  <thead>\n",
              "    <tr style=\"text-align: right;\">\n",
              "      <th></th>\n",
              "      <th>artist name</th>\n",
              "      <th>track name</th>\n",
              "      <th>track id</th>\n",
              "      <th>popularity</th>\n",
              "      <th>danceability</th>\n",
              "      <th>energy</th>\n",
              "      <th>key</th>\n",
              "      <th>loudness</th>\n",
              "      <th>mode</th>\n",
              "      <th>speechiness</th>\n",
              "      <th>acousticness</th>\n",
              "      <th>instrumentalness</th>\n",
              "      <th>liveness</th>\n",
              "      <th>valence</th>\n",
              "      <th>tempo</th>\n",
              "      <th>duration_ms</th>\n",
              "      <th>time_signature</th>\n",
              "    </tr>\n",
              "  </thead>\n",
              "  <tbody>\n",
              "    <tr>\n",
              "      <th>0</th>\n",
              "      <td>Official HIGE DANdism</td>\n",
              "      <td>ミックスナッツ</td>\n",
              "      <td>60ReNXcPcsVFd7nUuQw5HZ</td>\n",
              "      <td>77</td>\n",
              "      <td>0.542</td>\n",
              "      <td>0.918</td>\n",
              "      <td>6</td>\n",
              "      <td>-5.074</td>\n",
              "      <td>1</td>\n",
              "      <td>0.0937</td>\n",
              "      <td>0.01010</td>\n",
              "      <td>0.000000</td>\n",
              "      <td>0.259</td>\n",
              "      <td>0.784</td>\n",
              "      <td>150.094</td>\n",
              "      <td>213438</td>\n",
              "      <td>4</td>\n",
              "    </tr>\n",
              "    <tr>\n",
              "      <th>1</th>\n",
              "      <td>Ish Kevin</td>\n",
              "      <td>My Year (2022)</td>\n",
              "      <td>16TeLUubmneRAhwmRAMbjM</td>\n",
              "      <td>21</td>\n",
              "      <td>0.521</td>\n",
              "      <td>0.683</td>\n",
              "      <td>5</td>\n",
              "      <td>-6.240</td>\n",
              "      <td>0</td>\n",
              "      <td>0.5010</td>\n",
              "      <td>0.15900</td>\n",
              "      <td>0.000000</td>\n",
              "      <td>0.187</td>\n",
              "      <td>0.737</td>\n",
              "      <td>139.439</td>\n",
              "      <td>161808</td>\n",
              "      <td>3</td>\n",
              "    </tr>\n",
              "    <tr>\n",
              "      <th>2</th>\n",
              "      <td>Kenshi Yonezu</td>\n",
              "      <td>POP SONG</td>\n",
              "      <td>2wPSiRWMFFeL1FC4MJ3Qxf</td>\n",
              "      <td>50</td>\n",
              "      <td>0.762</td>\n",
              "      <td>0.792</td>\n",
              "      <td>11</td>\n",
              "      <td>-6.443</td>\n",
              "      <td>0</td>\n",
              "      <td>0.1340</td>\n",
              "      <td>0.22000</td>\n",
              "      <td>0.000017</td>\n",
              "      <td>0.939</td>\n",
              "      <td>0.806</td>\n",
              "      <td>109.968</td>\n",
              "      <td>199187</td>\n",
              "      <td>4</td>\n",
              "    </tr>\n",
              "    <tr>\n",
              "      <th>3</th>\n",
              "      <td>THE YELLOW MONKEY</td>\n",
              "      <td>JAM - 2022 Remaster</td>\n",
              "      <td>4uQkimBWBbDdDZdPo6GJsZ</td>\n",
              "      <td>46</td>\n",
              "      <td>0.282</td>\n",
              "      <td>0.862</td>\n",
              "      <td>0</td>\n",
              "      <td>-3.578</td>\n",
              "      <td>1</td>\n",
              "      <td>0.0484</td>\n",
              "      <td>0.00392</td>\n",
              "      <td>0.000000</td>\n",
              "      <td>0.107</td>\n",
              "      <td>0.366</td>\n",
              "      <td>113.808</td>\n",
              "      <td>319987</td>\n",
              "      <td>3</td>\n",
              "    </tr>\n",
              "    <tr>\n",
              "      <th>4</th>\n",
              "      <td>SEKAI NO OWARI</td>\n",
              "      <td>Habit</td>\n",
              "      <td>2uMNMcjjUz8oNIxjIu20qE</td>\n",
              "      <td>78</td>\n",
              "      <td>0.749</td>\n",
              "      <td>0.850</td>\n",
              "      <td>10</td>\n",
              "      <td>-5.390</td>\n",
              "      <td>0</td>\n",
              "      <td>0.1260</td>\n",
              "      <td>0.20300</td>\n",
              "      <td>0.000000</td>\n",
              "      <td>0.180</td>\n",
              "      <td>0.912</td>\n",
              "      <td>117.968</td>\n",
              "      <td>253154</td>\n",
              "      <td>4</td>\n",
              "    </tr>\n",
              "  </tbody>\n",
              "</table>\n",
              "</div>\n",
              "      <button class=\"colab-df-convert\" onclick=\"convertToInteractive('df-6b392420-4fae-4d16-95d7-362a4f4653ad')\"\n",
              "              title=\"Convert this dataframe to an interactive table.\"\n",
              "              style=\"display:none;\">\n",
              "        \n",
              "  <svg xmlns=\"http://www.w3.org/2000/svg\" height=\"24px\"viewBox=\"0 0 24 24\"\n",
              "       width=\"24px\">\n",
              "    <path d=\"M0 0h24v24H0V0z\" fill=\"none\"/>\n",
              "    <path d=\"M18.56 5.44l.94 2.06.94-2.06 2.06-.94-2.06-.94-.94-2.06-.94 2.06-2.06.94zm-11 1L8.5 8.5l.94-2.06 2.06-.94-2.06-.94L8.5 2.5l-.94 2.06-2.06.94zm10 10l.94 2.06.94-2.06 2.06-.94-2.06-.94-.94-2.06-.94 2.06-2.06.94z\"/><path d=\"M17.41 7.96l-1.37-1.37c-.4-.4-.92-.59-1.43-.59-.52 0-1.04.2-1.43.59L10.3 9.45l-7.72 7.72c-.78.78-.78 2.05 0 2.83L4 21.41c.39.39.9.59 1.41.59.51 0 1.02-.2 1.41-.59l7.78-7.78 2.81-2.81c.8-.78.8-2.07 0-2.86zM5.41 20L4 18.59l7.72-7.72 1.47 1.35L5.41 20z\"/>\n",
              "  </svg>\n",
              "      </button>\n",
              "      \n",
              "  <style>\n",
              "    .colab-df-container {\n",
              "      display:flex;\n",
              "      flex-wrap:wrap;\n",
              "      gap: 12px;\n",
              "    }\n",
              "\n",
              "    .colab-df-convert {\n",
              "      background-color: #E8F0FE;\n",
              "      border: none;\n",
              "      border-radius: 50%;\n",
              "      cursor: pointer;\n",
              "      display: none;\n",
              "      fill: #1967D2;\n",
              "      height: 32px;\n",
              "      padding: 0 0 0 0;\n",
              "      width: 32px;\n",
              "    }\n",
              "\n",
              "    .colab-df-convert:hover {\n",
              "      background-color: #E2EBFA;\n",
              "      box-shadow: 0px 1px 2px rgba(60, 64, 67, 0.3), 0px 1px 3px 1px rgba(60, 64, 67, 0.15);\n",
              "      fill: #174EA6;\n",
              "    }\n",
              "\n",
              "    [theme=dark] .colab-df-convert {\n",
              "      background-color: #3B4455;\n",
              "      fill: #D2E3FC;\n",
              "    }\n",
              "\n",
              "    [theme=dark] .colab-df-convert:hover {\n",
              "      background-color: #434B5C;\n",
              "      box-shadow: 0px 1px 3px 1px rgba(0, 0, 0, 0.15);\n",
              "      filter: drop-shadow(0px 1px 2px rgba(0, 0, 0, 0.3));\n",
              "      fill: #FFFFFF;\n",
              "    }\n",
              "  </style>\n",
              "\n",
              "      <script>\n",
              "        const buttonEl =\n",
              "          document.querySelector('#df-6b392420-4fae-4d16-95d7-362a4f4653ad button.colab-df-convert');\n",
              "        buttonEl.style.display =\n",
              "          google.colab.kernel.accessAllowed ? 'block' : 'none';\n",
              "\n",
              "        async function convertToInteractive(key) {\n",
              "          const element = document.querySelector('#df-6b392420-4fae-4d16-95d7-362a4f4653ad');\n",
              "          const dataTable =\n",
              "            await google.colab.kernel.invokeFunction('convertToInteractive',\n",
              "                                                     [key], {});\n",
              "          if (!dataTable) return;\n",
              "\n",
              "          const docLinkHtml = 'Like what you see? Visit the ' +\n",
              "            '<a target=\"_blank\" href=https://colab.research.google.com/notebooks/data_table.ipynb>data table notebook</a>'\n",
              "            + ' to learn more about interactive tables.';\n",
              "          element.innerHTML = '';\n",
              "          dataTable['output_type'] = 'display_data';\n",
              "          await google.colab.output.renderOutput(dataTable, element);\n",
              "          const docLink = document.createElement('div');\n",
              "          docLink.innerHTML = docLinkHtml;\n",
              "          element.appendChild(docLink);\n",
              "        }\n",
              "      </script>\n",
              "    </div>\n",
              "  </div>\n",
              "  "
            ],
            "text/plain": [
              "             artist name           track name                track id  \\\n",
              "0  Official HIGE DANdism              ミックスナッツ  60ReNXcPcsVFd7nUuQw5HZ   \n",
              "1              Ish Kevin       My Year (2022)  16TeLUubmneRAhwmRAMbjM   \n",
              "2          Kenshi Yonezu             POP SONG  2wPSiRWMFFeL1FC4MJ3Qxf   \n",
              "3      THE YELLOW MONKEY  JAM - 2022 Remaster  4uQkimBWBbDdDZdPo6GJsZ   \n",
              "4         SEKAI NO OWARI                Habit  2uMNMcjjUz8oNIxjIu20qE   \n",
              "\n",
              "   popularity  danceability  energy  key  loudness  mode  speechiness  \\\n",
              "0          77         0.542   0.918    6    -5.074     1       0.0937   \n",
              "1          21         0.521   0.683    5    -6.240     0       0.5010   \n",
              "2          50         0.762   0.792   11    -6.443     0       0.1340   \n",
              "3          46         0.282   0.862    0    -3.578     1       0.0484   \n",
              "4          78         0.749   0.850   10    -5.390     0       0.1260   \n",
              "\n",
              "   acousticness  instrumentalness  liveness  valence    tempo  duration_ms  \\\n",
              "0       0.01010          0.000000     0.259    0.784  150.094       213438   \n",
              "1       0.15900          0.000000     0.187    0.737  139.439       161808   \n",
              "2       0.22000          0.000017     0.939    0.806  109.968       199187   \n",
              "3       0.00392          0.000000     0.107    0.366  113.808       319987   \n",
              "4       0.20300          0.000000     0.180    0.912  117.968       253154   \n",
              "\n",
              "   time_signature  \n",
              "0               4  \n",
              "1               3  \n",
              "2               4  \n",
              "3               3  \n",
              "4               4  "
            ]
          },
          "execution_count": 60,
          "metadata": {},
          "output_type": "execute_result"
        }
      ],
      "source": [
        "# merge dataframe, antara df track dan fitur audio\n",
        "# metode 'inner' memastikan kalau cuma keep track id yang sekarang di kedua dataset\n",
        "japan_song_df = pd.merge(japan_track, japan_aufeat, on='track id', how='inner')\n",
        "japan_song_df.head()"
      ]
    },
    {
      "cell_type": "code",
      "execution_count": null,
      "metadata": {
        "colab": {
          "base_uri": "https://localhost:8080/"
        },
        "id": "wTjCjHRNMxdX",
        "outputId": "d3f3bf4e-487b-44d9-a35d-c4760e67f1f0"
      },
      "outputs": [
        {
          "data": {
            "text/plain": [
              "(833, 14)"
            ]
          },
          "execution_count": 61,
          "metadata": {},
          "output_type": "execute_result"
        }
      ],
      "source": [
        "# liat ukuran jumlah baris dan kolom dataframe audio features\n",
        "japan_aufeat.shape"
      ]
    },
    {
      "cell_type": "code",
      "execution_count": null,
      "metadata": {
        "colab": {
          "base_uri": "https://localhost:8080/"
        },
        "id": "cu5y04xAMyTX",
        "outputId": "ad4c888c-91bf-4763-a76b-65e605985d8f"
      },
      "outputs": [
        {
          "name": "stdout",
          "output_type": "stream",
          "text": [
            "<class 'pandas.core.frame.DataFrame'>\n",
            "Int64Index: 833 entries, 0 to 832\n",
            "Data columns (total 17 columns):\n",
            " #   Column            Non-Null Count  Dtype  \n",
            "---  ------            --------------  -----  \n",
            " 0   artist name       833 non-null    object \n",
            " 1   track name        833 non-null    object \n",
            " 2   track id          833 non-null    object \n",
            " 3   popularity        833 non-null    int64  \n",
            " 4   danceability      833 non-null    float64\n",
            " 5   energy            833 non-null    float64\n",
            " 6   key               833 non-null    int64  \n",
            " 7   loudness          833 non-null    float64\n",
            " 8   mode              833 non-null    int64  \n",
            " 9   speechiness       833 non-null    float64\n",
            " 10  acousticness      833 non-null    float64\n",
            " 11  instrumentalness  833 non-null    float64\n",
            " 12  liveness          833 non-null    float64\n",
            " 13  valence           833 non-null    float64\n",
            " 14  tempo             833 non-null    float64\n",
            " 15  duration_ms       833 non-null    int64  \n",
            " 16  time_signature    833 non-null    int64  \n",
            "dtypes: float64(9), int64(5), object(3)\n",
            "memory usage: 117.1+ KB\n"
          ]
        }
      ],
      "source": [
        "# liat info dataframe gabungan \n",
        "japan_song_df.info()"
      ]
    },
    {
      "cell_type": "code",
      "execution_count": null,
      "metadata": {
        "colab": {
          "base_uri": "https://localhost:8080/"
        },
        "id": "l_qCd7-ZMzZx",
        "outputId": "40f7f2c6-e90f-483e-923a-fc536e47ec51"
      },
      "outputs": [
        {
          "data": {
            "text/plain": [
              "artist name         0\n",
              "track name          0\n",
              "track id            0\n",
              "popularity          0\n",
              "danceability        0\n",
              "energy              0\n",
              "key                 0\n",
              "loudness            0\n",
              "mode                0\n",
              "speechiness         0\n",
              "acousticness        0\n",
              "instrumentalness    0\n",
              "liveness            0\n",
              "valence             0\n",
              "tempo               0\n",
              "duration_ms         0\n",
              "time_signature      0\n",
              "dtype: int64"
            ]
          },
          "execution_count": 63,
          "metadata": {},
          "output_type": "execute_result"
        }
      ],
      "source": [
        "# periksa jumlah duplicate pada kolom artist name dan track name\n",
        "japan_song_df[japan_song_df.duplicated(subset=['artist name', 'track name'], keep=False)].count()"
      ]
    },
    {
      "cell_type": "markdown",
      "metadata": {
        "id": "eVVdLvZkBLQg"
      },
      "source": [
        "## JKT48 Song Extraction"
      ]
    },
    {
      "cell_type": "code",
      "execution_count": null,
      "metadata": {
        "colab": {
          "base_uri": "https://localhost:8080/"
        },
        "id": "hqm_Ij7DH38i",
        "outputId": "8f05a3b7-962b-42d3-d4ba-f6f02fb2506c"
      },
      "outputs": [
        {
          "data": {
            "text/plain": [
              "[{'external_urls': {'spotify': 'https://open.spotify.com/artist/2l8I5pWUnfF7bMK1z6EJRk'},\n",
              "  'href': 'https://api.spotify.com/v1/artists/2l8I5pWUnfF7bMK1z6EJRk',\n",
              "  'id': '2l8I5pWUnfF7bMK1z6EJRk',\n",
              "  'name': 'JKT48',\n",
              "  'type': 'artist',\n",
              "  'uri': 'spotify:artist:2l8I5pWUnfF7bMK1z6EJRk'}]"
            ]
          },
          "execution_count": 4,
          "metadata": {},
          "output_type": "execute_result"
        }
      ],
      "source": [
        "# query buat pencarian\n",
        "result = sp.search('JKT48')\n",
        "# tampilkan dengan label track dan items\n",
        "result['tracks']['items'][0]['artists']"
      ]
    },
    {
      "cell_type": "markdown",
      "metadata": {
        "id": "lPuprfKv5R56"
      },
      "source": [
        "ekstrak uri artisnya\n",
        "\n",
        "kemudian tarik data pada album artisnya"
      ]
    },
    {
      "cell_type": "code",
      "execution_count": null,
      "metadata": {
        "id": "ytnEZ2hEPkPt"
      },
      "outputs": [],
      "source": [
        "# extract  uri pada artisnya\n",
        "artist_uri = result['tracks']['items'][0]['artists'][0]['uri']\n",
        "# tarik semua album pada artisnya \n",
        "sp_albums = sp.artist_albums(artist_uri)"
      ]
    },
    {
      "cell_type": "markdown",
      "metadata": {
        "id": "UlSoPY6V5R57"
      },
      "source": [
        "setelah di extract albumnya\n",
        "\n",
        "taro masing - masing nama ama uri nya ke list kosong, karena mengambil daftar lagu dengan perulangan"
      ]
    },
    {
      "cell_type": "code",
      "execution_count": null,
      "metadata": {
        "colab": {
          "base_uri": "https://localhost:8080/"
        },
        "id": "rFa-1h-7Pof8",
        "outputId": "11e573a9-1806-4fb9-98ac-8a7a133fa9e6"
      },
      "outputs": [
        {
          "data": {
            "text/plain": [
              "['spotify:album:4daUqzU4eqX8JYcpZRnXx2',\n",
              " 'spotify:album:6KR4SKOFo7RAO60pklOrBO',\n",
              " 'spotify:album:3V92iPlKnzSclyl6E0IVn4',\n",
              " 'spotify:album:1TW3TkuVNPV2N1BUFDKYF0',\n",
              " 'spotify:album:0Rhk7pQXZsalweggVY6p8o',\n",
              " 'spotify:album:4nF5OeX7uE5yOs5Zi3eP3r',\n",
              " 'spotify:album:6VM2ed8eCG2yrpUS4R9sCj',\n",
              " 'spotify:album:7JR86QGDS5O0u185jepqaX',\n",
              " 'spotify:album:7xa2B49fYCaKigtBI1zkW7',\n",
              " 'spotify:album:6r0wtZqJ6giE5JieQTwPse',\n",
              " 'spotify:album:3Q8kUwEAmYC8Ywublc14qn',\n",
              " 'spotify:album:6h9KWIpNduJQWcwe86YMEU',\n",
              " 'spotify:album:2ra7LJhwBLf0A7LmZR8WkI',\n",
              " 'spotify:album:652jsJs6hnACmycOLVL9wm',\n",
              " 'spotify:album:47tiUmCalb8rA6PDq8UJ88',\n",
              " 'spotify:album:0FiXJC94RTKMPRxJdZamC0',\n",
              " 'spotify:album:5ow7HbvEbScZ2F3xjGnlU3',\n",
              " 'spotify:album:5Jn3DUq1wJzaaiOp2VOiMA',\n",
              " 'spotify:album:6BxN7xumuu2ivJlA4TnnsK',\n",
              " 'spotify:album:4GTnA1wHswtH4XJliZOEgL']"
            ]
          },
          "execution_count": 6,
          "metadata": {},
          "output_type": "execute_result"
        }
      ],
      "source": [
        "# buat list kosong buat nampung nama album artis sama uri nya\n",
        "album_names = []\n",
        "album_uris = []\n",
        "\n",
        "# tarik lagu dengan perulangan, dimana i mengakses setiap item lagu pada album\n",
        "for i in range(len(sp_albums['items'])):\n",
        "    album_names.append(sp_albums['items'][i]['name'])\n",
        "    album_uris.append(sp_albums['items'][i]['uri'])\n",
        "    \n",
        "album_names\n",
        "album_uris"
      ]
    },
    {
      "cell_type": "markdown",
      "metadata": {
        "id": "k87_jH8R5R58"
      },
      "source": [
        "### Ambil Data lagu dari Tiap Album\n",
        "menggunakan looping dengan index yang mengakes tiap album buat mengekstrak key pada data track albumnya"
      ]
    },
    {
      "cell_type": "code",
      "execution_count": null,
      "metadata": {
        "id": "viWdTDmUQdeg"
      },
      "outputs": [],
      "source": [
        "# diakses dengan uri\n",
        "def albumSongs(uri):\n",
        "    # assign album uri ke nama album\n",
        "    album = uri \n",
        "    # buat dictionary koosong buat nentuin albumnya \n",
        "    # buat key value biar dimasukin ke dictionary albumnya\n",
        "    spotify_albums[album] = {} \n",
        "    # bikin list kosong\n",
        "    spotify_albums[album]['album'] = []\n",
        "    spotify_albums[album]['track_number'] = []\n",
        "    spotify_albums[album]['id'] = []\n",
        "    spotify_albums[album]['name'] = []\n",
        "    spotify_albums[album]['uri'] = []\n",
        "    # narik data dari track album\n",
        "    tracks = sp.album_tracks(album) \n",
        "    # pengulangan buat tiap lagunya \n",
        "    for n in range(len(tracks['items'])): \n",
        "        # nambahin nama album yang di track pake album_count\n",
        "        spotify_albums[album]['album'].append(album_names[album_count]) \n",
        "        spotify_albums[album]['track_number'].append(tracks['items'][n]['track_number'])\n",
        "        spotify_albums[album]['id'].append(tracks['items'][n]['id'])\n",
        "        spotify_albums[album]['name'].append(tracks['items'][n]['name'])\n",
        "        spotify_albums[album]['uri'].append(tracks['items'][n]['uri'])"
      ]
    },
    {
      "cell_type": "markdown",
      "metadata": {
        "id": "0jdGAPSz5R59"
      },
      "source": [
        "trus jalanin function ke tiap album uri ke list buat narik datanya\n",
        "\n",
        "trus ditampung ke dict kosong buat nampung data albumnya"
      ]
    },
    {
      "cell_type": "code",
      "execution_count": null,
      "metadata": {
        "colab": {
          "base_uri": "https://localhost:8080/"
        },
        "id": "nN7UfXpDQppz",
        "outputId": "6285c08c-35e9-4126-ee28-7a375b189e0a"
      },
      "outputs": [
        {
          "name": "stdout",
          "output_type": "stream",
          "text": [
            "Album Sambil Menggandeng Erat Tanganku songs has been added to spotify_albums dictionary\n",
            "Album Tadaima Renaichuu songs has been added to spotify_albums dictionary\n",
            "Album Theater no Megami: Dewi Theater songs has been added to spotify_albums dictionary\n",
            "Album Bel Terakhir Berbunyi (Theater Live Version) songs has been added to spotify_albums dictionary\n",
            "Album Seishun Girls - Gadis Gadis Remaja songs has been added to spotify_albums dictionary\n",
            "Album Dareka no Tame ni - Demi Seseorang songs has been added to spotify_albums dictionary\n",
            "Album Pajama Drive songs has been added to spotify_albums dictionary\n",
            "Album Joy Kick! Tears songs has been added to spotify_albums dictionary\n",
            "Album B.E.L.I.E.V.E songs has been added to spotify_albums dictionary\n",
            "Album Mahagita: Kamikyokutachi songs has been added to spotify_albums dictionary\n",
            "Album Boku No Taiyou: Matahari Milikku songs has been added to spotify_albums dictionary\n",
            "Album Renai Kinshi Jourei: Aturan Anti Cinta songs has been added to spotify_albums dictionary\n",
            "Album Heavy Rotation songs has been added to spotify_albums dictionary\n",
            "Album Flying High songs has been added to spotify_albums dictionary\n",
            "Album Berani Bersuara <3 <3 songs has been added to spotify_albums dictionary\n",
            "Album Bukan PHO (JKT48 Version) songs has been added to spotify_albums dictionary\n",
            "Album Cara Ceroboh untuk Mencinta songs has been added to spotify_albums dictionary\n",
            "Album JKT48 Acoustic songs has been added to spotify_albums dictionary\n",
            "Album Rapsodi songs has been added to spotify_albums dictionary\n",
            "Album JKT48 5th Sousenkyo Special Unit songs has been added to spotify_albums dictionary\n"
          ]
        }
      ],
      "source": [
        "spotify_albums = {}\n",
        "album_count = 0\n",
        "for i in album_uris: #each album\n",
        "    albumSongs(i)\n",
        "    print(\"Album \" + str(album_names[album_count]) + \" songs has been added to spotify_albums dictionary\")\n",
        "    album_count+=1 #Updates album count once all tracks have been added"
      ]
    },
    {
      "cell_type": "markdown",
      "metadata": {
        "id": "g-ga5xvl5R5_"
      },
      "source": [
        "### Grab fitur audio buat tiap lagu\n",
        "bkin key values buat nampung fitur atau variabel kolom pada tiap track album\n",
        "\n",
        "trus tambahin ke list yang merupakan representasi semua track musik pada album"
      ]
    },
    {
      "cell_type": "code",
      "execution_count": null,
      "metadata": {
        "id": "6WRczRCZQxUl"
      },
      "outputs": [],
      "source": [
        "def audio_features(album):\n",
        "    #Add new key-values to store audio features\n",
        "    spotify_albums[album]['key'] = []\n",
        "    spotify_albums[album]['mode'] = []\n",
        "    spotify_albums[album]['acousticness'] = []\n",
        "    spotify_albums[album]['danceability'] = []\n",
        "    spotify_albums[album]['energy'] = []\n",
        "    spotify_albums[album]['liveness'] = []\n",
        "    spotify_albums[album]['loudness'] = []\n",
        "    spotify_albums[album]['tempo'] = []\n",
        "    spotify_albums[album]['valence'] = []\n",
        "    spotify_albums[album]['instrumentalness'] = []\n",
        "    spotify_albums[album]['speechiness'] = []\n",
        "    spotify_albums[album]['duration_ms'] = []\n",
        "    spotify_albums[album]['time_signature'] = []\n",
        "    spotify_albums[album]['popularity'] = []\n",
        "\n",
        "    # bikin track counter buat variabel inisiasi pada perulangan\n",
        "    track_count = 0\n",
        "    for track in spotify_albums[album]['uri']:\n",
        "        # tarik fitur audio per track\n",
        "        print(\"Requesting \" + track)\n",
        "        features = sp.audio_features(track)\n",
        "        \n",
        "        # masukin ke key value yang sesuai\n",
        "        spotify_albums[album]['key'].append(features[0]['key'])\n",
        "        spotify_albums[album]['mode'].append(features[0]['mode'])\n",
        "        spotify_albums[album]['acousticness'].append(features[0]['acousticness'])\n",
        "        spotify_albums[album]['danceability'].append(features[0]['danceability'])\n",
        "        spotify_albums[album]['energy'].append(features[0]['energy'])\n",
        "        spotify_albums[album]['liveness'].append(features[0]['liveness'])\n",
        "        spotify_albums[album]['loudness'].append(features[0]['loudness'])\n",
        "        spotify_albums[album]['tempo'].append(features[0]['tempo'])\n",
        "        spotify_albums[album]['valence'].append(features[0]['valence'])\n",
        "        spotify_albums[album]['instrumentalness'].append(features[0]['instrumentalness'])\n",
        "        spotify_albums[album]['speechiness'].append(features[0]['speechiness'])\n",
        "        spotify_albums[album]['duration_ms'].append(features[0]['duration_ms'])\n",
        "        spotify_albums[album]['time_signature'].append(features[0]['time_signature'])\n",
        "        # popularitas juga ditampung\n",
        "        pop = sp.track(track)\n",
        "        spotify_albums[album]['popularity'].append(pop['popularity'])\n",
        "        track_count+=1"
      ]
    },
    {
      "cell_type": "markdown",
      "metadata": {
        "id": "boP79W745R6A"
      },
      "source": [
        "looping pada album untuk mengekstrak fitur audio nya"
      ]
    },
    {
      "cell_type": "code",
      "execution_count": null,
      "metadata": {
        "colab": {
          "base_uri": "https://localhost:8080/"
        },
        "id": "F72YNGJ-Q_69",
        "outputId": "202e018d-c663-44f1-c8d1-d954c28703dc"
      },
      "outputs": [
        {
          "name": "stdout",
          "output_type": "stream",
          "text": [
            "Requesting spotify:track:7mGO7lGxnJhMWtqERZig8l\n",
            "Requesting spotify:track:1TdhewZV5VYPZY1ahpfgBE\n",
            "Requesting spotify:track:4fhJ1jFoIapbdiW8aDccHc\n",
            "Requesting spotify:track:0eotVbveGVkC4gPvzdvks5\n",
            "Requesting spotify:track:2N6KAievdXztAwHzcymJdz\n",
            "Requesting spotify:track:1DUrPNEqWWVLYZgBnikiEQ\n",
            "Requesting spotify:track:1LRNtjqpe2KVU53TnKkZLm\n",
            "Requesting spotify:track:0pI9PVL8ROOIumjjLczqiZ\n",
            "Requesting spotify:track:6Idrb4GBzCUGaP7G40G5XT\n",
            "Requesting spotify:track:23r4tuEuW62Pv8qT40cstv\n",
            "Requesting spotify:track:4G22d4UONZNFc1Dk4GPvc6\n",
            "Requesting spotify:track:5fITh6M3sCMDGYjXmAWWQr\n",
            "Requesting spotify:track:6JUEOP9V9N6qvGweYVR618\n",
            "Requesting spotify:track:0Eqh5OgF8zDrFTP3TH1eWz\n",
            "Requesting spotify:track:2FRQwszGqh5bVcMStIM7iA\n",
            "Requesting spotify:track:4BhaqBmF4CylMsdP0ARzRO\n",
            "Requesting spotify:track:2ZZb1KxDrgG8Eudlz9tvcW\n",
            "Requesting spotify:track:58Q6v2XVCukU3RovLLTpFZ\n",
            "Requesting spotify:track:55ru893ySTy7Ot2uJoD9ZR\n",
            "Requesting spotify:track:1lDNAHck7TAhHCXtghpyDK\n",
            "Requesting spotify:track:1ZcKRoOvykD6FwiGUPfImV\n",
            "Requesting spotify:track:5OezOdOWLtXBE0FicWQUnX\n",
            "Requesting spotify:track:4VZsq41rI4YmnWfWe7IUYq\n",
            "Requesting spotify:track:5Eyu6Sq2tsjZ1ynOIWXtUb\n",
            "Requesting spotify:track:1XP7FhxAmm9C0yCf6zV8sj\n",
            "Requesting spotify:track:3sBZpquEuEi7OJpMJzNYyK\n",
            "Requesting spotify:track:5mxYWuzipspvFfpWY239lA\n",
            "Requesting spotify:track:0lvzngHYYcPBOUIztm0A4N\n",
            "Requesting spotify:track:0fWj8nVetqrcQIgPUYHcGB\n",
            "Requesting spotify:track:4W9ZGydtlpSvOu77QQAROI\n",
            "Requesting spotify:track:3LfMEdVortGh3EltKNWRJF\n",
            "Requesting spotify:track:5a6qieKuOdKgNVzRDLidxq\n",
            "Requesting spotify:track:4d073Tm1FaLScacsc7GK9h\n",
            "Requesting spotify:track:5RtM3bpSWgpEUyKPhUx1ZD\n",
            "Requesting spotify:track:05NsJNQdTL39BoBwoHnYMp\n",
            "Requesting spotify:track:2G578dOOQmocYcjvhHNPir\n",
            "Requesting spotify:track:5I7G37N7HSOnj71wH8Zk6q\n",
            "Requesting spotify:track:1i6qtABjIOGwDRX63LpUeH\n",
            "Requesting spotify:track:0bTWss0qb99HnuqKeho9UE\n",
            "Requesting spotify:track:74fjB4zxums2NZqhv52dh5\n",
            "Requesting spotify:track:28RehE1Sns7Vbr03GOadFP\n",
            "Requesting spotify:track:09mgeBbg7nGX5Y6nSgmtle\n",
            "Requesting spotify:track:7v0PDyBEyaUtjrywbIy9zz\n",
            "Requesting spotify:track:13KVlwFBRqghmnuuIO3snV\n",
            "Requesting spotify:track:08kvjCz9DJUMK9cFDhjAjA\n",
            "Requesting spotify:track:2mWHNCSudUcrEiJnOtsPJR\n",
            "Requesting spotify:track:0Q2bd7Dk0B4ojOpBxhXbsV\n",
            "Requesting spotify:track:15AxdNTGWY6zWhlqBbd1mZ\n",
            "Requesting spotify:track:06afSiZu8YUOPBtUy5DAJC\n",
            "Requesting spotify:track:4dO38ey6r4WNr2pXmbMGv0\n",
            "Requesting spotify:track:4saXMVI0dG1PHIouYhk8Ld\n",
            "Requesting spotify:track:0EPzujg2q7NsthdUHIlcnr\n",
            "Requesting spotify:track:23wWXAF18btk9mnmZC2jPJ\n",
            "Requesting spotify:track:2hAl4fRaIJdsv3Qx6o0O9S\n",
            "Requesting spotify:track:6Y4nSCUGuLuMlI2knhABAR\n",
            "Requesting spotify:track:4btsTWYJMwaKVkT8X7nFVY\n",
            "Requesting spotify:track:0VGJsxojSsJQWR8q8msx68\n",
            "Requesting spotify:track:4zHlcbPV0nlkD0Y1EkgxM3\n",
            "Requesting spotify:track:1Ua7n3jytVQkfpeTSYKv0N\n",
            "Requesting spotify:track:1ump5l2hPCnptRLgu8ynCT\n",
            "Requesting spotify:track:4VFjIp5Gbfby6jSUAjNmFL\n",
            "Requesting spotify:track:3djF1e6MrlDSBgsETCEEbY\n",
            "Requesting spotify:track:0GccmKiWE6HoW4fzvEbYzY\n",
            "Requesting spotify:track:6Xi2kgJIG5HE1m29lNTd3q\n",
            "Requesting spotify:track:2GTX6DIFwd8BQ6FW7i9NjA\n",
            "Requesting spotify:track:0DFHg7M88n1ili2gb0UhMi\n",
            "Requesting spotify:track:2dsL5zJoiWqzjPOBG3Docv\n",
            "Requesting spotify:track:5vVC4jOfictJWgykXv4aqH\n",
            "Requesting spotify:track:5j5p2borxWn9tk5gXkqE0O\n",
            "Requesting spotify:track:0LhDixBPKLIjuAl30F4m0m\n",
            "Requesting spotify:track:27RUvQAOdsUi1ZEMv3Z6xa\n",
            "Requesting spotify:track:0dfuOgKaqgauYWCvechd0f\n",
            "Requesting spotify:track:0VLE54sfMyYwLwMI5v7qUK\n",
            "Requesting spotify:track:63da2Etf3644fwPX5rfw5i\n",
            "Requesting spotify:track:75zc5UDFJCMzTtW8iIvu6b\n",
            "Requesting spotify:track:5vEp4YK375bWXP7AwUdelc\n",
            "Requesting spotify:track:56XRcKAlxWyYk47EiefXrr\n",
            "Requesting spotify:track:7dtcGGiVbzoURD39cBomhr\n",
            "Requesting spotify:track:6WU4dhdnh2H4FVDHrcdRom\n",
            "5 playlists completed\n",
            "Loop #: 5\n",
            "Requesting spotify:track:6cCKq7Tb6h3Mmpi5J0Ianh\n",
            "Requesting spotify:track:40HxuIJERRRuNyY1uwuJMJ\n",
            "Requesting spotify:track:3kLdKOeONkligk1nuzWsZp\n",
            "Requesting spotify:track:0kxa9QomcAR3FdT1S9fUfw\n",
            "Requesting spotify:track:1FBlDMhslIWAvkKXRQsbnv\n",
            "Requesting spotify:track:08vfDb3MdDn4OgIQtlZn0E\n",
            "Requesting spotify:track:5AAirX3DIlFqHlGW0loMle\n",
            "Requesting spotify:track:6WfPG7hb2cewzWlYsoLXpP\n",
            "Requesting spotify:track:6bmTK2KRRCMl7T0DRMMSCk\n",
            "Requesting spotify:track:1WjZ9nsZatuOyZsXwsQgDd\n",
            "Requesting spotify:track:3nvf8wQznYcAxnMjUVdpet\n",
            "Requesting spotify:track:4vfr7r0gMj54MKzaJxlMyg\n",
            "Requesting spotify:track:3Aac10wnbmM9HVN9CFHYRW\n",
            "Requesting spotify:track:6CAHM6Mrabw1hPQJvfPfmX\n",
            "Requesting spotify:track:6qyR0WUTFu1tiukwUdTKKJ\n",
            "Requesting spotify:track:4v2OTFU1bnOmeF0ESPMFNF\n",
            "Requesting spotify:track:3FYY0fhw9zYD3WWaoGBtzs\n",
            "Requesting spotify:track:7yidhbIhmnsUcatHEtRIiD\n",
            "Requesting spotify:track:6HwBIMq2bNEyrXKOUD88mz\n",
            "Requesting spotify:track:4UDg52je3dtoMHu00RVRVP\n",
            "Requesting spotify:track:5Bcz66xPyt5r8OFssspc0U\n",
            "Requesting spotify:track:2d3q6VhIJSh7fjDLpxFOK7\n",
            "Requesting spotify:track:3W9wMeQbd40kWT6ko4F0UU\n",
            "Requesting spotify:track:5WgujUqSGwF40RtyRWw9Fa\n",
            "Requesting spotify:track:5nK0U7hH7GwEmvdnAcPaoj\n",
            "Requesting spotify:track:0Vm1h756I4JSdyeYTV5a51\n",
            "Requesting spotify:track:59SARA3NNyIzLK6R5Og976\n",
            "Requesting spotify:track:2McoIAeZ229NU32gqDZuPp\n",
            "Requesting spotify:track:0emE2gCRua0uML7G9XwVM5\n",
            "Requesting spotify:track:631Aci6jObjlU92WbY3CcU\n",
            "Requesting spotify:track:3zbEPHTH99UK9PyOZckgBL\n",
            "Requesting spotify:track:2EI522hIVnH8mQ5ZCOCsib\n",
            "Requesting spotify:track:5SAmXijYbwyo2jZUv9hWse\n",
            "Requesting spotify:track:4G4D6L8fguz3qCXkoh5cOo\n",
            "Requesting spotify:track:1ggkEvojZU3JaJtjj1B6KG\n",
            "Requesting spotify:track:5Ho1Diy9QENGBL2g4AtryO\n",
            "Requesting spotify:track:4JrfE21JwiUO5fItJMKMtY\n",
            "Requesting spotify:track:1mwEggqCjH8T3pxDwP58ZN\n",
            "Requesting spotify:track:1VFjbag0knrl1apf2GznPj\n",
            "Requesting spotify:track:0fULMmsjDKfPldAKi96Jrf\n",
            "Requesting spotify:track:5p6JzB4uLHAfYEviIdIUcy\n",
            "Requesting spotify:track:5KhfAboXwSq2H2gcqcLgZX\n",
            "Requesting spotify:track:3px5mUbIEgP2d9tRJ41QiV\n",
            "Requesting spotify:track:1faZ7olKASjSspDaE0y37c\n",
            "Requesting spotify:track:45ClJPo5JwOQyVqMF6n6Tm\n",
            "Requesting spotify:track:3QpwuZuhjx42VXexjhLuXE\n",
            "Requesting spotify:track:5GK7bBwtVoPuPKk7VZzZKf\n",
            "Requesting spotify:track:5dR5dOhTHIG8jkRpZr2wNk\n",
            "Requesting spotify:track:6jmoGCIjqZvsKNE55WTlYm\n",
            "Requesting spotify:track:6EZqO03jlEnl0A6VVRLfRf\n",
            "Requesting spotify:track:6CLIPaGFJbCS9jakGQfp5v\n",
            "Requesting spotify:track:2wBin7au6r2hiSV9p42aki\n",
            "Requesting spotify:track:21UirZHRZi1xTc2Fx50nQ8\n",
            "Requesting spotify:track:469lObbmed3vMkCi7EaXib\n",
            "Requesting spotify:track:1rPU4PavddoSu8Jg82A7IB\n",
            "Requesting spotify:track:5UFOX5jEY48UN4vY583zqZ\n",
            "Requesting spotify:track:35likzjPBS2NKiSCgrneUy\n",
            "Requesting spotify:track:0qMLAJHENG3JnpPX7Z1N8U\n",
            "Requesting spotify:track:7CfJo9bUarH8qNlnAttnz0\n",
            "Requesting spotify:track:5eCkwoIuxOvQF7vkeAeH0n\n",
            "Requesting spotify:track:6iM2wBbtzQD4ZRa3lTCJQ1\n",
            "Requesting spotify:track:1yb8u89dZ9WmxuYcCtyw66\n",
            "Requesting spotify:track:1KPPLsFDyTo8KWe3JqYIy2\n",
            "Requesting spotify:track:6RsLc48FgvyBFsPtbNleD2\n",
            "Requesting spotify:track:7jRMT3dzr0s2BYNA3x5NNm\n",
            "10 playlists completed\n",
            "Loop #: 10\n",
            "Requesting spotify:track:6eg7aScBvDGJClhDoPcu3T\n",
            "Requesting spotify:track:633Hoxo7fwxM1eobzyR5Ib\n",
            "Requesting spotify:track:0AWvWb3RAWXVzkGCs4Wb8w\n",
            "Requesting spotify:track:3hNbz3304qfzuzpo9JWiTz\n",
            "Requesting spotify:track:63HvVm0kLoINPOIZ4OTDpl\n",
            "Requesting spotify:track:3n808s5G0ztcwTHzicrzpo\n",
            "Requesting spotify:track:62SzuJrycRdfSQ3PNuRu0V\n",
            "Requesting spotify:track:6nc7Hc7FQq28InNiPmEEdk\n",
            "Requesting spotify:track:40OYOS7gJQibzRoO17gARn\n",
            "Requesting spotify:track:7A1nnEnf7Dj2V12DguP5ZC\n",
            "Requesting spotify:track:5UkfdnuoVxONqSZZtLOtbM\n",
            "Requesting spotify:track:5X04R2epvkzQKL46cNY0XT\n",
            "Requesting spotify:track:0wCfmSvQXb9ckfiLUtLC43\n",
            "Requesting spotify:track:3lA2G6jdVXPJxOjgdTYrdI\n",
            "Requesting spotify:track:6kxcNl0d0t8HzgglvPAU8J\n",
            "Requesting spotify:track:2UAKXnNAo7zg2A9WIU8eLz\n",
            "Requesting spotify:track:76RQFYXgytwwB0WsuLbGNP\n",
            "Requesting spotify:track:5anYLlQKpuld6EB1p5JdfQ\n",
            "Requesting spotify:track:54RWuxRpTDZT43ZRubIWTt\n",
            "Requesting spotify:track:4WQMHTV8WvKFuVfG3IxevA\n",
            "Requesting spotify:track:40lKMzWW6H2guXOaUmesvy\n",
            "Requesting spotify:track:60KBTI055mOflWrxuhchYe\n",
            "Requesting spotify:track:16kgprsqSmc5weQZhZreNa\n",
            "Requesting spotify:track:707ReKiP4e9oNl8KmNZarC\n",
            "Requesting spotify:track:1VUwx5BfwWizkopjo54shh\n",
            "Requesting spotify:track:6SwlFqnA4QVneQOmnjcZbU\n",
            "Requesting spotify:track:7A0SbtqWbGP8cMNTxCC0BN\n",
            "Requesting spotify:track:6VxX4GEk2WeChubLfQH0LW\n",
            "Requesting spotify:track:2KhNKQ0EmPjxaxvyhbDWbP\n",
            "Requesting spotify:track:4EuIHgxnHQpIPzh0fyn747\n",
            "Requesting spotify:track:5621SuBlaO0AoJzGh0hsrD\n",
            "Requesting spotify:track:1y82UfKMlySXVtZDeb76jv\n",
            "Requesting spotify:track:1pMpflIkvAqZHznn4wa3zM\n",
            "Requesting spotify:track:6VbuqZzxvZwP3F6zmGquo2\n",
            "Requesting spotify:track:7EdzxaYQzbOqOlmwzjDFwX\n",
            "Requesting spotify:track:5MvvfIkbTM4MxCJa3gfh3R\n",
            "Requesting spotify:track:4pEMeRLMT9yuxHEjvcudAJ\n",
            "Requesting spotify:track:6VlzYddLkvIdnEykTBTBCq\n",
            "Requesting spotify:track:4OZ4iOWnoEQQCChknSb7Jq\n",
            "Requesting spotify:track:2jBXZL9YEDALGFGTXpq6m3\n",
            "Requesting spotify:track:6PYdWmlwcBlYkv0m62Opkh\n",
            "Requesting spotify:track:2D1NrSzg4qCu7ue7Gb2VcR\n",
            "Requesting spotify:track:0Ert1zrTUNcbrpNBJxe8lH\n",
            "Requesting spotify:track:7BtRy8sGQUjXGEUcz6YlsN\n",
            "Requesting spotify:track:6a1mt15RL1Y3FxeU6Zoh3W\n",
            "Requesting spotify:track:4MMJA9BGygvCDpwxKzzIew\n",
            "15 playlists completed\n",
            "Loop #: 15\n",
            "Requesting spotify:track:5uck3WWGPhvX7rBnb1tOWt\n",
            "Requesting spotify:track:4UaA9RLsFoVlWQj0Apis1u\n",
            "Requesting spotify:track:2EIZPjooOtoHEO8cTLE5Qx\n",
            "Requesting spotify:track:18cbYp7LM2N613vNeCRZXR\n",
            "Requesting spotify:track:7rlrbIP5lcQH8s9MKL0qPf\n",
            "Requesting spotify:track:28JFVnJcLlIErsXANEPglS\n",
            "Requesting spotify:track:733SiVQU5Lz0gWkTf4Zhov\n",
            "Requesting spotify:track:2txfZC0Jo1mIfP9muIXfDo\n",
            "Requesting spotify:track:4H03GvK30cmfY4waozFR5j\n",
            "Requesting spotify:track:7jUfNO8OcJSXSPGZevCOQh\n",
            "Requesting spotify:track:0GrxliwofX5XB3vUjPrrrv\n",
            "Requesting spotify:track:2KtlqLBdSOyB30R1rV4jrT\n",
            "Requesting spotify:track:45aVaZQhnBbltQoZb7yOFS\n",
            "20 playlists completed\n",
            "Loop #: 20\n"
          ]
        }
      ],
      "source": [
        "request_count = 0\n",
        "for i in spotify_albums:\n",
        "    audio_features(i)\n",
        "    request_count+=1\n",
        "    if request_count % 5 == 0:\n",
        "        print(str(request_count) + \" playlists completed\")\n",
        "        print('Loop #: {}'.format(request_count))"
      ]
    },
    {
      "cell_type": "markdown",
      "metadata": {
        "id": "fGaT-p165R6B"
      },
      "source": [
        "### masukin data ke tabel dataframe"
      ]
    },
    {
      "cell_type": "code",
      "execution_count": null,
      "metadata": {
        "colab": {
          "base_uri": "https://localhost:8080/"
        },
        "id": "ZbjlFLLfRScJ",
        "outputId": "907921f2-dfc4-40b3-9283-8d997b158fa8"
      },
      "outputs": [
        {
          "data": {
            "text/plain": [
              "203"
            ]
          },
          "execution_count": 15,
          "metadata": {},
          "output_type": "execute_result"
        }
      ],
      "source": [
        "dic_jkt = {}\n",
        "dic_jkt['album'] = []\n",
        "dic_jkt['track_number'] = []\n",
        "dic_jkt['id'] = []\n",
        "dic_jkt['name'] = []\n",
        "dic_jkt['uri'] = []\n",
        "dic_jkt['key'] = []\n",
        "dic_jkt['mode'] = []\n",
        "dic_jkt['danceability'] = []\n",
        "dic_jkt['acousticness'] = []\n",
        "dic_jkt['energy'] = []\n",
        "dic_jkt['liveness'] = []\n",
        "dic_jkt['loudness'] = []\n",
        "dic_jkt['tempo'] = []\n",
        "dic_jkt['valence'] = []\n",
        "dic_jkt['instrumentalness'] = []\n",
        "dic_jkt['speechiness'] = []\n",
        "dic_jkt['duration_ms'] = []\n",
        "dic_jkt['time_signature'] = []\n",
        "dic_jkt['popularity'] = []\n",
        "for album in spotify_albums: \n",
        "    for feature in spotify_albums[album]:\n",
        "        dic_jkt[feature].extend(spotify_albums[album][feature])\n",
        "        \n",
        "len(dic_jkt['album'])"
      ]
    },
    {
      "cell_type": "markdown",
      "metadata": {
        "id": "wqnp1no95R6C"
      },
      "source": [
        "masukin ke dataframe"
      ]
    },
    {
      "cell_type": "code",
      "execution_count": null,
      "metadata": {
        "colab": {
          "base_uri": "https://localhost:8080/",
          "height": 1000
        },
        "id": "nf3w00SHRhS0",
        "outputId": "8d83ffd4-1d45-4daf-beb6-e14097637811"
      },
      "outputs": [
        {
          "data": {
            "text/html": [
              "\n",
              "  <div id=\"df-c9dcffca-8ee2-4210-bed2-f3d5d95016d8\">\n",
              "    <div class=\"colab-df-container\">\n",
              "      <div>\n",
              "<style scoped>\n",
              "    .dataframe tbody tr th:only-of-type {\n",
              "        vertical-align: middle;\n",
              "    }\n",
              "\n",
              "    .dataframe tbody tr th {\n",
              "        vertical-align: top;\n",
              "    }\n",
              "\n",
              "    .dataframe thead th {\n",
              "        text-align: right;\n",
              "    }\n",
              "</style>\n",
              "<table border=\"1\" class=\"dataframe\">\n",
              "  <thead>\n",
              "    <tr style=\"text-align: right;\">\n",
              "      <th></th>\n",
              "      <th>album</th>\n",
              "      <th>track_number</th>\n",
              "      <th>id</th>\n",
              "      <th>name</th>\n",
              "      <th>uri</th>\n",
              "      <th>key</th>\n",
              "      <th>mode</th>\n",
              "      <th>danceability</th>\n",
              "      <th>acousticness</th>\n",
              "      <th>energy</th>\n",
              "      <th>liveness</th>\n",
              "      <th>loudness</th>\n",
              "      <th>tempo</th>\n",
              "      <th>valence</th>\n",
              "      <th>instrumentalness</th>\n",
              "      <th>speechiness</th>\n",
              "      <th>duration_ms</th>\n",
              "      <th>time_signature</th>\n",
              "      <th>popularity</th>\n",
              "    </tr>\n",
              "  </thead>\n",
              "  <tbody>\n",
              "    <tr>\n",
              "      <th>0</th>\n",
              "      <td>Sambil Menggandeng Erat Tanganku</td>\n",
              "      <td>1</td>\n",
              "      <td>7mGO7lGxnJhMWtqERZig8l</td>\n",
              "      <td>Angin Kita</td>\n",
              "      <td>spotify:track:7mGO7lGxnJhMWtqERZig8l</td>\n",
              "      <td>5</td>\n",
              "      <td>1</td>\n",
              "      <td>0.554</td>\n",
              "      <td>0.05820</td>\n",
              "      <td>0.583</td>\n",
              "      <td>0.3260</td>\n",
              "      <td>-11.260</td>\n",
              "      <td>106.997</td>\n",
              "      <td>0.662</td>\n",
              "      <td>0.000000</td>\n",
              "      <td>0.0343</td>\n",
              "      <td>279708</td>\n",
              "      <td>4</td>\n",
              "      <td>27</td>\n",
              "    </tr>\n",
              "    <tr>\n",
              "      <th>1</th>\n",
              "      <td>Sambil Menggandeng Erat Tanganku</td>\n",
              "      <td>2</td>\n",
              "      <td>1TdhewZV5VYPZY1ahpfgBE</td>\n",
              "      <td>Mango No. 2</td>\n",
              "      <td>spotify:track:1TdhewZV5VYPZY1ahpfgBE</td>\n",
              "      <td>1</td>\n",
              "      <td>0</td>\n",
              "      <td>0.614</td>\n",
              "      <td>0.21200</td>\n",
              "      <td>0.602</td>\n",
              "      <td>0.0829</td>\n",
              "      <td>-11.706</td>\n",
              "      <td>170.008</td>\n",
              "      <td>0.795</td>\n",
              "      <td>0.000000</td>\n",
              "      <td>0.0488</td>\n",
              "      <td>231404</td>\n",
              "      <td>4</td>\n",
              "      <td>25</td>\n",
              "    </tr>\n",
              "    <tr>\n",
              "      <th>2</th>\n",
              "      <td>Sambil Menggandeng Erat Tanganku</td>\n",
              "      <td>3</td>\n",
              "      <td>4fhJ1jFoIapbdiW8aDccHc</td>\n",
              "      <td>Sambil Menggandeng Erat Tanganku</td>\n",
              "      <td>spotify:track:4fhJ1jFoIapbdiW8aDccHc</td>\n",
              "      <td>5</td>\n",
              "      <td>1</td>\n",
              "      <td>0.515</td>\n",
              "      <td>0.03440</td>\n",
              "      <td>0.692</td>\n",
              "      <td>0.8020</td>\n",
              "      <td>-10.994</td>\n",
              "      <td>163.954</td>\n",
              "      <td>0.642</td>\n",
              "      <td>0.000000</td>\n",
              "      <td>0.0520</td>\n",
              "      <td>264684</td>\n",
              "      <td>4</td>\n",
              "      <td>32</td>\n",
              "    </tr>\n",
              "    <tr>\n",
              "      <th>3</th>\n",
              "      <td>Sambil Menggandeng Erat Tanganku</td>\n",
              "      <td>4</td>\n",
              "      <td>0eotVbveGVkC4gPvzdvks5</td>\n",
              "      <td>Bel Sekolah adalah Love Song</td>\n",
              "      <td>spotify:track:0eotVbveGVkC4gPvzdvks5</td>\n",
              "      <td>7</td>\n",
              "      <td>1</td>\n",
              "      <td>0.452</td>\n",
              "      <td>0.01670</td>\n",
              "      <td>0.625</td>\n",
              "      <td>0.3350</td>\n",
              "      <td>-11.097</td>\n",
              "      <td>175.068</td>\n",
              "      <td>0.679</td>\n",
              "      <td>0.000000</td>\n",
              "      <td>0.0429</td>\n",
              "      <td>232121</td>\n",
              "      <td>4</td>\n",
              "      <td>31</td>\n",
              "    </tr>\n",
              "    <tr>\n",
              "      <th>4</th>\n",
              "      <td>Sambil Menggandeng Erat Tanganku</td>\n",
              "      <td>5</td>\n",
              "      <td>2N6KAievdXztAwHzcymJdz</td>\n",
              "      <td>Glory Days</td>\n",
              "      <td>spotify:track:2N6KAievdXztAwHzcymJdz</td>\n",
              "      <td>0</td>\n",
              "      <td>1</td>\n",
              "      <td>0.553</td>\n",
              "      <td>0.08230</td>\n",
              "      <td>0.752</td>\n",
              "      <td>0.0674</td>\n",
              "      <td>-12.588</td>\n",
              "      <td>172.056</td>\n",
              "      <td>0.816</td>\n",
              "      <td>0.000000</td>\n",
              "      <td>0.0340</td>\n",
              "      <td>295535</td>\n",
              "      <td>4</td>\n",
              "      <td>28</td>\n",
              "    </tr>\n",
              "    <tr>\n",
              "      <th>5</th>\n",
              "      <td>Sambil Menggandeng Erat Tanganku</td>\n",
              "      <td>6</td>\n",
              "      <td>1DUrPNEqWWVLYZgBnikiEQ</td>\n",
              "      <td>Barcode</td>\n",
              "      <td>spotify:track:1DUrPNEqWWVLYZgBnikiEQ</td>\n",
              "      <td>3</td>\n",
              "      <td>0</td>\n",
              "      <td>0.626</td>\n",
              "      <td>0.03230</td>\n",
              "      <td>0.592</td>\n",
              "      <td>0.3700</td>\n",
              "      <td>-11.624</td>\n",
              "      <td>135.984</td>\n",
              "      <td>0.789</td>\n",
              "      <td>0.000378</td>\n",
              "      <td>0.0285</td>\n",
              "      <td>280783</td>\n",
              "      <td>4</td>\n",
              "      <td>22</td>\n",
              "    </tr>\n",
              "    <tr>\n",
              "      <th>6</th>\n",
              "      <td>Sambil Menggandeng Erat Tanganku</td>\n",
              "      <td>7</td>\n",
              "      <td>1LRNtjqpe2KVU53TnKkZLm</td>\n",
              "      <td>Ajak Aku Pergi Menuju ke Wimbledo</td>\n",
              "      <td>spotify:track:1LRNtjqpe2KVU53TnKkZLm</td>\n",
              "      <td>7</td>\n",
              "      <td>1</td>\n",
              "      <td>0.611</td>\n",
              "      <td>0.09930</td>\n",
              "      <td>0.689</td>\n",
              "      <td>0.3460</td>\n",
              "      <td>-11.203</td>\n",
              "      <td>147.070</td>\n",
              "      <td>0.878</td>\n",
              "      <td>0.000000</td>\n",
              "      <td>0.0315</td>\n",
              "      <td>251513</td>\n",
              "      <td>4</td>\n",
              "      <td>26</td>\n",
              "    </tr>\n",
              "    <tr>\n",
              "      <th>7</th>\n",
              "      <td>Sambil Menggandeng Erat Tanganku</td>\n",
              "      <td>8</td>\n",
              "      <td>0pI9PVL8ROOIumjjLczqiZ</td>\n",
              "      <td>Sang Pianis Hujan</td>\n",
              "      <td>spotify:track:0pI9PVL8ROOIumjjLczqiZ</td>\n",
              "      <td>6</td>\n",
              "      <td>0</td>\n",
              "      <td>0.552</td>\n",
              "      <td>0.00433</td>\n",
              "      <td>0.733</td>\n",
              "      <td>0.3440</td>\n",
              "      <td>-12.251</td>\n",
              "      <td>145.026</td>\n",
              "      <td>0.805</td>\n",
              "      <td>0.000000</td>\n",
              "      <td>0.0302</td>\n",
              "      <td>277500</td>\n",
              "      <td>4</td>\n",
              "      <td>25</td>\n",
              "    </tr>\n",
              "    <tr>\n",
              "      <th>8</th>\n",
              "      <td>Sambil Menggandeng Erat Tanganku</td>\n",
              "      <td>9</td>\n",
              "      <td>6Idrb4GBzCUGaP7G40G5XT</td>\n",
              "      <td>Keberadaan Coklat Itu</td>\n",
              "      <td>spotify:track:6Idrb4GBzCUGaP7G40G5XT</td>\n",
              "      <td>0</td>\n",
              "      <td>1</td>\n",
              "      <td>0.648</td>\n",
              "      <td>0.01650</td>\n",
              "      <td>0.842</td>\n",
              "      <td>0.3260</td>\n",
              "      <td>-11.833</td>\n",
              "      <td>125.077</td>\n",
              "      <td>0.744</td>\n",
              "      <td>0.000824</td>\n",
              "      <td>0.0537</td>\n",
              "      <td>286434</td>\n",
              "      <td>4</td>\n",
              "      <td>21</td>\n",
              "    </tr>\n",
              "    <tr>\n",
              "      <th>9</th>\n",
              "      <td>Sambil Menggandeng Erat Tanganku</td>\n",
              "      <td>10</td>\n",
              "      <td>23r4tuEuW62Pv8qT40cstv</td>\n",
              "      <td>Innocence</td>\n",
              "      <td>spotify:track:23r4tuEuW62Pv8qT40cstv</td>\n",
              "      <td>1</td>\n",
              "      <td>0</td>\n",
              "      <td>0.638</td>\n",
              "      <td>0.00978</td>\n",
              "      <td>0.736</td>\n",
              "      <td>0.3530</td>\n",
              "      <td>-11.822</td>\n",
              "      <td>132.008</td>\n",
              "      <td>0.738</td>\n",
              "      <td>0.000044</td>\n",
              "      <td>0.0493</td>\n",
              "      <td>251274</td>\n",
              "      <td>4</td>\n",
              "      <td>24</td>\n",
              "    </tr>\n",
              "    <tr>\n",
              "      <th>10</th>\n",
              "      <td>Sambil Menggandeng Erat Tanganku</td>\n",
              "      <td>11</td>\n",
              "      <td>4G22d4UONZNFc1Dk4GPvc6</td>\n",
              "      <td>Romance Rocket</td>\n",
              "      <td>spotify:track:4G22d4UONZNFc1Dk4GPvc6</td>\n",
              "      <td>1</td>\n",
              "      <td>1</td>\n",
              "      <td>0.650</td>\n",
              "      <td>0.00343</td>\n",
              "      <td>0.735</td>\n",
              "      <td>0.3320</td>\n",
              "      <td>-10.367</td>\n",
              "      <td>126.989</td>\n",
              "      <td>0.801</td>\n",
              "      <td>0.000006</td>\n",
              "      <td>0.0326</td>\n",
              "      <td>302002</td>\n",
              "      <td>4</td>\n",
              "      <td>20</td>\n",
              "    </tr>\n",
              "    <tr>\n",
              "      <th>11</th>\n",
              "      <td>Sambil Menggandeng Erat Tanganku</td>\n",
              "      <td>12</td>\n",
              "      <td>5fITh6M3sCMDGYjXmAWWQr</td>\n",
              "      <td>Arah Sang Cinta dan Balasannya</td>\n",
              "      <td>spotify:track:5fITh6M3sCMDGYjXmAWWQr</td>\n",
              "      <td>11</td>\n",
              "      <td>1</td>\n",
              "      <td>0.692</td>\n",
              "      <td>0.06730</td>\n",
              "      <td>0.804</td>\n",
              "      <td>0.1020</td>\n",
              "      <td>-10.511</td>\n",
              "      <td>129.037</td>\n",
              "      <td>0.961</td>\n",
              "      <td>0.000039</td>\n",
              "      <td>0.0295</td>\n",
              "      <td>272878</td>\n",
              "      <td>4</td>\n",
              "      <td>26</td>\n",
              "    </tr>\n",
              "    <tr>\n",
              "      <th>12</th>\n",
              "      <td>Sambil Menggandeng Erat Tanganku</td>\n",
              "      <td>13</td>\n",
              "      <td>6JUEOP9V9N6qvGweYVR618</td>\n",
              "      <td>Aku Sangat Suka</td>\n",
              "      <td>spotify:track:6JUEOP9V9N6qvGweYVR618</td>\n",
              "      <td>0</td>\n",
              "      <td>1</td>\n",
              "      <td>0.490</td>\n",
              "      <td>0.05900</td>\n",
              "      <td>0.765</td>\n",
              "      <td>0.3460</td>\n",
              "      <td>-10.728</td>\n",
              "      <td>92.977</td>\n",
              "      <td>0.728</td>\n",
              "      <td>0.000002</td>\n",
              "      <td>0.0352</td>\n",
              "      <td>256557</td>\n",
              "      <td>4</td>\n",
              "      <td>22</td>\n",
              "    </tr>\n",
              "    <tr>\n",
              "      <th>13</th>\n",
              "      <td>Sambil Menggandeng Erat Tanganku</td>\n",
              "      <td>14</td>\n",
              "      <td>0Eqh5OgF8zDrFTP3TH1eWz</td>\n",
              "      <td>Tali Persahabatan</td>\n",
              "      <td>spotify:track:0Eqh5OgF8zDrFTP3TH1eWz</td>\n",
              "      <td>6</td>\n",
              "      <td>0</td>\n",
              "      <td>0.512</td>\n",
              "      <td>0.01410</td>\n",
              "      <td>0.700</td>\n",
              "      <td>0.3830</td>\n",
              "      <td>-9.855</td>\n",
              "      <td>156.003</td>\n",
              "      <td>0.764</td>\n",
              "      <td>0.000000</td>\n",
              "      <td>0.0410</td>\n",
              "      <td>216136</td>\n",
              "      <td>4</td>\n",
              "      <td>19</td>\n",
              "    </tr>\n",
              "    <tr>\n",
              "      <th>14</th>\n",
              "      <td>Sambil Menggandeng Erat Tanganku</td>\n",
              "      <td>15</td>\n",
              "      <td>2FRQwszGqh5bVcMStIM7iA</td>\n",
              "      <td>Malam Hari Selasa</td>\n",
              "      <td>spotify:track:2FRQwszGqh5bVcMStIM7iA</td>\n",
              "      <td>10</td>\n",
              "      <td>1</td>\n",
              "      <td>0.529</td>\n",
              "      <td>0.00999</td>\n",
              "      <td>0.816</td>\n",
              "      <td>0.3570</td>\n",
              "      <td>-9.887</td>\n",
              "      <td>153.036</td>\n",
              "      <td>0.727</td>\n",
              "      <td>0.000000</td>\n",
              "      <td>0.0563</td>\n",
              "      <td>276161</td>\n",
              "      <td>4</td>\n",
              "      <td>19</td>\n",
              "    </tr>\n",
              "    <tr>\n",
              "      <th>15</th>\n",
              "      <td>Sambil Menggandeng Erat Tanganku</td>\n",
              "      <td>16</td>\n",
              "      <td>4BhaqBmF4CylMsdP0ARzRO</td>\n",
              "      <td>Di Tempat yang Jauh pun</td>\n",
              "      <td>spotify:track:4BhaqBmF4CylMsdP0ARzRO</td>\n",
              "      <td>2</td>\n",
              "      <td>1</td>\n",
              "      <td>0.646</td>\n",
              "      <td>0.87300</td>\n",
              "      <td>0.200</td>\n",
              "      <td>0.1040</td>\n",
              "      <td>-13.085</td>\n",
              "      <td>136.083</td>\n",
              "      <td>0.446</td>\n",
              "      <td>0.000000</td>\n",
              "      <td>0.0301</td>\n",
              "      <td>352679</td>\n",
              "      <td>4</td>\n",
              "      <td>24</td>\n",
              "    </tr>\n",
              "    <tr>\n",
              "      <th>16</th>\n",
              "      <td>Tadaima Renaichuu</td>\n",
              "      <td>1</td>\n",
              "      <td>2ZZb1KxDrgG8Eudlz9tvcW</td>\n",
              "      <td>Sekarang Sedang Jatuh Cinta</td>\n",
              "      <td>spotify:track:2ZZb1KxDrgG8Eudlz9tvcW</td>\n",
              "      <td>4</td>\n",
              "      <td>1</td>\n",
              "      <td>0.537</td>\n",
              "      <td>0.08270</td>\n",
              "      <td>0.830</td>\n",
              "      <td>0.0655</td>\n",
              "      <td>-6.201</td>\n",
              "      <td>165.937</td>\n",
              "      <td>0.904</td>\n",
              "      <td>0.000000</td>\n",
              "      <td>0.0795</td>\n",
              "      <td>282360</td>\n",
              "      <td>4</td>\n",
              "      <td>21</td>\n",
              "    </tr>\n",
              "    <tr>\n",
              "      <th>17</th>\n",
              "      <td>Tadaima Renaichuu</td>\n",
              "      <td>2</td>\n",
              "      <td>58Q6v2XVCukU3RovLLTpFZ</td>\n",
              "      <td>Boneka Teddy Bear</td>\n",
              "      <td>spotify:track:58Q6v2XVCukU3RovLLTpFZ</td>\n",
              "      <td>4</td>\n",
              "      <td>1</td>\n",
              "      <td>0.409</td>\n",
              "      <td>0.00426</td>\n",
              "      <td>0.559</td>\n",
              "      <td>0.0581</td>\n",
              "      <td>-9.437</td>\n",
              "      <td>113.092</td>\n",
              "      <td>0.755</td>\n",
              "      <td>0.000000</td>\n",
              "      <td>0.0393</td>\n",
              "      <td>250296</td>\n",
              "      <td>3</td>\n",
              "      <td>19</td>\n",
              "    </tr>\n",
              "    <tr>\n",
              "      <th>18</th>\n",
              "      <td>Tadaima Renaichuu</td>\n",
              "      <td>3</td>\n",
              "      <td>55ru893ySTy7Ot2uJoD9ZR</td>\n",
              "      <td>Only Today</td>\n",
              "      <td>spotify:track:55ru893ySTy7Ot2uJoD9ZR</td>\n",
              "      <td>4</td>\n",
              "      <td>1</td>\n",
              "      <td>0.499</td>\n",
              "      <td>0.08480</td>\n",
              "      <td>0.858</td>\n",
              "      <td>0.1210</td>\n",
              "      <td>-6.819</td>\n",
              "      <td>164.031</td>\n",
              "      <td>0.811</td>\n",
              "      <td>0.000000</td>\n",
              "      <td>0.0346</td>\n",
              "      <td>263112</td>\n",
              "      <td>4</td>\n",
              "      <td>28</td>\n",
              "    </tr>\n",
              "    <tr>\n",
              "      <th>19</th>\n",
              "      <td>Tadaima Renaichuu</td>\n",
              "      <td>4</td>\n",
              "      <td>1lDNAHck7TAhHCXtghpyDK</td>\n",
              "      <td>Cinta Pertama di Jam 7 Lewat 12</td>\n",
              "      <td>spotify:track:1lDNAHck7TAhHCXtghpyDK</td>\n",
              "      <td>7</td>\n",
              "      <td>1</td>\n",
              "      <td>0.695</td>\n",
              "      <td>0.08450</td>\n",
              "      <td>0.645</td>\n",
              "      <td>0.3660</td>\n",
              "      <td>-8.308</td>\n",
              "      <td>119.946</td>\n",
              "      <td>0.479</td>\n",
              "      <td>0.000000</td>\n",
              "      <td>0.0363</td>\n",
              "      <td>292056</td>\n",
              "      <td>4</td>\n",
              "      <td>26</td>\n",
              "    </tr>\n",
              "  </tbody>\n",
              "</table>\n",
              "</div>\n",
              "      <button class=\"colab-df-convert\" onclick=\"convertToInteractive('df-c9dcffca-8ee2-4210-bed2-f3d5d95016d8')\"\n",
              "              title=\"Convert this dataframe to an interactive table.\"\n",
              "              style=\"display:none;\">\n",
              "        \n",
              "  <svg xmlns=\"http://www.w3.org/2000/svg\" height=\"24px\"viewBox=\"0 0 24 24\"\n",
              "       width=\"24px\">\n",
              "    <path d=\"M0 0h24v24H0V0z\" fill=\"none\"/>\n",
              "    <path d=\"M18.56 5.44l.94 2.06.94-2.06 2.06-.94-2.06-.94-.94-2.06-.94 2.06-2.06.94zm-11 1L8.5 8.5l.94-2.06 2.06-.94-2.06-.94L8.5 2.5l-.94 2.06-2.06.94zm10 10l.94 2.06.94-2.06 2.06-.94-2.06-.94-.94-2.06-.94 2.06-2.06.94z\"/><path d=\"M17.41 7.96l-1.37-1.37c-.4-.4-.92-.59-1.43-.59-.52 0-1.04.2-1.43.59L10.3 9.45l-7.72 7.72c-.78.78-.78 2.05 0 2.83L4 21.41c.39.39.9.59 1.41.59.51 0 1.02-.2 1.41-.59l7.78-7.78 2.81-2.81c.8-.78.8-2.07 0-2.86zM5.41 20L4 18.59l7.72-7.72 1.47 1.35L5.41 20z\"/>\n",
              "  </svg>\n",
              "      </button>\n",
              "      \n",
              "  <style>\n",
              "    .colab-df-container {\n",
              "      display:flex;\n",
              "      flex-wrap:wrap;\n",
              "      gap: 12px;\n",
              "    }\n",
              "\n",
              "    .colab-df-convert {\n",
              "      background-color: #E8F0FE;\n",
              "      border: none;\n",
              "      border-radius: 50%;\n",
              "      cursor: pointer;\n",
              "      display: none;\n",
              "      fill: #1967D2;\n",
              "      height: 32px;\n",
              "      padding: 0 0 0 0;\n",
              "      width: 32px;\n",
              "    }\n",
              "\n",
              "    .colab-df-convert:hover {\n",
              "      background-color: #E2EBFA;\n",
              "      box-shadow: 0px 1px 2px rgba(60, 64, 67, 0.3), 0px 1px 3px 1px rgba(60, 64, 67, 0.15);\n",
              "      fill: #174EA6;\n",
              "    }\n",
              "\n",
              "    [theme=dark] .colab-df-convert {\n",
              "      background-color: #3B4455;\n",
              "      fill: #D2E3FC;\n",
              "    }\n",
              "\n",
              "    [theme=dark] .colab-df-convert:hover {\n",
              "      background-color: #434B5C;\n",
              "      box-shadow: 0px 1px 3px 1px rgba(0, 0, 0, 0.15);\n",
              "      filter: drop-shadow(0px 1px 2px rgba(0, 0, 0, 0.3));\n",
              "      fill: #FFFFFF;\n",
              "    }\n",
              "  </style>\n",
              "\n",
              "      <script>\n",
              "        const buttonEl =\n",
              "          document.querySelector('#df-c9dcffca-8ee2-4210-bed2-f3d5d95016d8 button.colab-df-convert');\n",
              "        buttonEl.style.display =\n",
              "          google.colab.kernel.accessAllowed ? 'block' : 'none';\n",
              "\n",
              "        async function convertToInteractive(key) {\n",
              "          const element = document.querySelector('#df-c9dcffca-8ee2-4210-bed2-f3d5d95016d8');\n",
              "          const dataTable =\n",
              "            await google.colab.kernel.invokeFunction('convertToInteractive',\n",
              "                                                     [key], {});\n",
              "          if (!dataTable) return;\n",
              "\n",
              "          const docLinkHtml = 'Like what you see? Visit the ' +\n",
              "            '<a target=\"_blank\" href=https://colab.research.google.com/notebooks/data_table.ipynb>data table notebook</a>'\n",
              "            + ' to learn more about interactive tables.';\n",
              "          element.innerHTML = '';\n",
              "          dataTable['output_type'] = 'display_data';\n",
              "          await google.colab.output.renderOutput(dataTable, element);\n",
              "          const docLink = document.createElement('div');\n",
              "          docLink.innerHTML = docLinkHtml;\n",
              "          element.appendChild(docLink);\n",
              "        }\n",
              "      </script>\n",
              "    </div>\n",
              "  </div>\n",
              "  "
            ],
            "text/plain": [
              "                               album  track_number                      id  \\\n",
              "0   Sambil Menggandeng Erat Tanganku             1  7mGO7lGxnJhMWtqERZig8l   \n",
              "1   Sambil Menggandeng Erat Tanganku             2  1TdhewZV5VYPZY1ahpfgBE   \n",
              "2   Sambil Menggandeng Erat Tanganku             3  4fhJ1jFoIapbdiW8aDccHc   \n",
              "3   Sambil Menggandeng Erat Tanganku             4  0eotVbveGVkC4gPvzdvks5   \n",
              "4   Sambil Menggandeng Erat Tanganku             5  2N6KAievdXztAwHzcymJdz   \n",
              "5   Sambil Menggandeng Erat Tanganku             6  1DUrPNEqWWVLYZgBnikiEQ   \n",
              "6   Sambil Menggandeng Erat Tanganku             7  1LRNtjqpe2KVU53TnKkZLm   \n",
              "7   Sambil Menggandeng Erat Tanganku             8  0pI9PVL8ROOIumjjLczqiZ   \n",
              "8   Sambil Menggandeng Erat Tanganku             9  6Idrb4GBzCUGaP7G40G5XT   \n",
              "9   Sambil Menggandeng Erat Tanganku            10  23r4tuEuW62Pv8qT40cstv   \n",
              "10  Sambil Menggandeng Erat Tanganku            11  4G22d4UONZNFc1Dk4GPvc6   \n",
              "11  Sambil Menggandeng Erat Tanganku            12  5fITh6M3sCMDGYjXmAWWQr   \n",
              "12  Sambil Menggandeng Erat Tanganku            13  6JUEOP9V9N6qvGweYVR618   \n",
              "13  Sambil Menggandeng Erat Tanganku            14  0Eqh5OgF8zDrFTP3TH1eWz   \n",
              "14  Sambil Menggandeng Erat Tanganku            15  2FRQwszGqh5bVcMStIM7iA   \n",
              "15  Sambil Menggandeng Erat Tanganku            16  4BhaqBmF4CylMsdP0ARzRO   \n",
              "16                 Tadaima Renaichuu             1  2ZZb1KxDrgG8Eudlz9tvcW   \n",
              "17                 Tadaima Renaichuu             2  58Q6v2XVCukU3RovLLTpFZ   \n",
              "18                 Tadaima Renaichuu             3  55ru893ySTy7Ot2uJoD9ZR   \n",
              "19                 Tadaima Renaichuu             4  1lDNAHck7TAhHCXtghpyDK   \n",
              "\n",
              "                                 name                                   uri  \\\n",
              "0                          Angin Kita  spotify:track:7mGO7lGxnJhMWtqERZig8l   \n",
              "1                         Mango No. 2  spotify:track:1TdhewZV5VYPZY1ahpfgBE   \n",
              "2    Sambil Menggandeng Erat Tanganku  spotify:track:4fhJ1jFoIapbdiW8aDccHc   \n",
              "3        Bel Sekolah adalah Love Song  spotify:track:0eotVbveGVkC4gPvzdvks5   \n",
              "4                          Glory Days  spotify:track:2N6KAievdXztAwHzcymJdz   \n",
              "5                             Barcode  spotify:track:1DUrPNEqWWVLYZgBnikiEQ   \n",
              "6   Ajak Aku Pergi Menuju ke Wimbledo  spotify:track:1LRNtjqpe2KVU53TnKkZLm   \n",
              "7                   Sang Pianis Hujan  spotify:track:0pI9PVL8ROOIumjjLczqiZ   \n",
              "8               Keberadaan Coklat Itu  spotify:track:6Idrb4GBzCUGaP7G40G5XT   \n",
              "9                           Innocence  spotify:track:23r4tuEuW62Pv8qT40cstv   \n",
              "10                     Romance Rocket  spotify:track:4G22d4UONZNFc1Dk4GPvc6   \n",
              "11     Arah Sang Cinta dan Balasannya  spotify:track:5fITh6M3sCMDGYjXmAWWQr   \n",
              "12                    Aku Sangat Suka  spotify:track:6JUEOP9V9N6qvGweYVR618   \n",
              "13                  Tali Persahabatan  spotify:track:0Eqh5OgF8zDrFTP3TH1eWz   \n",
              "14                  Malam Hari Selasa  spotify:track:2FRQwszGqh5bVcMStIM7iA   \n",
              "15            Di Tempat yang Jauh pun  spotify:track:4BhaqBmF4CylMsdP0ARzRO   \n",
              "16        Sekarang Sedang Jatuh Cinta  spotify:track:2ZZb1KxDrgG8Eudlz9tvcW   \n",
              "17                  Boneka Teddy Bear  spotify:track:58Q6v2XVCukU3RovLLTpFZ   \n",
              "18                         Only Today  spotify:track:55ru893ySTy7Ot2uJoD9ZR   \n",
              "19    Cinta Pertama di Jam 7 Lewat 12  spotify:track:1lDNAHck7TAhHCXtghpyDK   \n",
              "\n",
              "    key  mode  danceability  acousticness  energy  liveness  loudness  \\\n",
              "0     5     1         0.554       0.05820   0.583    0.3260   -11.260   \n",
              "1     1     0         0.614       0.21200   0.602    0.0829   -11.706   \n",
              "2     5     1         0.515       0.03440   0.692    0.8020   -10.994   \n",
              "3     7     1         0.452       0.01670   0.625    0.3350   -11.097   \n",
              "4     0     1         0.553       0.08230   0.752    0.0674   -12.588   \n",
              "5     3     0         0.626       0.03230   0.592    0.3700   -11.624   \n",
              "6     7     1         0.611       0.09930   0.689    0.3460   -11.203   \n",
              "7     6     0         0.552       0.00433   0.733    0.3440   -12.251   \n",
              "8     0     1         0.648       0.01650   0.842    0.3260   -11.833   \n",
              "9     1     0         0.638       0.00978   0.736    0.3530   -11.822   \n",
              "10    1     1         0.650       0.00343   0.735    0.3320   -10.367   \n",
              "11   11     1         0.692       0.06730   0.804    0.1020   -10.511   \n",
              "12    0     1         0.490       0.05900   0.765    0.3460   -10.728   \n",
              "13    6     0         0.512       0.01410   0.700    0.3830    -9.855   \n",
              "14   10     1         0.529       0.00999   0.816    0.3570    -9.887   \n",
              "15    2     1         0.646       0.87300   0.200    0.1040   -13.085   \n",
              "16    4     1         0.537       0.08270   0.830    0.0655    -6.201   \n",
              "17    4     1         0.409       0.00426   0.559    0.0581    -9.437   \n",
              "18    4     1         0.499       0.08480   0.858    0.1210    -6.819   \n",
              "19    7     1         0.695       0.08450   0.645    0.3660    -8.308   \n",
              "\n",
              "      tempo  valence  instrumentalness  speechiness  duration_ms  \\\n",
              "0   106.997    0.662          0.000000       0.0343       279708   \n",
              "1   170.008    0.795          0.000000       0.0488       231404   \n",
              "2   163.954    0.642          0.000000       0.0520       264684   \n",
              "3   175.068    0.679          0.000000       0.0429       232121   \n",
              "4   172.056    0.816          0.000000       0.0340       295535   \n",
              "5   135.984    0.789          0.000378       0.0285       280783   \n",
              "6   147.070    0.878          0.000000       0.0315       251513   \n",
              "7   145.026    0.805          0.000000       0.0302       277500   \n",
              "8   125.077    0.744          0.000824       0.0537       286434   \n",
              "9   132.008    0.738          0.000044       0.0493       251274   \n",
              "10  126.989    0.801          0.000006       0.0326       302002   \n",
              "11  129.037    0.961          0.000039       0.0295       272878   \n",
              "12   92.977    0.728          0.000002       0.0352       256557   \n",
              "13  156.003    0.764          0.000000       0.0410       216136   \n",
              "14  153.036    0.727          0.000000       0.0563       276161   \n",
              "15  136.083    0.446          0.000000       0.0301       352679   \n",
              "16  165.937    0.904          0.000000       0.0795       282360   \n",
              "17  113.092    0.755          0.000000       0.0393       250296   \n",
              "18  164.031    0.811          0.000000       0.0346       263112   \n",
              "19  119.946    0.479          0.000000       0.0363       292056   \n",
              "\n",
              "    time_signature  popularity  \n",
              "0                4          27  \n",
              "1                4          25  \n",
              "2                4          32  \n",
              "3                4          31  \n",
              "4                4          28  \n",
              "5                4          22  \n",
              "6                4          26  \n",
              "7                4          25  \n",
              "8                4          21  \n",
              "9                4          24  \n",
              "10               4          20  \n",
              "11               4          26  \n",
              "12               4          22  \n",
              "13               4          19  \n",
              "14               4          19  \n",
              "15               4          24  \n",
              "16               4          21  \n",
              "17               3          19  \n",
              "18               4          28  \n",
              "19               4          26  "
            ]
          },
          "execution_count": 16,
          "metadata": {},
          "output_type": "execute_result"
        }
      ],
      "source": [
        "df_jkt = pd.DataFrame.from_dict(dic_jkt)\n",
        "df_jkt.head(20)"
      ]
    },
    {
      "cell_type": "markdown",
      "metadata": {
        "id": "KB7Ne-RX5R6E"
      },
      "source": [
        "buat dataframe finalnya\n",
        "\n",
        "dengan mengurutkan berdasarkan popularitas dan menghapus duplikasinya"
      ]
    },
    {
      "cell_type": "code",
      "execution_count": null,
      "metadata": {
        "colab": {
          "base_uri": "https://localhost:8080/"
        },
        "id": "iNir5PPr5R6F",
        "outputId": "c5f9560a-a2c6-420f-e731-838262ad3e8c"
      },
      "outputs": [
        {
          "data": {
            "text/plain": [
              "(195, 19)"
            ]
          },
          "execution_count": 17,
          "metadata": {},
          "output_type": "execute_result"
        }
      ],
      "source": [
        "lagu_jkt48 = df_jkt.sort_values('popularity', ascending=False).drop_duplicates('name').sort_index()\n",
        "lagu_jkt48.shape"
      ]
    },
    {
      "cell_type": "markdown",
      "metadata": {
        "id": "sJTdj8q6H4j5"
      },
      "source": [
        "## Save all Dataframe to CSV"
      ]
    },
    {
      "cell_type": "code",
      "execution_count": null,
      "metadata": {
        "id": "V3jh2EekIbhK"
      },
      "outputs": [],
      "source": [
        "# kalau mau di simpan ke dalam csv\n",
        "indo_song_df.to_csv('spotify_song_indonesia.csv', index=False)\n",
        "korean_song_df.to_csv('spotify_song_korea.csv', index=False)\n",
        "japan_song_df.to_csv('spotify_song_japan.csv', index=False)\n",
        "lagu_jkt48.to_csv('lagu_jkt48.csv', index=False)"
      ]
    }
  ],
  "metadata": {
    "colab": {
      "collapsed_sections": [],
      "name": "Spotify Song Data Extraction.ipynb",
      "provenance": [],
      "toc_visible": true
    },
    "kernelspec": {
      "display_name": "Python 3",
      "name": "python3"
    },
    "language_info": {
      "name": "python"
    }
  },
  "nbformat": 4,
  "nbformat_minor": 0
}
